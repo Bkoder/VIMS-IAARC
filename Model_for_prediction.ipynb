{
  "cells": [
    {
      "cell_type": "markdown",
      "metadata": {
        "id": "view-in-github",
        "colab_type": "text"
      },
      "source": [
        "<a href=\"https://colab.research.google.com/github/Bkoder/VIMS-IAARC/blob/main/Model_for_prediction.ipynb\" target=\"_parent\"><img src=\"https://colab.research.google.com/assets/colab-badge.svg\" alt=\"Open In Colab\"/></a>"
      ]
    },
    {
      "cell_type": "code",
      "execution_count": null,
      "metadata": {
        "colab": {
          "base_uri": "https://localhost:8080/"
        },
        "id": "trqAQ6_TVi7w",
        "outputId": "b2483d50-67bb-40b9-e101-da5d3511d154"
      },
      "outputs": [
        {
          "output_type": "stream",
          "name": "stdout",
          "text": [
            "Mounted at /content/drive\n"
          ]
        }
      ],
      "source": [
        "from google.colab import drive\n",
        "drive.mount('/content/drive')"
      ]
    },
    {
      "cell_type": "code",
      "source": [
        "!pip install torchmetrics"
      ],
      "metadata": {
        "colab": {
          "base_uri": "https://localhost:8080/"
        },
        "id": "5GOaaLjMNVea",
        "outputId": "b49808b9-af79-4a54-c9f8-9541be055cd3"
      },
      "execution_count": null,
      "outputs": [
        {
          "output_type": "stream",
          "name": "stdout",
          "text": [
            "Looking in indexes: https://pypi.org/simple, https://us-python.pkg.dev/colab-wheels/public/simple/\n",
            "Collecting torchmetrics\n",
            "  Downloading torchmetrics-0.9.2-py3-none-any.whl (419 kB)\n",
            "\u001b[K     |████████████████████████████████| 419 kB 7.9 MB/s \n",
            "\u001b[?25hRequirement already satisfied: numpy>=1.17.2 in /usr/local/lib/python3.7/dist-packages (from torchmetrics) (1.21.6)\n",
            "Requirement already satisfied: torch>=1.3.1 in /usr/local/lib/python3.7/dist-packages (from torchmetrics) (1.11.0+cu113)\n",
            "Requirement already satisfied: typing-extensions in /usr/local/lib/python3.7/dist-packages (from torchmetrics) (4.1.1)\n",
            "Requirement already satisfied: packaging in /usr/local/lib/python3.7/dist-packages (from torchmetrics) (21.3)\n",
            "Requirement already satisfied: pyparsing!=3.0.5,>=2.0.2 in /usr/local/lib/python3.7/dist-packages (from packaging->torchmetrics) (3.0.9)\n",
            "Installing collected packages: torchmetrics\n",
            "Successfully installed torchmetrics-0.9.2\n"
          ]
        }
      ]
    },
    {
      "cell_type": "code",
      "execution_count": null,
      "metadata": {
        "id": "8sf8sdjpRR8r"
      },
      "outputs": [],
      "source": [
        "import torch\n",
        "import torchvision.models as models\n",
        "import cv2\n",
        "import matplotlib.pyplot as plt\n",
        "import glob as glob \n",
        "import os\n",
        "import torch.nn as nn\n",
        "import torch.nn.functional as F\n",
        "import numpy as np\n",
        "import math\n",
        "import albumentations as A\n",
        "import pandas as pd\n",
        "from PIL import Image\n",
        "from torch.utils.data import DataLoader, Dataset\n",
        "from torchvision.transforms import transforms\n",
        "from tqdm import tqdm\n",
        "import shutil"
      ]
    },
    {
      "cell_type": "code",
      "execution_count": null,
      "metadata": {
        "colab": {
          "base_uri": "https://localhost:8080/"
        },
        "id": "xaL4LoKdRR8s",
        "outputId": "e062b93f-6659-4639-f0a4-08d3f5d15dff"
      },
      "outputs": [
        {
          "output_type": "stream",
          "name": "stdout",
          "text": [
            "1.11.0+cu113\n"
          ]
        }
      ],
      "source": [
        "print(torch.__version__)"
      ]
    },
    {
      "cell_type": "code",
      "execution_count": null,
      "metadata": {
        "colab": {
          "base_uri": "https://localhost:8080/"
        },
        "id": "QObEF1q2RR8t",
        "outputId": "30be55bb-f857-42d6-a0bf-d7f7c5cc9826"
      },
      "outputs": [
        {
          "output_type": "execute_result",
          "data": {
            "text/plain": [
              "device(type='cuda')"
            ]
          },
          "metadata": {},
          "execution_count": 3
        }
      ],
      "source": [
        "device = torch.device('cuda' if torch.cuda.is_available() else 'cpu')\n",
        "device"
      ]
    },
    {
      "cell_type": "code",
      "execution_count": null,
      "metadata": {
        "id": "FYc5tkT9RR8t"
      },
      "outputs": [],
      "source": [
        "# learning parameters\n",
        "epochs = 300\n",
        "batch_size = 32"
      ]
    },
    {
      "cell_type": "code",
      "execution_count": null,
      "metadata": {
        "id": "IPoNBsHiSF9m"
      },
      "outputs": [],
      "source": [
        "import torch.nn as nn\n",
        "import torch\n",
        "\n",
        "\n",
        "class InitialBlock(nn.Module):\n",
        "    \"\"\"The initial block is composed of two branches:\n",
        "    1. a main branch which performs a regular convolution with stride 2;\n",
        "    2. an extension branch which performs max-pooling.\n",
        "    Doing both operations in parallel and concatenating their results\n",
        "    allows for efficient downsampling and expansion. The main branch\n",
        "    outputs 13 feature maps while the extension branch outputs 3, for a\n",
        "    total of 16 feature maps after concatenation.\n",
        "    Keyword arguments:\n",
        "    - in_channels (int): the number of input channels.\n",
        "    - out_channels (int): the number output channels.\n",
        "    - kernel_size (int, optional): the kernel size of the filters used in\n",
        "    the convolution layer. Default: 3.\n",
        "    - padding (int, optional): zero-padding added to both sides of the\n",
        "    input. Default: 0.\n",
        "    - bias (bool, optional): Adds a learnable bias to the output if\n",
        "    ``True``. Default: False.\n",
        "    - relu (bool, optional): When ``True`` ReLU is used as the activation\n",
        "    function; otherwise, PReLU is used. Default: True.\n",
        "    \"\"\"\n",
        "\n",
        "    def __init__(self,\n",
        "                 in_channels,\n",
        "                 out_channels,\n",
        "                 bias=False,\n",
        "                 relu=True):\n",
        "        super().__init__()\n",
        "\n",
        "        if relu:\n",
        "            activation = nn.ReLU\n",
        "        else:\n",
        "            activation = nn.PReLU\n",
        "\n",
        "        # Main branch - As stated above the number of output channels for this\n",
        "        # branch is the total minus 3, since the remaining channels come from\n",
        "        # the extension branch\n",
        "        self.main_branch = nn.Conv2d(\n",
        "            in_channels,\n",
        "            out_channels - 3,\n",
        "            kernel_size=3,\n",
        "            stride=2,\n",
        "            padding=1,\n",
        "            bias=bias)\n",
        "\n",
        "        # Extension branch\n",
        "        self.ext_branch = nn.MaxPool2d(3, stride=2, padding=1)\n",
        "\n",
        "        # Initialize batch normalization to be used after concatenation\n",
        "        self.batch_norm = nn.BatchNorm2d(out_channels)\n",
        "\n",
        "        # PReLU layer to apply after concatenating the branches\n",
        "        self.out_activation = activation()\n",
        "\n",
        "    def forward(self, x):\n",
        "        main = self.main_branch(x)\n",
        "        ext = self.ext_branch(x)\n",
        "\n",
        "        # Concatenate branches\n",
        "        out = torch.cat((main, ext), 1)\n",
        "\n",
        "        # Apply batch normalization\n",
        "        out = self.batch_norm(out)\n",
        "\n",
        "        return self.out_activation(out)\n",
        "\n",
        "\n",
        "class RegularBottleneck(nn.Module):\n",
        "    \"\"\"Regular bottlenecks are the main building block of ENet.\n",
        "    Main branch:\n",
        "    1. Shortcut connection.\n",
        "    Extension branch:\n",
        "    1. 1x1 convolution which decreases the number of channels by\n",
        "    ``internal_ratio``, also called a projection;\n",
        "    2. regular, dilated or asymmetric convolution;\n",
        "    3. 1x1 convolution which increases the number of channels back to\n",
        "    ``channels``, also called an expansion;\n",
        "    4. dropout as a regularizer.\n",
        "    Keyword arguments:\n",
        "    - channels (int): the number of input and output channels.\n",
        "    - internal_ratio (int, optional): a scale factor applied to\n",
        "    ``channels`` used to compute the number of\n",
        "    channels after the projection. eg. given ``channels`` equal to 128 and\n",
        "    internal_ratio equal to 2 the number of channels after the projection\n",
        "    is 64. Default: 4.\n",
        "    - kernel_size (int, optional): the kernel size of the filters used in\n",
        "    the convolution layer described above in item 2 of the extension\n",
        "    branch. Default: 3.\n",
        "    - padding (int, optional): zero-padding added to both sides of the\n",
        "    input. Default: 0.\n",
        "    - dilation (int, optional): spacing between kernel elements for the\n",
        "    convolution described in item 2 of the extension branch. Default: 1.\n",
        "    asymmetric (bool, optional): flags if the convolution described in\n",
        "    item 2 of the extension branch is asymmetric or not. Default: False.\n",
        "    - dropout_prob (float, optional): probability of an element to be\n",
        "    zeroed. Default: 0 (no dropout).\n",
        "    - bias (bool, optional): Adds a learnable bias to the output if\n",
        "    ``True``. Default: False.\n",
        "    - relu (bool, optional): When ``True`` ReLU is used as the activation\n",
        "    function; otherwise, PReLU is used. Default: True.\n",
        "    \"\"\"\n",
        "\n",
        "    def __init__(self,\n",
        "                 channels,\n",
        "                 internal_ratio=4,\n",
        "                 kernel_size=3,\n",
        "                 padding=0,\n",
        "                 dilation=1,\n",
        "                 asymmetric=False,\n",
        "                 dropout_prob=0,\n",
        "                 bias=False,\n",
        "                 relu=True):\n",
        "        super().__init__()\n",
        "\n",
        "        # Check in the internal_scale parameter is within the expected range\n",
        "        # [1, channels]\n",
        "        if internal_ratio <= 1 or internal_ratio > channels:\n",
        "            raise RuntimeError(\"Value out of range. Expected value in the \"\n",
        "                               \"interval [1, {0}], got internal_scale={1}.\"\n",
        "                               .format(channels, internal_ratio))\n",
        "\n",
        "        internal_channels = channels // internal_ratio\n",
        "\n",
        "        if relu:\n",
        "            activation = nn.ReLU\n",
        "        else:\n",
        "            activation = nn.PReLU\n",
        "\n",
        "        # Main branch - shortcut connection\n",
        "\n",
        "        # Extension branch - 1x1 convolution, followed by a regular, dilated or\n",
        "        # asymmetric convolution, followed by another 1x1 convolution, and,\n",
        "        # finally, a regularizer (spatial dropout). Number of channels is constant.\n",
        "\n",
        "        # 1x1 projection convolution\n",
        "        self.ext_conv1 = nn.Sequential(\n",
        "            nn.Conv2d(\n",
        "                channels,\n",
        "                internal_channels,\n",
        "                kernel_size=1,\n",
        "                stride=1,\n",
        "                bias=bias), nn.BatchNorm2d(internal_channels), activation())\n",
        "\n",
        "        # If the convolution is asymmetric we split the main convolution in\n",
        "        # two. Eg. for a 5x5 asymmetric convolution we have two convolution:\n",
        "        # the first is 5x1 and the second is 1x5.\n",
        "        if asymmetric:\n",
        "            self.ext_conv2 = nn.Sequential(\n",
        "                nn.Conv2d(\n",
        "                    internal_channels,\n",
        "                    internal_channels,\n",
        "                    kernel_size=(kernel_size, 1),\n",
        "                    stride=1,\n",
        "                    padding=(padding, 0),\n",
        "                    dilation=dilation,\n",
        "                    bias=bias), nn.BatchNorm2d(internal_channels), activation(),\n",
        "                nn.Conv2d(\n",
        "                    internal_channels,\n",
        "                    internal_channels,\n",
        "                    kernel_size=(1, kernel_size),\n",
        "                    stride=1,\n",
        "                    padding=(0, padding),\n",
        "                    dilation=dilation,\n",
        "                    bias=bias), nn.BatchNorm2d(internal_channels), activation())\n",
        "        else:\n",
        "            self.ext_conv2 = nn.Sequential(\n",
        "                nn.Conv2d(\n",
        "                    internal_channels,\n",
        "                    internal_channels,\n",
        "                    kernel_size=kernel_size,\n",
        "                    stride=1,\n",
        "                    padding=padding,\n",
        "                    dilation=dilation,\n",
        "                    bias=bias), nn.BatchNorm2d(internal_channels), activation())\n",
        "\n",
        "        # 1x1 expansion convolution\n",
        "        self.ext_conv3 = nn.Sequential(\n",
        "            nn.Conv2d(\n",
        "                internal_channels,\n",
        "                channels,\n",
        "                kernel_size=1,\n",
        "                stride=1,\n",
        "                bias=bias), nn.BatchNorm2d(channels), activation())\n",
        "\n",
        "        self.ext_regul = nn.Dropout2d(p=dropout_prob)\n",
        "\n",
        "        # PReLU layer to apply after adding the branches\n",
        "        self.out_activation = activation()\n",
        "\n",
        "    def forward(self, x):\n",
        "        # Main branch shortcut\n",
        "        main = x\n",
        "\n",
        "        # Extension branch\n",
        "        ext = self.ext_conv1(x)\n",
        "        ext = self.ext_conv2(ext)\n",
        "        ext = self.ext_conv3(ext)\n",
        "        ext = self.ext_regul(ext)\n",
        "\n",
        "        # Add main and extension branches\n",
        "        out = main + ext\n",
        "\n",
        "        return self.out_activation(out)\n",
        "\n",
        "\n",
        "class DownsamplingBottleneck(nn.Module):\n",
        "    \"\"\"Downsampling bottlenecks further downsample the feature map size.\n",
        "    Main branch:\n",
        "    1. max pooling with stride 2; indices are saved to be used for\n",
        "    unpooling later.\n",
        "    Extension branch:\n",
        "    1. 2x2 convolution with stride 2 that decreases the number of channels\n",
        "    by ``internal_ratio``, also called a projection;\n",
        "    2. regular convolution (by default, 3x3);\n",
        "    3. 1x1 convolution which increases the number of channels to\n",
        "    ``out_channels``, also called an expansion;\n",
        "    4. dropout as a regularizer.\n",
        "    Keyword arguments:\n",
        "    - in_channels (int): the number of input channels.\n",
        "    - out_channels (int): the number of output channels.\n",
        "    - internal_ratio (int, optional): a scale factor applied to ``channels``\n",
        "    used to compute the number of channels after the projection. eg. given\n",
        "    ``channels`` equal to 128 and internal_ratio equal to 2 the number of\n",
        "    channels after the projection is 64. Default: 4.\n",
        "    - return_indices (bool, optional):  if ``True``, will return the max\n",
        "    indices along with the outputs. Useful when unpooling later.\n",
        "    - dropout_prob (float, optional): probability of an element to be\n",
        "    zeroed. Default: 0 (no dropout).\n",
        "    - bias (bool, optional): Adds a learnable bias to the output if\n",
        "    ``True``. Default: False.\n",
        "    - relu (bool, optional): When ``True`` ReLU is used as the activation\n",
        "    function; otherwise, PReLU is used. Default: True.\n",
        "    \"\"\"\n",
        "\n",
        "    def __init__(self,\n",
        "                 in_channels,\n",
        "                 out_channels,\n",
        "                 internal_ratio=4,\n",
        "                 return_indices=False,\n",
        "                 dropout_prob=0,\n",
        "                 bias=False,\n",
        "                 relu=True):\n",
        "        super().__init__()\n",
        "\n",
        "        # Store parameters that are needed later\n",
        "        self.return_indices = return_indices\n",
        "\n",
        "        # Check in the internal_scale parameter is within the expected range\n",
        "        # [1, channels]\n",
        "        if internal_ratio <= 1 or internal_ratio > in_channels:\n",
        "            raise RuntimeError(\"Value out of range. Expected value in the \"\n",
        "                               \"interval [1, {0}], got internal_scale={1}. \"\n",
        "                               .format(in_channels, internal_ratio))\n",
        "\n",
        "        internal_channels = in_channels // internal_ratio\n",
        "\n",
        "        if relu:\n",
        "            activation = nn.ReLU\n",
        "        else:\n",
        "            activation = nn.PReLU\n",
        "\n",
        "        # Main branch - max pooling followed by feature map (channels) padding\n",
        "        self.main_max1 = nn.MaxPool2d(\n",
        "            2,\n",
        "            stride=2,\n",
        "            return_indices=return_indices)\n",
        "\n",
        "        # Extension branch - 2x2 convolution, followed by a regular, dilated or\n",
        "        # asymmetric convolution, followed by another 1x1 convolution. Number\n",
        "        # of channels is doubled.\n",
        "\n",
        "        # 2x2 projection convolution with stride 2\n",
        "        self.ext_conv1 = nn.Sequential(\n",
        "            nn.Conv2d(\n",
        "                in_channels,\n",
        "                internal_channels,\n",
        "                kernel_size=2,\n",
        "                stride=2,\n",
        "                bias=bias), nn.BatchNorm2d(internal_channels), activation())\n",
        "\n",
        "        # Convolution\n",
        "        self.ext_conv2 = nn.Sequential(\n",
        "            nn.Conv2d(\n",
        "                internal_channels,\n",
        "                internal_channels,\n",
        "                kernel_size=3,\n",
        "                stride=1,\n",
        "                padding=1,\n",
        "                bias=bias), nn.BatchNorm2d(internal_channels), activation())\n",
        "\n",
        "        # 1x1 expansion convolution\n",
        "        self.ext_conv3 = nn.Sequential(\n",
        "            nn.Conv2d(\n",
        "                internal_channels,\n",
        "                out_channels,\n",
        "                kernel_size=1,\n",
        "                stride=1,\n",
        "                bias=bias), nn.BatchNorm2d(out_channels), activation())\n",
        "\n",
        "        self.ext_regul = nn.Dropout2d(p=dropout_prob)\n",
        "\n",
        "        # PReLU layer to apply after concatenating the branches\n",
        "        self.out_activation = activation()\n",
        "\n",
        "    def forward(self, x):\n",
        "        # Main branch shortcut\n",
        "        if self.return_indices:\n",
        "            main, max_indices = self.main_max1(x)\n",
        "        else:\n",
        "            main = self.main_max1(x)\n",
        "\n",
        "        # Extension branch\n",
        "        ext = self.ext_conv1(x)\n",
        "        ext = self.ext_conv2(ext)\n",
        "        ext = self.ext_conv3(ext)\n",
        "        ext = self.ext_regul(ext)\n",
        "\n",
        "        # Main branch channel padding\n",
        "        n, ch_ext, h, w = ext.size()\n",
        "        ch_main = main.size()[1]\n",
        "        padding = torch.zeros(n, ch_ext - ch_main, h, w)\n",
        "\n",
        "        # Before concatenating, check if main is on the CPU or GPU and\n",
        "        # convert padding accordingly\n",
        "        if main.is_cuda:\n",
        "            padding = padding.cuda()\n",
        "\n",
        "        # Concatenate\n",
        "        main = torch.cat((main, padding), 1)\n",
        "\n",
        "        # Add main and extension branches\n",
        "        out = main + ext\n",
        "\n",
        "        return self.out_activation(out), max_indices\n",
        "\n",
        "\n",
        "class UpsamplingBottleneck(nn.Module):\n",
        "    \"\"\"The upsampling bottlenecks upsample the feature map resolution using max\n",
        "    pooling indices stored from the corresponding downsampling bottleneck.\n",
        "    Main branch:\n",
        "    1. 1x1 convolution with stride 1 that decreases the number of channels by\n",
        "    ``internal_ratio``, also called a projection;\n",
        "    2. max unpool layer using the max pool indices from the corresponding\n",
        "    downsampling max pool layer.\n",
        "    Extension branch:\n",
        "    1. 1x1 convolution with stride 1 that decreases the number of channels by\n",
        "    ``internal_ratio``, also called a projection;\n",
        "    2. transposed convolution (by default, 3x3);\n",
        "    3. 1x1 convolution which increases the number of channels to\n",
        "    ``out_channels``, also called an expansion;\n",
        "    4. dropout as a regularizer.\n",
        "    Keyword arguments:\n",
        "    - in_channels (int): the number of input channels.\n",
        "    - out_channels (int): the number of output channels.\n",
        "    - internal_ratio (int, optional): a scale factor applied to ``in_channels``\n",
        "     used to compute the number of channels after the projection. eg. given\n",
        "     ``in_channels`` equal to 128 and ``internal_ratio`` equal to 2 the number\n",
        "     of channels after the projection is 64. Default: 4.\n",
        "    - dropout_prob (float, optional): probability of an element to be zeroed.\n",
        "    Default: 0 (no dropout).\n",
        "    - bias (bool, optional): Adds a learnable bias to the output if ``True``.\n",
        "    Default: False.\n",
        "    - relu (bool, optional): When ``True`` ReLU is used as the activation\n",
        "    function; otherwise, PReLU is used. Default: True.\n",
        "    \"\"\"\n",
        "\n",
        "    def __init__(self,\n",
        "                 in_channels,\n",
        "                 out_channels,\n",
        "                 internal_ratio=4,\n",
        "                 dropout_prob=0,\n",
        "                 bias=False,\n",
        "                 relu=True):\n",
        "        super().__init__()\n",
        "\n",
        "        # Check in the internal_scale parameter is within the expected range\n",
        "        # [1, channels]\n",
        "        if internal_ratio <= 1 or internal_ratio > in_channels:\n",
        "            raise RuntimeError(\"Value out of range. Expected value in the \"\n",
        "                               \"interval [1, {0}], got internal_scale={1}. \"\n",
        "                               .format(in_channels, internal_ratio))\n",
        "\n",
        "        internal_channels = in_channels // internal_ratio\n",
        "\n",
        "        if relu:\n",
        "            activation = nn.ReLU\n",
        "        else:\n",
        "            activation = nn.PReLU\n",
        "\n",
        "        # Main branch - max pooling followed by feature map (channels) padding\n",
        "        self.main_conv1 = nn.Sequential(\n",
        "            nn.Conv2d(in_channels, out_channels, kernel_size=1, bias=bias),\n",
        "            nn.BatchNorm2d(out_channels))\n",
        "\n",
        "        # Remember that the stride is the same as the kernel_size, just like\n",
        "        # the max pooling layers\n",
        "        self.main_unpool1 = nn.MaxUnpool2d(kernel_size=2)\n",
        "\n",
        "        # Extension branch - 1x1 convolution, followed by a regular, dilated or\n",
        "        # asymmetric convolution, followed by another 1x1 convolution. Number\n",
        "        # of channels is doubled.\n",
        "\n",
        "        # 1x1 projection convolution with stride 1\n",
        "        self.ext_conv1 = nn.Sequential(\n",
        "            nn.Conv2d(\n",
        "                in_channels, internal_channels, kernel_size=1, bias=bias),\n",
        "            nn.BatchNorm2d(internal_channels), activation())\n",
        "\n",
        "        # Transposed convolution\n",
        "        self.ext_tconv1 = nn.ConvTranspose2d(\n",
        "            internal_channels,\n",
        "            internal_channels,\n",
        "            kernel_size=2,\n",
        "            stride=2,\n",
        "            bias=bias)\n",
        "        self.ext_tconv1_bnorm = nn.BatchNorm2d(internal_channels)\n",
        "        self.ext_tconv1_activation = activation()\n",
        "\n",
        "        # 1x1 expansion convolution\n",
        "        self.ext_conv2 = nn.Sequential(\n",
        "            nn.Conv2d(\n",
        "                internal_channels, out_channels, kernel_size=1, bias=bias),\n",
        "            nn.BatchNorm2d(out_channels), activation())\n",
        "\n",
        "        self.ext_regul = nn.Dropout2d(p=dropout_prob)\n",
        "\n",
        "        # PReLU layer to apply after concatenating the branches\n",
        "        self.out_activation = activation()\n",
        "\n",
        "    def forward(self, x, max_indices, output_size):\n",
        "        # Main branch shortcut\n",
        "        main = self.main_conv1(x)\n",
        "        main = self.main_unpool1(\n",
        "            main, max_indices, output_size=output_size)\n",
        "\n",
        "        # Extension branch\n",
        "        ext = self.ext_conv1(x)\n",
        "        ext = self.ext_tconv1(ext, output_size=output_size)\n",
        "        ext = self.ext_tconv1_bnorm(ext)\n",
        "        ext = self.ext_tconv1_activation(ext)\n",
        "        ext = self.ext_conv2(ext)\n",
        "        ext = self.ext_regul(ext)\n",
        "\n",
        "        # Add main and extension branches\n",
        "        out = main + ext\n",
        "\n",
        "        return self.out_activation(out)\n",
        "\n",
        "\n",
        "class Lanenet(nn.Module):\n",
        "    def __init__(self, binary_seg=4, embedding_dim=23, encoder_relu=False, decoder_relu=True):\n",
        "        super(Lanenet, self).__init__()\n",
        "\n",
        "        self.initial_block = InitialBlock(3, 16, relu=encoder_relu)\n",
        "\n",
        "        # Stage 1 share\n",
        "        self.downsample1_0 = DownsamplingBottleneck(16, 64, return_indices=True, dropout_prob=0.01, relu=encoder_relu)\n",
        "        self.regular1_1 = RegularBottleneck(64, padding=1, dropout_prob=0.01, relu=encoder_relu)\n",
        "        self.regular1_2 = RegularBottleneck(64, padding=1, dropout_prob=0.01, relu=encoder_relu)\n",
        "        self.regular1_3 = RegularBottleneck(64, padding=1, dropout_prob=0.01, relu=encoder_relu)\n",
        "        self.regular1_4 = RegularBottleneck(64, padding=1, dropout_prob=0.01, relu=encoder_relu)\n",
        "\n",
        "        # Stage 2 share\n",
        "        self.downsample2_0 = DownsamplingBottleneck(64, 128, return_indices=True, dropout_prob=0.1, relu=encoder_relu)\n",
        "        self.regular2_1 = RegularBottleneck(128, padding=1, dropout_prob=0.1, relu=encoder_relu)\n",
        "        self.dilated2_2 = RegularBottleneck(128, dilation=2, padding=2, dropout_prob=0.1, relu=encoder_relu)\n",
        "        self.asymmetric2_3 = RegularBottleneck(128, kernel_size=5, padding=2, asymmetric=True, dropout_prob=0.1, relu=encoder_relu)\n",
        "        self.dilated2_4 = RegularBottleneck(128, dilation=4, padding=4, dropout_prob=0.1, relu=encoder_relu)\n",
        "        self.regular2_5 = RegularBottleneck(128, padding=1, dropout_prob=0.1, relu=encoder_relu)\n",
        "        self.dilated2_6 = RegularBottleneck(128, dilation=8, padding=8, dropout_prob=0.1, relu=encoder_relu)\n",
        "        self.asymmetric2_7 = RegularBottleneck(128, kernel_size=5, asymmetric=True, padding=2, dropout_prob=0.1, relu=encoder_relu)\n",
        "        self.dilated2_8 = RegularBottleneck(128, dilation=16, padding=16, dropout_prob=0.1, relu=encoder_relu)\n",
        "\n",
        "        # stage 3 binary\n",
        "        self.regular_binary_3_0 = RegularBottleneck(128, padding=1, dropout_prob=0.1, relu=encoder_relu)\n",
        "        self.dilated_binary_3_1 = RegularBottleneck(128, dilation=2, padding=2, dropout_prob=0.1, relu=encoder_relu)\n",
        "        self.asymmetric_binary_3_2 = RegularBottleneck(128, kernel_size=5, padding=2, asymmetric=True, dropout_prob=0.1, relu=encoder_relu)\n",
        "        self.dilated_binary_3_3 = RegularBottleneck(128, dilation=4, padding=4, dropout_prob=0.1, relu=encoder_relu)\n",
        "        self.regular_binary_3_4 = RegularBottleneck(128, padding=1, dropout_prob=0.1, relu=encoder_relu)\n",
        "        self.dilated_binary_3_5 = RegularBottleneck(128, dilation=8, padding=8, dropout_prob=0.1, relu=encoder_relu)\n",
        "        self.asymmetric_binary_3_6 = RegularBottleneck(128, kernel_size=5, asymmetric=True, padding=2, dropout_prob=0.1, relu=encoder_relu)\n",
        "        self.dilated_binary_3_7 = RegularBottleneck(128, dilation=16, padding=16, dropout_prob=0.1, relu=encoder_relu)\n",
        "\n",
        "        # stage 3 embedding\n",
        "        self.regular_embedding_3_0 = RegularBottleneck(128, padding=1, dropout_prob=0.1, relu=encoder_relu)\n",
        "        self.dilated_embedding_3_1 = RegularBottleneck(128, dilation=2, padding=2, dropout_prob=0.1, relu=encoder_relu)\n",
        "        self.asymmetric_embedding_3_2 = RegularBottleneck(128, kernel_size=5, padding=2, asymmetric=True, dropout_prob=0.1, relu=encoder_relu)\n",
        "        self.dilated_embedding_3_3 = RegularBottleneck(128, dilation=4, padding=4, dropout_prob=0.1, relu=encoder_relu)\n",
        "        self.regular_embedding_3_4 = RegularBottleneck(128, padding=1, dropout_prob=0.1, relu=encoder_relu)\n",
        "        self.dilated_embedding_3_5 = RegularBottleneck(128, dilation=8, padding=8, dropout_prob=0.1, relu=encoder_relu)\n",
        "        self.asymmetric_bembedding_3_6 = RegularBottleneck(128, kernel_size=5, asymmetric=True, padding=2, dropout_prob=0.1, relu=encoder_relu)\n",
        "        self.dilated_embedding_3_7 = RegularBottleneck(128, dilation=16, padding=16, dropout_prob=0.1, relu=encoder_relu)\n",
        "\n",
        "        # binary branch\n",
        "        self.upsample_binary_4_0 = UpsamplingBottleneck(128, 64, dropout_prob=0.1, relu=decoder_relu)\n",
        "        self.regular_binary_4_1 = RegularBottleneck(64, padding=1, dropout_prob=0.1, relu=decoder_relu)\n",
        "        self.regular_binary_4_2 = RegularBottleneck(64, padding=1, dropout_prob=0.1, relu=decoder_relu)\n",
        "        self.upsample_binary_5_0 = UpsamplingBottleneck(64, 16, dropout_prob=0.1, relu=decoder_relu)\n",
        "        self.regular_binary_5_1 = RegularBottleneck(16, padding=1, dropout_prob=0.1, relu=decoder_relu)\n",
        "        self.binary_transposed_conv = nn.ConvTranspose2d(16, binary_seg, kernel_size=3, stride=2, padding=1, bias=False)\n",
        "\n",
        "        # embedding branch\n",
        "        self.upsample_embedding_4_0 = UpsamplingBottleneck(128, 64, dropout_prob=0.1, relu=decoder_relu)\n",
        "        self.regular_embedding_4_1 = RegularBottleneck(64, padding=1, dropout_prob=0.1, relu=decoder_relu)\n",
        "        self.regular_embedding_4_2 = RegularBottleneck(64, padding=1, dropout_prob=0.1, relu=decoder_relu)\n",
        "        self.upsample_embedding_5_0 = UpsamplingBottleneck(64, 16, dropout_prob=0.1, relu=decoder_relu)\n",
        "        self.regular_embedding_5_1 = RegularBottleneck(16, padding=1, dropout_prob=0.1, relu=decoder_relu)\n",
        "        self.embedding_transposed_conv = nn.ConvTranspose2d(16, embedding_dim, kernel_size=3, stride=2, padding=1, bias=False)\n",
        "\n",
        "    def forward(self, x):\n",
        "        # Initial block\n",
        "        input_size = x.size()\n",
        "        x = self.initial_block(x)\n",
        "\n",
        "        # Stage 1 share\n",
        "        stage1_input_size = x.size()\n",
        "        x, max_indices1_0 = self.downsample1_0(x)\n",
        "        x = self.regular1_1(x)\n",
        "        x = self.regular1_2(x)\n",
        "        x = self.regular1_3(x)\n",
        "        x = self.regular1_4(x)\n",
        "\n",
        "        # Stage 2 share\n",
        "        stage2_input_size = x.size()\n",
        "        x, max_indices2_0 = self.downsample2_0(x)\n",
        "        x = self.regular2_1(x)\n",
        "        x = self.dilated2_2(x)\n",
        "        x = self.asymmetric2_3(x)\n",
        "        x = self.dilated2_4(x)\n",
        "        x = self.regular2_5(x)\n",
        "        x = self.dilated2_6(x)\n",
        "        x = self.asymmetric2_7(x)\n",
        "        x = self.dilated2_8(x)\n",
        "\n",
        "        # stage 3 binary\n",
        "        x_binary = self.regular_binary_3_0(x)\n",
        "        x_binary = self.dilated_binary_3_1(x_binary)\n",
        "        x_binary = self.asymmetric_binary_3_2(x_binary)\n",
        "        x_binary = self.dilated_binary_3_3(x_binary)\n",
        "        x_binary = self.regular_binary_3_4(x_binary)\n",
        "        x_binary = self.dilated_binary_3_5(x_binary)\n",
        "        x_binary = self.asymmetric_binary_3_6(x_binary)\n",
        "        x_binary = self.dilated_binary_3_7(x_binary)\n",
        "\n",
        "        # stage 3 embedding\n",
        "        x_embedding = self.regular_embedding_3_0(x)\n",
        "        x_embedding = self.dilated_embedding_3_1(x_embedding)\n",
        "        x_embedding = self.asymmetric_embedding_3_2(x_embedding)\n",
        "        x_embedding = self.dilated_embedding_3_3(x_embedding)\n",
        "        x_embedding = self.regular_embedding_3_4(x_embedding)\n",
        "        x_embedding = self.dilated_embedding_3_5(x_embedding)\n",
        "        x_embedding = self.asymmetric_bembedding_3_6(x_embedding)\n",
        "        x_embedding = self.dilated_embedding_3_7(x_embedding)\n",
        "\n",
        "        # binary branch\n",
        "        x_binary = self.upsample_binary_4_0(x_binary, max_indices2_0, output_size=stage2_input_size)\n",
        "        x_binary = self.regular_binary_4_1(x_binary)\n",
        "        x_binary = self.regular_binary_4_2(x_binary)\n",
        "        x_binary = self.upsample_binary_5_0(x_binary, max_indices1_0, output_size=stage1_input_size)\n",
        "        x_binary = self.regular_binary_5_1(x_binary)\n",
        "        binary_final_logits = self.binary_transposed_conv(x_binary, output_size=input_size)\n",
        "\n",
        "        #embedding branch\n",
        "        x_embedding = self.upsample_embedding_4_0(x_embedding, max_indices2_0, output_size=stage2_input_size)\n",
        "        x_embedding = self.regular_embedding_4_1(x_embedding)\n",
        "        x_embedding = self.regular_embedding_4_2(x_embedding)\n",
        "        x_embedding = self.upsample_embedding_5_0(x_embedding, max_indices1_0, output_size=stage1_input_size)\n",
        "        x_embedding = self.regular_embedding_5_1(x_embedding)\n",
        "        instance_notfinal_logits = self.embedding_transposed_conv(x_embedding, output_size=input_size)\n",
        "\n",
        "        return binary_final_logits"
      ]
    },
    {
      "cell_type": "markdown",
      "metadata": {
        "id": "vQdbNMjJRR80"
      },
      "source": [
        "## <u>Dataset and DataLoader</u>"
      ]
    },
    {
      "cell_type": "code",
      "source": [
        "paths = os.listdir('/content/drive/Shareddrives/hackathon/Training datasets only/masks')"
      ],
      "metadata": {
        "id": "cgTIaH78NbMz"
      },
      "execution_count": null,
      "outputs": []
    },
    {
      "cell_type": "code",
      "source": [
        "paths"
      ],
      "metadata": {
        "colab": {
          "base_uri": "https://localhost:8080/"
        },
        "id": "d0UiUBvq9N3W",
        "outputId": "08d3a5eb-4e6b-45cf-ceaa-868a5f3a3185"
      },
      "execution_count": null,
      "outputs": [
        {
          "output_type": "execute_result",
          "data": {
            "text/plain": [
              "['.ipynb_checkpoints', 'wire', 'pvc', 'Bricks', 'Cementitious Debris', 'Rebar']"
            ]
          },
          "metadata": {},
          "execution_count": 18
        }
      ]
    },
    {
      "cell_type": "code",
      "source": [
        "wire = glob.glob('/content/drive/Shareddrives/hackathon/Training datasets only/masks/wire/*.png')\n",
        "pvc = glob.glob('/content/drive/Shareddrives/hackathon/Training datasets only/masks/pvc/*.png')\n",
        "rebar = glob.glob('/content/drive/Shareddrives/hackathon/Training datasets only/masks/Rebar/*.jpg')\n",
        "cd = glob.glob('/content/drive/Shareddrives/hackathon/Training datasets only/masks/Cementitious Debris/*.png')\n",
        "brick = glob.glob('/content/drive/Shareddrives/hackathon/Training datasets only/masks/Bricks/*.png')"
      ],
      "metadata": {
        "id": "Dx48DIsF9zUi"
      },
      "execution_count": null,
      "outputs": []
    },
    {
      "cell_type": "code",
      "source": [
        "all_paths = wire + pvc + rebar + cd + brick"
      ],
      "metadata": {
        "id": "KOh8dG-l-YE_"
      },
      "execution_count": null,
      "outputs": []
    },
    {
      "cell_type": "code",
      "source": [
        "import random\n",
        "random.shuffle(all_paths)"
      ],
      "metadata": {
        "id": "xElLkKUI9JGM"
      },
      "execution_count": null,
      "outputs": []
    },
    {
      "cell_type": "code",
      "source": [
        "updated_paths = []   \n",
        "for i in all_paths:\n",
        "    try:\n",
        "        mask_path = i\n",
        "        mask = cv2.imread(mask_path)\n",
        "        mask = cv2.cvtColor(mask, cv2.COLOR_BGR2RGB)\n",
        "\n",
        "        listt = mask_path.split('/')\n",
        "\n",
        "        name = listt[-1]\n",
        "        class_id = listt[-2]\n",
        "        print(name, class_id)\n",
        "\n",
        "        if class_id == 'Bricks':\n",
        "            img = cv2.imread('/content/drive/Shareddrives/hackathon/Training datasets only/Brick/TRAINING/'+name)\n",
        "\n",
        "        elif class_id == 'pvc':\n",
        "            img = cv2.imread('/content/drive/Shareddrives/hackathon/Training datasets only/PVC/TRAINING/'+name)\n",
        "\n",
        "        elif class_id == 'wires':\n",
        "            img = cv2.imread('/content/drive/Shareddrives/hackathon/Training datasets only/Wires/TRAINING/'+name)\n",
        "\n",
        "        elif class_id == 'Cementitious Debris':\n",
        "            img = cv2.imread('/content/drive/Shareddrives/hackathon/Training datasets only/Cementitious Debris/TRAINING/'+name)\n",
        "\n",
        "        elif class_id == 'Rebar':\n",
        "            img = cv2.imread('/content/drive/Shareddrives/hackathon/Training datasets only/Rebar/TRAINING/'+name)\n",
        "        print(mask.shape, img.shape)\n",
        "\n",
        "        updated_paths.append(mask_path)\n",
        "\n",
        "    except:\n",
        "        os.remove(mask_path)"
      ],
      "metadata": {
        "colab": {
          "base_uri": "https://localhost:8080/"
        },
        "id": "qfXzIJcnG-HK",
        "outputId": "b7657b7f-972a-45f9-cc69-b94a11f05f3e"
      },
      "execution_count": null,
      "outputs": [
        {
          "output_type": "stream",
          "name": "stdout",
          "text": [
            "1653077036(1).jpg Rebar\n",
            "(420, 600, 3) (420, 600, 3)\n",
            "184.png Bricks\n",
            "(100, 100, 3) (100, 100, 3)\n",
            "1653077000(1).jpg Rebar\n",
            "(1165, 1600, 3) (1165, 1600, 3)\n",
            "189.png Bricks\n",
            "(100, 100, 3) (100, 100, 3)\n",
            "191.png Bricks\n",
            "(100, 100, 3) (100, 100, 3)\n",
            "1653077131(1).jpg Rebar\n",
            "(407, 612, 3) (407, 612, 3)\n",
            "1653077356(1).jpg Rebar\n",
            "(280, 390, 3) (280, 390, 3)\n",
            "110.png pvc\n",
            "(256, 256, 3) (256, 256, 3)\n",
            "252374746.jpg Rebar\n",
            "(1620, 1000, 3) (1620, 1000, 3)\n",
            "202.png Bricks\n",
            "(100, 100, 3) (100, 100, 3)\n",
            "21.png pvc\n",
            "(256, 256, 3) (256, 256, 3)\n",
            "1653076984(1).jpg Rebar\n",
            "(532, 800, 3) (532, 800, 3)\n",
            "574778a509584.image.jpg Rebar\n",
            "(500, 783, 3) (500, 783, 3)\n",
            "197.png Bricks\n",
            "(100, 100, 3) (100, 100, 3)\n",
            "1653077575(1).jpg Rebar\n",
            "(280, 526, 3) (280, 526, 3)\n",
            "29.png pvc\n",
            "(256, 256, 3) (256, 256, 3)\n",
            "test_18.png wire\n",
            "(256, 256, 3) (256, 256, 3)\n",
            "1653077171.jpg Rebar\n",
            "(956, 1300, 3) (956, 1300, 3)\n",
            "208.png Bricks\n",
            "(100, 100, 3) (100, 100, 3)\n",
            "28.png pvc\n",
            "(256, 256, 3) (256, 256, 3)\n",
            "195.png Bricks\n",
            "(100, 100, 3) (100, 100, 3)\n",
            "136.png Bricks\n",
            "(256, 256, 3) (256, 256, 3)\n",
            "test_25.png wire\n",
            "(256, 256, 3) (256, 256, 3)\n",
            "198.png Bricks\n",
            "(100, 100, 3) (100, 100, 3)\n",
            "6.png Bricks\n",
            "(100, 100, 3) (100, 100, 3)\n",
            "test_22.png wire\n",
            "(256, 256, 3) (100, 100, 3)\n",
            "43.png Bricks\n",
            "(100, 100, 3) (100, 100, 3)\n",
            "186.png Bricks\n",
            "(100, 100, 3) (100, 100, 3)\n",
            "57.png pvc\n",
            "(256, 256, 3) (256, 256, 3)\n",
            "147.png pvc\n",
            "(256, 256, 3) (256, 256, 3)\n",
            "1653076881(1).jpg Rebar\n",
            "(280, 390, 3) (280, 390, 3)\n",
            "test_23.png wire\n",
            "(256, 256, 3) (280, 390, 3)\n",
            "203.png Bricks\n",
            "(100, 100, 3) (100, 100, 3)\n",
            "54f9fc51f2997.image.jpg Rebar\n",
            "(915, 1024, 3) (915, 1024, 3)\n",
            "188.png pvc\n",
            "(256, 256, 3) (256, 256, 3)\n",
            "test_9.png wire\n",
            "(256, 256, 3) (256, 256, 3)\n",
            "204.png Bricks\n",
            "(100, 100, 3) (100, 100, 3)\n",
            "149.png pvc\n",
            "(256, 256, 3) (256, 256, 3)\n",
            "test_2.png wire\n",
            "(256, 256, 3) (256, 256, 3)\n",
            "1653076677(1).jpg Rebar\n",
            "(682, 1023, 3) (682, 1023, 3)\n",
            "1653077386(1).jpg Rebar\n",
            "(1024, 768, 3) (1024, 768, 3)\n",
            "187.png Bricks\n",
            "(100, 100, 3) (100, 100, 3)\n",
            "8.png Bricks\n",
            "(100, 100, 3) (100, 100, 3)\n",
            "24.png Bricks\n",
            "(100, 100, 3) (100, 100, 3)\n",
            "test_21.png wire\n",
            "(256, 256, 3) (100, 100, 3)\n",
            "53.png Bricks\n",
            "(256, 256, 3) (256, 256, 3)\n",
            "test_36.png wire\n",
            "(256, 256, 3) (256, 256, 3)\n",
            "1653077329(1).jpg Rebar\n",
            "(865, 1300, 3) (865, 1300, 3)\n",
            "123.png pvc\n",
            "(256, 256, 3) (256, 256, 3)\n",
            "73.png pvc\n",
            "(256, 256, 3) (256, 256, 3)\n",
            "test_30.png wire\n",
            "(256, 256, 3) (256, 256, 3)\n",
            "182.png Bricks\n",
            "(100, 100, 3) (100, 100, 3)\n",
            "151.png pvc\n",
            "(256, 256, 3) (256, 256, 3)\n",
            "185.png pvc\n",
            "(256, 256, 3) (256, 256, 3)\n",
            "1200x0.jpg Rebar\n",
            "(1882, 1200, 3) (1882, 1200, 3)\n",
            "55.png Bricks\n",
            "(256, 256, 3) (256, 256, 3)\n",
            "1653076992(1).jpg Rebar\n",
            "(533, 800, 3) (533, 800, 3)\n",
            "201.png Bricks\n",
            "(100, 100, 3) (100, 100, 3)\n",
            "205.png Bricks\n",
            "(100, 100, 3) (100, 100, 3)\n",
            "185.png Bricks\n",
            "(100, 100, 3) (100, 100, 3)\n",
            "test_31.png wire\n",
            "(256, 256, 3) (100, 100, 3)\n",
            "test_15.png wire\n",
            "(256, 256, 3) (100, 100, 3)\n",
            "156.png pvc\n",
            "(256, 256, 3) (256, 256, 3)\n",
            "74.png pvc\n",
            "(256, 256, 3) (256, 256, 3)\n",
            "65.png Bricks\n",
            "(256, 256, 3) (256, 256, 3)\n",
            "188.png Bricks\n",
            "(100, 100, 3) (100, 100, 3)\n",
            "1653076763(1).jpg Rebar\n",
            "(280, 390, 3) (280, 390, 3)\n",
            "111.png pvc\n",
            "(256, 256, 3) (256, 256, 3)\n",
            "210.png Bricks\n",
            "(100, 100, 3) (100, 100, 3)\n",
            "56.png pvc\n",
            "(256, 256, 3) (256, 256, 3)\n",
            "1653077097(1).jpg Rebar\n",
            "(956, 1300, 3) (956, 1300, 3)\n",
            "1653076800(1).jpg Rebar\n",
            "(414, 736, 3) (414, 736, 3)\n",
            "51.png pvc\n",
            "(256, 256, 3) (256, 256, 3)\n",
            "test_5.png wire\n",
            "(256, 256, 3) (256, 256, 3)\n",
            "42.png pvc\n",
            "(256, 256, 3) (256, 256, 3)\n",
            "96.png Bricks\n",
            "(256, 256, 3) (256, 256, 3)\n",
            "193.png Bricks\n",
            "(100, 100, 3) (100, 100, 3)\n",
            "155.png pvc\n",
            "(256, 256, 3) (256, 256, 3)\n",
            "20.png Bricks\n",
            "(100, 100, 3) (100, 100, 3)\n",
            "26.png Bricks\n",
            "(100, 100, 3) (100, 100, 3)\n",
            "133.png Bricks\n",
            "(256, 256, 3) (256, 256, 3)\n",
            "183.png Bricks\n",
            "(100, 100, 3) (100, 100, 3)\n",
            "212.png pvc\n",
            "(256, 256, 3) (256, 256, 3)\n",
            "123.png Bricks\n",
            "(256, 256, 3) (256, 256, 3)\n",
            "194.png Bricks\n",
            "(100, 100, 3) (100, 100, 3)\n",
            "test_24.png wire\n",
            "(256, 256, 3) (100, 100, 3)\n",
            "129.png pvc\n",
            "(256, 256, 3) (256, 256, 3)\n",
            "101.png pvc\n",
            "(256, 256, 3) (256, 256, 3)\n",
            "56.png Bricks\n",
            "(256, 256, 3) (256, 256, 3)\n",
            "175.png pvc\n",
            "(256, 256, 3) (256, 256, 3)\n",
            "1653077018(1).jpg Rebar\n",
            "(866, 1300, 3) (866, 1300, 3)\n",
            "30.png Bricks\n",
            "(100, 100, 3) (100, 100, 3)\n",
            "test_19.png wire\n",
            "(256, 256, 3) (100, 100, 3)\n",
            "17.png Bricks\n",
            "(100, 100, 3) (100, 100, 3)\n",
            "31.png pvc\n",
            "(256, 256, 3) (256, 256, 3)\n",
            "2.png Bricks\n",
            "(100, 100, 3) (100, 100, 3)\n",
            "15.png Bricks\n",
            "(100, 100, 3) (100, 100, 3)\n",
            "1653076695(1).jpg Rebar\n",
            "(1154, 1600, 3) (1154, 1600, 3)\n",
            "165.png pvc\n",
            "(256, 256, 3) (256, 256, 3)\n",
            "1653076924(1).jpg Rebar\n",
            "(450, 800, 3) (450, 800, 3)\n",
            "1653076953(1).jpg Rebar\n",
            "(1120, 1500, 3) (1120, 1500, 3)\n",
            "13.png Bricks\n",
            "(100, 100, 3) (100, 100, 3)\n",
            "203.png pvc\n",
            "(256, 256, 3) (256, 256, 3)\n",
            "19.png Bricks\n",
            "(100, 100, 3) (100, 100, 3)\n",
            "test_8.png wire\n",
            "(256, 256, 3) (100, 100, 3)\n",
            "test_34.png wire\n",
            "(256, 256, 3) (100, 100, 3)\n",
            "102.png Bricks\n",
            "(256, 256, 3) (256, 256, 3)\n",
            "190.png Bricks\n",
            "(100, 100, 3) (100, 100, 3)\n",
            "test_38.png wire\n",
            "(256, 256, 3) (100, 100, 3)\n",
            "167.png pvc\n",
            "(256, 256, 3) (256, 256, 3)\n",
            "test_17.png wire\n",
            "(256, 256, 3) (256, 256, 3)\n",
            "test_20.png wire\n",
            "(256, 256, 3) (256, 256, 3)\n",
            "137.png pvc\n",
            "(256, 256, 3) (256, 256, 3)\n",
            "test_12.png wire\n",
            "(256, 256, 3) (256, 256, 3)\n",
            "43.png pvc\n",
            "(256, 256, 3) (256, 256, 3)\n",
            "131.png Bricks\n",
            "(256, 256, 3) (256, 256, 3)\n",
            "1653076749(1).jpg Rebar\n",
            "(820, 1300, 3) (820, 1300, 3)\n",
            "162.png pvc\n",
            "(256, 256, 3) (256, 256, 3)\n",
            "200.png Bricks\n",
            "(100, 100, 3) (100, 100, 3)\n",
            "200.png pvc\n",
            "(256, 256, 3) (256, 256, 3)\n",
            "192.png Bricks\n",
            "(100, 100, 3) (100, 100, 3)\n",
            "test_4.png wire\n",
            "(256, 256, 3) (100, 100, 3)\n",
            "21.png Bricks\n",
            "(100, 100, 3) (100, 100, 3)\n",
            "test_6.png wire\n",
            "(256, 256, 3) (100, 100, 3)\n",
            "test_26.png wire\n",
            "(256, 256, 3) (100, 100, 3)\n",
            "181.png Bricks\n",
            "(100, 100, 3) (100, 100, 3)\n",
            "179.png Bricks\n",
            "(100, 100, 3) (100, 100, 3)\n",
            "58.png pvc\n",
            "(256, 256, 3) (256, 256, 3)\n",
            "135.png pvc\n",
            "(256, 256, 3) (256, 256, 3)\n",
            "test_3.png wire\n",
            "(256, 256, 3) (256, 256, 3)\n",
            "199.png Bricks\n",
            "(100, 100, 3) (100, 100, 3)\n",
            "test_33.png wire\n",
            "(256, 256, 3) (100, 100, 3)\n",
            "196.png Bricks\n",
            "(100, 100, 3) (100, 100, 3)\n",
            "132.png Bricks\n",
            "(256, 256, 3) (256, 256, 3)\n",
            "test_14.png wire\n",
            "(256, 256, 3) (256, 256, 3)\n",
            "140.png pvc\n",
            "(256, 256, 3) (256, 256, 3)\n",
            "180.png Bricks\n",
            "(100, 100, 3) (100, 100, 3)\n"
          ]
        }
      ]
    },
    {
      "cell_type": "code",
      "source": [
        "updated_paths"
      ],
      "metadata": {
        "colab": {
          "base_uri": "https://localhost:8080/"
        },
        "id": "zu3X65pU_WlW",
        "outputId": "3c304eba-7960-406d-8120-dc14d0429af5"
      },
      "execution_count": null,
      "outputs": [
        {
          "output_type": "execute_result",
          "data": {
            "text/plain": [
              "['/content/drive/Shareddrives/hackathon/Training datasets only/masks/Rebar/1653077036(1).jpg',\n",
              " '/content/drive/Shareddrives/hackathon/Training datasets only/masks/Bricks/184.png',\n",
              " '/content/drive/Shareddrives/hackathon/Training datasets only/masks/Rebar/1653077000(1).jpg',\n",
              " '/content/drive/Shareddrives/hackathon/Training datasets only/masks/Bricks/189.png',\n",
              " '/content/drive/Shareddrives/hackathon/Training datasets only/masks/Bricks/191.png',\n",
              " '/content/drive/Shareddrives/hackathon/Training datasets only/masks/Rebar/1653077131(1).jpg',\n",
              " '/content/drive/Shareddrives/hackathon/Training datasets only/masks/Rebar/1653077356(1).jpg',\n",
              " '/content/drive/Shareddrives/hackathon/Training datasets only/masks/pvc/110.png',\n",
              " '/content/drive/Shareddrives/hackathon/Training datasets only/masks/Rebar/252374746.jpg',\n",
              " '/content/drive/Shareddrives/hackathon/Training datasets only/masks/Bricks/202.png',\n",
              " '/content/drive/Shareddrives/hackathon/Training datasets only/masks/pvc/21.png',\n",
              " '/content/drive/Shareddrives/hackathon/Training datasets only/masks/Rebar/1653076984(1).jpg',\n",
              " '/content/drive/Shareddrives/hackathon/Training datasets only/masks/Rebar/574778a509584.image.jpg',\n",
              " '/content/drive/Shareddrives/hackathon/Training datasets only/masks/Bricks/197.png',\n",
              " '/content/drive/Shareddrives/hackathon/Training datasets only/masks/Rebar/1653077575(1).jpg',\n",
              " '/content/drive/Shareddrives/hackathon/Training datasets only/masks/pvc/29.png',\n",
              " '/content/drive/Shareddrives/hackathon/Training datasets only/masks/wire/test_18.png',\n",
              " '/content/drive/Shareddrives/hackathon/Training datasets only/masks/Rebar/1653077171.jpg',\n",
              " '/content/drive/Shareddrives/hackathon/Training datasets only/masks/Bricks/208.png',\n",
              " '/content/drive/Shareddrives/hackathon/Training datasets only/masks/pvc/28.png',\n",
              " '/content/drive/Shareddrives/hackathon/Training datasets only/masks/Bricks/195.png',\n",
              " '/content/drive/Shareddrives/hackathon/Training datasets only/masks/Bricks/136.png',\n",
              " '/content/drive/Shareddrives/hackathon/Training datasets only/masks/wire/test_25.png',\n",
              " '/content/drive/Shareddrives/hackathon/Training datasets only/masks/Bricks/198.png',\n",
              " '/content/drive/Shareddrives/hackathon/Training datasets only/masks/Bricks/6.png',\n",
              " '/content/drive/Shareddrives/hackathon/Training datasets only/masks/wire/test_22.png',\n",
              " '/content/drive/Shareddrives/hackathon/Training datasets only/masks/Bricks/43.png',\n",
              " '/content/drive/Shareddrives/hackathon/Training datasets only/masks/Bricks/186.png',\n",
              " '/content/drive/Shareddrives/hackathon/Training datasets only/masks/pvc/57.png',\n",
              " '/content/drive/Shareddrives/hackathon/Training datasets only/masks/pvc/147.png',\n",
              " '/content/drive/Shareddrives/hackathon/Training datasets only/masks/Rebar/1653076881(1).jpg',\n",
              " '/content/drive/Shareddrives/hackathon/Training datasets only/masks/wire/test_23.png',\n",
              " '/content/drive/Shareddrives/hackathon/Training datasets only/masks/Bricks/203.png',\n",
              " '/content/drive/Shareddrives/hackathon/Training datasets only/masks/Rebar/54f9fc51f2997.image.jpg',\n",
              " '/content/drive/Shareddrives/hackathon/Training datasets only/masks/pvc/188.png',\n",
              " '/content/drive/Shareddrives/hackathon/Training datasets only/masks/wire/test_9.png',\n",
              " '/content/drive/Shareddrives/hackathon/Training datasets only/masks/Bricks/204.png',\n",
              " '/content/drive/Shareddrives/hackathon/Training datasets only/masks/pvc/149.png',\n",
              " '/content/drive/Shareddrives/hackathon/Training datasets only/masks/wire/test_2.png',\n",
              " '/content/drive/Shareddrives/hackathon/Training datasets only/masks/Rebar/1653076677(1).jpg',\n",
              " '/content/drive/Shareddrives/hackathon/Training datasets only/masks/Rebar/1653077386(1).jpg',\n",
              " '/content/drive/Shareddrives/hackathon/Training datasets only/masks/Bricks/187.png',\n",
              " '/content/drive/Shareddrives/hackathon/Training datasets only/masks/Bricks/8.png',\n",
              " '/content/drive/Shareddrives/hackathon/Training datasets only/masks/Bricks/24.png',\n",
              " '/content/drive/Shareddrives/hackathon/Training datasets only/masks/wire/test_21.png',\n",
              " '/content/drive/Shareddrives/hackathon/Training datasets only/masks/Bricks/53.png',\n",
              " '/content/drive/Shareddrives/hackathon/Training datasets only/masks/wire/test_36.png',\n",
              " '/content/drive/Shareddrives/hackathon/Training datasets only/masks/Rebar/1653077329(1).jpg',\n",
              " '/content/drive/Shareddrives/hackathon/Training datasets only/masks/pvc/123.png',\n",
              " '/content/drive/Shareddrives/hackathon/Training datasets only/masks/pvc/73.png',\n",
              " '/content/drive/Shareddrives/hackathon/Training datasets only/masks/wire/test_30.png',\n",
              " '/content/drive/Shareddrives/hackathon/Training datasets only/masks/Bricks/182.png',\n",
              " '/content/drive/Shareddrives/hackathon/Training datasets only/masks/pvc/151.png',\n",
              " '/content/drive/Shareddrives/hackathon/Training datasets only/masks/pvc/185.png',\n",
              " '/content/drive/Shareddrives/hackathon/Training datasets only/masks/Rebar/1200x0.jpg',\n",
              " '/content/drive/Shareddrives/hackathon/Training datasets only/masks/Bricks/55.png',\n",
              " '/content/drive/Shareddrives/hackathon/Training datasets only/masks/Rebar/1653076992(1).jpg',\n",
              " '/content/drive/Shareddrives/hackathon/Training datasets only/masks/Bricks/201.png',\n",
              " '/content/drive/Shareddrives/hackathon/Training datasets only/masks/Bricks/205.png',\n",
              " '/content/drive/Shareddrives/hackathon/Training datasets only/masks/Bricks/185.png',\n",
              " '/content/drive/Shareddrives/hackathon/Training datasets only/masks/wire/test_31.png',\n",
              " '/content/drive/Shareddrives/hackathon/Training datasets only/masks/wire/test_15.png',\n",
              " '/content/drive/Shareddrives/hackathon/Training datasets only/masks/pvc/156.png',\n",
              " '/content/drive/Shareddrives/hackathon/Training datasets only/masks/pvc/74.png',\n",
              " '/content/drive/Shareddrives/hackathon/Training datasets only/masks/Bricks/65.png',\n",
              " '/content/drive/Shareddrives/hackathon/Training datasets only/masks/Bricks/188.png',\n",
              " '/content/drive/Shareddrives/hackathon/Training datasets only/masks/Rebar/1653076763(1).jpg',\n",
              " '/content/drive/Shareddrives/hackathon/Training datasets only/masks/pvc/111.png',\n",
              " '/content/drive/Shareddrives/hackathon/Training datasets only/masks/Bricks/210.png',\n",
              " '/content/drive/Shareddrives/hackathon/Training datasets only/masks/pvc/56.png',\n",
              " '/content/drive/Shareddrives/hackathon/Training datasets only/masks/Rebar/1653077097(1).jpg',\n",
              " '/content/drive/Shareddrives/hackathon/Training datasets only/masks/Rebar/1653076800(1).jpg',\n",
              " '/content/drive/Shareddrives/hackathon/Training datasets only/masks/pvc/51.png',\n",
              " '/content/drive/Shareddrives/hackathon/Training datasets only/masks/wire/test_5.png',\n",
              " '/content/drive/Shareddrives/hackathon/Training datasets only/masks/pvc/42.png',\n",
              " '/content/drive/Shareddrives/hackathon/Training datasets only/masks/Bricks/96.png',\n",
              " '/content/drive/Shareddrives/hackathon/Training datasets only/masks/Bricks/193.png',\n",
              " '/content/drive/Shareddrives/hackathon/Training datasets only/masks/pvc/155.png',\n",
              " '/content/drive/Shareddrives/hackathon/Training datasets only/masks/Bricks/20.png',\n",
              " '/content/drive/Shareddrives/hackathon/Training datasets only/masks/Bricks/26.png',\n",
              " '/content/drive/Shareddrives/hackathon/Training datasets only/masks/Bricks/133.png',\n",
              " '/content/drive/Shareddrives/hackathon/Training datasets only/masks/Bricks/183.png',\n",
              " '/content/drive/Shareddrives/hackathon/Training datasets only/masks/pvc/212.png',\n",
              " '/content/drive/Shareddrives/hackathon/Training datasets only/masks/Bricks/123.png',\n",
              " '/content/drive/Shareddrives/hackathon/Training datasets only/masks/Bricks/194.png',\n",
              " '/content/drive/Shareddrives/hackathon/Training datasets only/masks/wire/test_24.png',\n",
              " '/content/drive/Shareddrives/hackathon/Training datasets only/masks/pvc/129.png',\n",
              " '/content/drive/Shareddrives/hackathon/Training datasets only/masks/pvc/101.png',\n",
              " '/content/drive/Shareddrives/hackathon/Training datasets only/masks/Bricks/56.png',\n",
              " '/content/drive/Shareddrives/hackathon/Training datasets only/masks/pvc/175.png',\n",
              " '/content/drive/Shareddrives/hackathon/Training datasets only/masks/Rebar/1653077018(1).jpg',\n",
              " '/content/drive/Shareddrives/hackathon/Training datasets only/masks/Bricks/30.png',\n",
              " '/content/drive/Shareddrives/hackathon/Training datasets only/masks/wire/test_19.png',\n",
              " '/content/drive/Shareddrives/hackathon/Training datasets only/masks/Bricks/17.png',\n",
              " '/content/drive/Shareddrives/hackathon/Training datasets only/masks/pvc/31.png',\n",
              " '/content/drive/Shareddrives/hackathon/Training datasets only/masks/Bricks/2.png',\n",
              " '/content/drive/Shareddrives/hackathon/Training datasets only/masks/Bricks/15.png',\n",
              " '/content/drive/Shareddrives/hackathon/Training datasets only/masks/Rebar/1653076695(1).jpg',\n",
              " '/content/drive/Shareddrives/hackathon/Training datasets only/masks/pvc/165.png',\n",
              " '/content/drive/Shareddrives/hackathon/Training datasets only/masks/Rebar/1653076924(1).jpg',\n",
              " '/content/drive/Shareddrives/hackathon/Training datasets only/masks/Rebar/1653076953(1).jpg',\n",
              " '/content/drive/Shareddrives/hackathon/Training datasets only/masks/Bricks/13.png',\n",
              " '/content/drive/Shareddrives/hackathon/Training datasets only/masks/pvc/203.png',\n",
              " '/content/drive/Shareddrives/hackathon/Training datasets only/masks/Bricks/19.png',\n",
              " '/content/drive/Shareddrives/hackathon/Training datasets only/masks/wire/test_8.png',\n",
              " '/content/drive/Shareddrives/hackathon/Training datasets only/masks/wire/test_34.png',\n",
              " '/content/drive/Shareddrives/hackathon/Training datasets only/masks/Bricks/102.png',\n",
              " '/content/drive/Shareddrives/hackathon/Training datasets only/masks/Bricks/190.png',\n",
              " '/content/drive/Shareddrives/hackathon/Training datasets only/masks/wire/test_38.png',\n",
              " '/content/drive/Shareddrives/hackathon/Training datasets only/masks/pvc/167.png',\n",
              " '/content/drive/Shareddrives/hackathon/Training datasets only/masks/wire/test_17.png',\n",
              " '/content/drive/Shareddrives/hackathon/Training datasets only/masks/wire/test_20.png',\n",
              " '/content/drive/Shareddrives/hackathon/Training datasets only/masks/pvc/137.png',\n",
              " '/content/drive/Shareddrives/hackathon/Training datasets only/masks/wire/test_12.png',\n",
              " '/content/drive/Shareddrives/hackathon/Training datasets only/masks/pvc/43.png',\n",
              " '/content/drive/Shareddrives/hackathon/Training datasets only/masks/Bricks/131.png',\n",
              " '/content/drive/Shareddrives/hackathon/Training datasets only/masks/Rebar/1653076749(1).jpg',\n",
              " '/content/drive/Shareddrives/hackathon/Training datasets only/masks/pvc/162.png',\n",
              " '/content/drive/Shareddrives/hackathon/Training datasets only/masks/Bricks/200.png',\n",
              " '/content/drive/Shareddrives/hackathon/Training datasets only/masks/pvc/200.png',\n",
              " '/content/drive/Shareddrives/hackathon/Training datasets only/masks/Bricks/192.png',\n",
              " '/content/drive/Shareddrives/hackathon/Training datasets only/masks/wire/test_4.png',\n",
              " '/content/drive/Shareddrives/hackathon/Training datasets only/masks/Bricks/21.png',\n",
              " '/content/drive/Shareddrives/hackathon/Training datasets only/masks/wire/test_6.png',\n",
              " '/content/drive/Shareddrives/hackathon/Training datasets only/masks/wire/test_26.png',\n",
              " '/content/drive/Shareddrives/hackathon/Training datasets only/masks/Bricks/181.png',\n",
              " '/content/drive/Shareddrives/hackathon/Training datasets only/masks/Bricks/179.png',\n",
              " '/content/drive/Shareddrives/hackathon/Training datasets only/masks/pvc/58.png',\n",
              " '/content/drive/Shareddrives/hackathon/Training datasets only/masks/pvc/135.png',\n",
              " '/content/drive/Shareddrives/hackathon/Training datasets only/masks/wire/test_3.png',\n",
              " '/content/drive/Shareddrives/hackathon/Training datasets only/masks/Bricks/199.png',\n",
              " '/content/drive/Shareddrives/hackathon/Training datasets only/masks/wire/test_33.png',\n",
              " '/content/drive/Shareddrives/hackathon/Training datasets only/masks/Bricks/196.png',\n",
              " '/content/drive/Shareddrives/hackathon/Training datasets only/masks/Bricks/132.png',\n",
              " '/content/drive/Shareddrives/hackathon/Training datasets only/masks/wire/test_14.png',\n",
              " '/content/drive/Shareddrives/hackathon/Training datasets only/masks/pvc/140.png',\n",
              " '/content/drive/Shareddrives/hackathon/Training datasets only/masks/Bricks/180.png']"
            ]
          },
          "metadata": {},
          "execution_count": 23
        }
      ]
    },
    {
      "cell_type": "code",
      "execution_count": null,
      "metadata": {
        "id": "7uUZmOaJRR84"
      },
      "outputs": [],
      "source": [
        "color_dict = {\n",
        "    0: (0, 0, 0), # background\n",
        "    1:(255, 25, 122), #bricks\n",
        "    2:(225, 187, 100), #pvc\n",
        "    3:(89, 100, 6), # wires\n",
        "    }\n",
        "\n",
        "\n",
        "def onehot_to_rgb(onehot, colormap = color_dict):\n",
        "    single_layer = onehot.argmax(-1)\n",
        "    output = np.zeros(onehot.shape[:2]+(3,))\n",
        "    for k in colormap.keys():\n",
        "        output[single_layer==k] = colormap[k]\n",
        "    return np.uint8(output)\n",
        "\n",
        "def rgb_to_onehot(rgb_arr, color_dict = color_dict):\n",
        "    num_classes = len(color_dict)\n",
        "    shape = rgb_arr.shape[:2]+(num_classes,)\n",
        "    arr = np.zeros(shape, dtype=np.float32)\n",
        "    for i, cls in enumerate(color_dict):\n",
        "        arr[:,:,i] = np.all(rgb_arr.reshape( (-1,3) ) == color_dict[i], axis=1).reshape(shape[:2])\n",
        "    return arr\n",
        "\n",
        "aug = A.Compose([      \n",
        "    A.VerticalFlip(p=0.5),\n",
        "    A.HorizontalFlip(p=0.4),\n",
        "    A.ElasticTransform(alpha=30, sigma=120 * 0.025, alpha_affine=120 * 0.025, p=0.5),\n",
        "    A.CLAHE(p=0.5),\n",
        "    A.RandomBrightnessContrast(p=0.4),        \n",
        "    A.RandomRotate90(p=0.3),\n",
        "    A.GridDistortion(p=0.4)\n",
        "    ])\n",
        "\n",
        "class CoNSePDataset(Dataset):\n",
        "  def __init__(self, paths, a = True):\n",
        "\n",
        "    self.data = paths\n",
        "    self.a = a\n",
        "    self.transform = aug\n",
        "    \n",
        "\n",
        "  \n",
        "  def __len__(self):\n",
        "    return len(self.data)\n",
        "  \n",
        "  def __getitem__(self, index):\n",
        "\n",
        "    mask_path = self.data[index]\n",
        "    mask = cv2.imread(mask_path)\n",
        "    mask = cv2.cvtColor(mask, cv2.COLOR_BGR2RGB)\n",
        "    mask = cv2.resize(mask, (256, 256))\n",
        "\n",
        "    listt = mask_path.split('/')\n",
        "\n",
        "    name = listt[-1]\n",
        "    class_id = listt[-2]\n",
        "\n",
        "\n",
        "\n",
        "    if class_id == 'Bricks':\n",
        "        img = cv2.imread('/content/drive/Shareddrives/hackathon/Training datasets only/Brick/TRAINING/'+name)\n",
        "\n",
        "    elif class_id == 'pvc':\n",
        "        img = cv2.imread('/content/drive/Shareddrives/hackathon/Training datasets only/PVC/TRAINING/'+name)\n",
        "\n",
        "    elif class_id == 'wire':\n",
        "        img = cv2.imread('/content/drive/Shareddrives/hackathon/Training datasets only/Wires/TRAINING/'+name)\n",
        "\n",
        "    elif class_id == 'Cementitious Debris':\n",
        "        img = cv2.imread('/content/drive/Shareddrives/hackathon/Training datasets only/Cementitious Debris/TRAINING/'+name)\n",
        "\n",
        "    elif class_id == 'Rebar':\n",
        "        img = cv2.imread('/content/drive/Shareddrives/hackathon/Training datasets only/Rebar/TRAINING/'+name)\n",
        "\n",
        "    img = cv2.resize(img, (256, 256))\n",
        "\n",
        "    if self.a:\n",
        "        augment = self.transform(image = img, mask=mask)\n",
        "        image = augment['image']\n",
        "        mask = augment['mask']\n",
        "\n",
        "    if not self.a:\n",
        "        image = img\n",
        "\n",
        "    image = image.astype(np.float32)\n",
        "    image = image/255.0\n",
        "    image = np.transpose(image, (2, 0, 1))\n",
        "\n",
        "\n",
        "    mask = mask.astype(np.float32)\n",
        "    mask = mask[:,:, 0:1] / 255.0\n",
        "    mask = mask.astype(np.float32)\n",
        "\n",
        "    mask = np.transpose(mask, (2, 0, 1))\n",
        "\n",
        "    return image, mask\n",
        "\n",
        "\n"
      ]
    },
    {
      "cell_type": "code",
      "source": [
        "_train = updated_paths[:-20]\n",
        "_test = updated_paths[-20:]"
      ],
      "metadata": {
        "id": "Ar7AF1DhJXsm"
      },
      "execution_count": null,
      "outputs": []
    },
    {
      "cell_type": "code",
      "execution_count": null,
      "metadata": {
        "id": "Sjl4TtQNzzdS"
      },
      "outputs": [],
      "source": [
        "train_ds = CoNSePDataset(\n",
        "        _train,\n",
        "        a = True,\n",
        "    )\n",
        "\n",
        "\n",
        "train_data_loader = DataLoader(train_ds, batch_size=16, shuffle=True)\n",
        "\n",
        "test_ds = CoNSePDataset(\n",
        "        _test,\n",
        "        a = False,\n",
        "    )\n",
        "\n",
        "test_data_loader = DataLoader(test_ds, batch_size=16, shuffle=False)\n"
      ]
    },
    {
      "cell_type": "code",
      "source": [
        "os.path.exists('/content/drive/Shareddrives/hackathon/Training datasets only/Brick/TRAINING/13.png')"
      ],
      "metadata": {
        "colab": {
          "base_uri": "https://localhost:8080/"
        },
        "id": "AaR1Lb7aSJNP",
        "outputId": "23e2df4e-e928-49d7-c68e-3bc141552c18"
      },
      "execution_count": null,
      "outputs": [
        {
          "output_type": "execute_result",
          "data": {
            "text/plain": [
              "True"
            ]
          },
          "metadata": {},
          "execution_count": 27
        }
      ]
    },
    {
      "cell_type": "code",
      "execution_count": null,
      "metadata": {
        "colab": {
          "base_uri": "https://localhost:8080/"
        },
        "id": "8HSuN7N5z5h_",
        "outputId": "0f506e17-f260-4e89-da58-cb658edb4cc5"
      },
      "outputs": [
        {
          "output_type": "stream",
          "name": "stdout",
          "text": [
            "(16, 1, 256, 256) torch.Size([16, 3, 256, 256])\n"
          ]
        }
      ],
      "source": [
        "for i, data in enumerate(test_data_loader):\n",
        "    x = data[0]\n",
        "    y = data[1].numpy()\n",
        "    # e = data[2]\n",
        "    print(y.shape, x.shape)\n",
        "    \n",
        "    break"
      ]
    },
    {
      "cell_type": "code",
      "source": [
        "plt.imshow(y[2][0,:,:])"
      ],
      "metadata": {
        "colab": {
          "base_uri": "https://localhost:8080/",
          "height": 286
        },
        "id": "8-7CGe-QUzOw",
        "outputId": "851b9459-225c-45d2-e9a5-ad4511077fd4"
      },
      "execution_count": null,
      "outputs": [
        {
          "output_type": "execute_result",
          "data": {
            "text/plain": [
              "<matplotlib.image.AxesImage at 0x7f45c2f0add0>"
            ]
          },
          "metadata": {},
          "execution_count": 29
        },
        {
          "output_type": "display_data",
          "data": {
            "text/plain": [
              "<Figure size 432x288 with 1 Axes>"
            ],
            "image/png": "[encoded data removed]"
          },
          "metadata": {
            "needs_background": "light"
          }
        }
      ]
    },
    {
      "cell_type": "markdown",
      "metadata": {
        "id": "sVDu1hLJRR85"
      },
      "source": [
        "## <u>Optimizer and Loss Function</u>"
      ]
    },
    {
      "cell_type": "code",
      "execution_count": null,
      "metadata": {
        "id": "ucKB8ClXjrcG"
      },
      "outputs": [],
      "source": [
        "class BinaryDiceLoss(nn.Module):\n",
        "\n",
        "    def __init__(self, ignore_index=None, reduction='mean',**kwargs):\n",
        "        super(BinaryDiceLoss, self).__init__()\n",
        "        self.smooth = 1   # suggest set a large number when target area is large,like '10|100'\n",
        "        self.ignore_index = ignore_index\n",
        "        self.reduction = reduction\n",
        "        self.batch_dice = False # treat a large map when True\n",
        "        if 'batch_loss' in kwargs.keys():\n",
        "            self.batch_dice = kwargs['batch_loss']\n",
        "\n",
        "    def forward(self, output, target, use_sigmoid=True):\n",
        "        assert output.shape[0] == target.shape[0], f\"output & target batch size don't match {output.shape[0]} {target.shape[0]} \"\n",
        "        if use_sigmoid:\n",
        "            output = nn.Sigmoid()(output)\n",
        "\n",
        "        if self.ignore_index is not None:\n",
        "            validmask = (target != self.ignore_index).float()\n",
        "            output = output.mul(validmask)  # can not use inplace for bp\n",
        "            target = target.float().mul(validmask)\n",
        "\n",
        "        dim0= output.shape[0]\n",
        "        if self.batch_dice:\n",
        "            dim0 = 1\n",
        "\n",
        "        output = output.contiguous().view(dim0, -1)\n",
        "        target = target.contiguous().view(dim0, -1).float()\n",
        "\n",
        "        num = 2 * torch.sum(torch.mul(output, target), dim=1) + self.smooth\n",
        "        den = torch.sum(output.abs() + target.abs(), dim=1) + self.smooth\n",
        "\n",
        "        BCE = F.binary_cross_entropy(output, target, reduction='mean')\n",
        "\n",
        "        loss = (1 - (num / den))\n",
        "\n",
        "        if self.reduction == 'mean':\n",
        "            return loss.mean() + BCE\n",
        "        elif self.reduction == 'sum':\n",
        "            return loss.sum() + BCE\n",
        "        elif self.reduction == 'none':\n",
        "            return loss + BCE\n",
        "        else:\n",
        "            raise Exception('Unexpected reduction {}'.format(self.reduction))"
      ]
    },
    {
      "cell_type": "code",
      "execution_count": null,
      "metadata": {
        "id": "ac8Ks3Dk8qt7"
      },
      "outputs": [],
      "source": [
        "class FocalLoss_Ori(nn.Module):\n",
        "    \"\"\"\n",
        "    This is a implementation of Focal Loss with smooth label cross entropy supported which is proposed in\n",
        "    'Focal Loss for Dense Object Detection. (https://arxiv.org/abs/1708.02002)'\n",
        "        Focal_Loss= -1*alpha*(1-pt)*log(pt)\n",
        "    :param num_class:\n",
        "    :param alpha: (tensor) 3D or 4D the scalar factor for this criterion\n",
        "    :param gamma: (float,double) gamma > 0 reduces the relative loss for well-classified examples (p>0.5) putting more\n",
        "                    focus on hard misclassified example\n",
        "    :param smooth: (float,double) smooth value when cross entropy\n",
        "    :param size_average: (bool, optional) By default, the losses are averaged over each loss element in the batch.\n",
        "    \"\"\"\n",
        "\n",
        "    def __init__(self, num_class, alpha= [0.4, 0.3, 0.1, 0.1, 0.1], gamma=2, balance_index=-1, size_average=True):\n",
        "        super(FocalLoss_Ori, self).__init__()\n",
        "        self.num_class = num_class\n",
        "        self.alpha = alpha\n",
        "        self.gamma = gamma\n",
        "        self.size_average = size_average\n",
        "        self.eps = 1e-6\n",
        "\n",
        "        if isinstance(self.alpha, (list, tuple)):\n",
        "            assert len(self.alpha) == self.num_class\n",
        "            self.alpha = torch.Tensor(list(self.alpha))\n",
        "        elif isinstance(self.alpha, (float, int)):\n",
        "            assert 0 < self.alpha < 1.0, 'alpha should be in `(0,1)`)'\n",
        "            assert balance_index > -1\n",
        "            alpha = torch.ones((self.num_class))\n",
        "            alpha *= 1 - self.alpha\n",
        "            alpha[balance_index] = self.alpha\n",
        "            self.alpha = alpha\n",
        "        elif isinstance(self.alpha, torch.Tensor):\n",
        "            self.alpha = self.alpha\n",
        "        else:\n",
        "            raise TypeError('Not support alpha type, expect `int|float|list|tuple|torch.Tensor`')\n",
        "\n",
        "    def forward(self, logit, target):\n",
        "\n",
        "        logit = nn.Sigmoid()(logit)\n",
        "        target = target.argmax(1)\n",
        "        if logit.dim() > 2:\n",
        "            # N,C,d1,d2 -> N,C,m (m=d1*d2*...)\n",
        "            logit = logit.view(logit.size(0), logit.size(1), -1)\n",
        "            logit = logit.transpose(1, 2).contiguous()  # [N,C,d1*d2..] -> [N,d1*d2..,C]\n",
        "            logit = logit.view(-1, logit.size(-1))  # [N,d1*d2..,C]-> [N*d1*d2..,C]\n",
        "        target = target.view(-1, 1)  # [N,d1,d2,...]->[N*d1*d2*...,1]\n",
        "        pt = logit.gather(1, target).view(-1) + self.eps  # avoid apply\n",
        "        logpt = pt.log()\n",
        "\n",
        "        if self.alpha.device != logpt.device:\n",
        "            alpha = self.alpha.to(logpt.device)\n",
        "            alpha_class = alpha.gather(0, target.view(-1))\n",
        "            logpt = alpha_class * logpt\n",
        "        loss = -1 * torch.pow(torch.sub(1.0, pt), self.gamma) * logpt\n",
        "\n",
        "        if self.size_average:\n",
        "            loss = loss.mean()\n",
        "        else:\n",
        "            loss = loss.sum()\n",
        "        return loss"
      ]
    },
    {
      "cell_type": "code",
      "execution_count": null,
      "metadata": {
        "id": "-vuplnMWYF_Z"
      },
      "outputs": [],
      "source": [
        "class DiceBCELoss(nn.Module):\n",
        "    def __init__(self, weight=None, size_average=True):\n",
        "        super(DiceBCELoss, self).__init__()\n",
        "\n",
        "    def forward(self, inputs, targets, smooth=1):\n",
        "        \n",
        "        #comment out if your model contains a sigmoid or equivalent activation layer\n",
        "        inputs = nn.Sigmoid()(inputs)       \n",
        "        \n",
        "        #flatten label and prediction tensors\n",
        "        inputs = inputs.view(-1)\n",
        "        targets = targets.view(-1)\n",
        "        \n",
        "        intersection = (inputs * targets).sum()                            \n",
        "        dice_loss = 1 - (2.*intersection + smooth)/(inputs.sum() + targets.sum() + smooth)  \n",
        "        BCE = F.binary_cross_entropy(inputs, targets, reduction='mean')\n",
        "        Dice_BCE = BCE + dice_loss\n",
        "        \n",
        "        return Dice_BCE"
      ]
    },
    {
      "cell_type": "code",
      "execution_count": null,
      "metadata": {
        "id": "rgWATjVVcAqF"
      },
      "outputs": [],
      "source": [
        "class Dice(nn.Module):\n",
        "    def __init__(self, weight=None, size_average=True):\n",
        "        super(Dice, self).__init__()\n",
        "\n",
        "    def forward(self, inputs, targets, smooth=1):\n",
        "        \n",
        "        #comment out if your model contains a sigmoid or equivalent activation layer\n",
        "        inputs = nn.Sigmoid()(inputs)       \n",
        "        \n",
        "        #flatten label and prediction tensors\n",
        "        inputs = inputs.view(-1)\n",
        "        targets = targets.view(-1)\n",
        "        \n",
        "        intersection = (inputs * targets).sum()                            \n",
        "        dice = (2.*intersection + smooth)/(inputs.sum() + targets.sum() + smooth) \n",
        "        \n",
        "        return dice.detach().cpu()"
      ]
    },
    {
      "cell_type": "code",
      "execution_count": null,
      "metadata": {
        "id": "aGAxdwaKRR85"
      },
      "outputs": [],
      "source": [
        "\n",
        "num_classes = 1\n",
        "ACTIVATION = None # could be None for logits or 'softmax2d' for multiclass segmentation\n",
        "\n",
        "# create segmentation model with pretrained encoder\n",
        "model = Lanenet(num_classes).cuda()\n",
        "# optimizer\n",
        "optimizer = torch.optim.Adam(model.parameters(), lr=0.0001)\n",
        "# # criterion\n",
        "# checkpoint = torch.load('/content/drive/Shareddrives/Classification/NewPanNuke/pannuke_pytorch_deeplabv3P.pth')\n",
        "\n",
        "# model.load_state_dict(checkpoint['state_dict'])\n",
        "# optimizer.load_state_dict(checkpoint['optimizer'])\n",
        "\n",
        "criterion =  BinaryDiceLoss().to(device)\n",
        "# criterion2 = FocalLoss_Ori(num_class=5).to(device)\n",
        "\n",
        "matrice = Dice()"
      ]
    },
    {
      "cell_type": "markdown",
      "metadata": {
        "id": "iGyxZSzrRR85"
      },
      "source": [
        "## <u>Train and Validation Functions</u>"
      ]
    },
    {
      "cell_type": "code",
      "execution_count": null,
      "metadata": {
        "id": "BBo2nB4Chhe3"
      },
      "outputs": [],
      "source": [
        "import warnings\n",
        "warnings.filterwarnings('ignore')"
      ]
    },
    {
      "cell_type": "code",
      "execution_count": null,
      "metadata": {
        "id": "8MoU1FMxRR86"
      },
      "outputs": [],
      "source": [
        "# training function\n",
        "from tqdm import tqdm\n",
        "def fit(epoch, model, dataloader, val_loader):\n",
        "    print('Training')\n",
        "    model.train()\n",
        "    train_running_loss = 0.0\n",
        "    train_running_correct = 0\n",
        "    counter = 0\n",
        "    dice = []\n",
        "    for i, data in tqdm(enumerate(dataloader)):\n",
        "        counter += 1\n",
        "        data, target1 = data[0].cuda(), data[1].cuda()\n",
        "        optimizer.zero_grad()\n",
        "\n",
        "        outputs = model(data)\n",
        "       \n",
        "        loss = criterion(outputs, target1)\n",
        "\n",
        "\n",
        "        train_running_loss += loss.item()\n",
        "        d = matrice(outputs, target1).item()\n",
        "        dice.append(d)\n",
        "        \n",
        "        loss.backward()\n",
        "        optimizer.step()\n",
        "    \n",
        "\n",
        "    print('Epoch loss: ', train_running_loss)\n",
        "    print('Dise: ',sum(dice)/len(dice))\n",
        "\n",
        "    \n",
        "    print('-'*10 +\"Validation\" + \"-\"*10)\n",
        "    \n",
        "    model.eval()\n",
        "    dise = []\n",
        "    with torch.no_grad():\n",
        "        for i, data in tqdm(enumerate(val_loader)):\n",
        "            x = data[0].cuda()\n",
        "            y = data[1].cuda()\n",
        "            pred = model(x)\n",
        "            d = matrice(pred, y).item()\n",
        "            dise.append(d)\n",
        "\n",
        "    print(\"Epoch:{} Val Dise: \".format(epoch),(sum(dise) / len(dise)))\n",
        "    return train_running_loss"
      ]
    },
    {
      "cell_type": "code",
      "execution_count": null,
      "metadata": {
        "colab": {
          "base_uri": "https://localhost:8080/"
        },
        "id": "TLa8cbfyRR86",
        "outputId": "5b040c71-96a5-496e-dacb-9a42663bc8e1"
      },
      "outputs": [
        {
          "output_type": "stream",
          "name": "stdout",
          "text": [
            "Epoch 1 of 400\n",
            "Training\n"
          ]
        },
        {
          "output_type": "stream",
          "name": "stderr",
          "text": [
            "8it [00:03,  2.16it/s]\n"
          ]
        },
        {
          "output_type": "stream",
          "name": "stdout",
          "text": [
            "Epoch loss:  14.489333391189575\n",
            "Dise:  0.24846262112259865\n",
            "----------Validation----------\n"
          ]
        },
        {
          "output_type": "stream",
          "name": "stderr",
          "text": [
            "2it [00:00, 10.61it/s]\n"
          ]
        },
        {
          "output_type": "stream",
          "name": "stdout",
          "text": [
            "Epoch:0 Val Dise:  0.27651672065258026\n",
            "Epoch 2 of 400\n",
            "Training\n"
          ]
        },
        {
          "output_type": "stream",
          "name": "stderr",
          "text": [
            "8it [00:03,  2.24it/s]\n"
          ]
        },
        {
          "output_type": "stream",
          "name": "stdout",
          "text": [
            "Epoch loss:  14.344828724861145\n",
            "Dise:  0.23829257115721703\n",
            "----------Validation----------\n"
          ]
        },
        {
          "output_type": "stream",
          "name": "stderr",
          "text": [
            "2it [00:00, 11.03it/s]\n"
          ]
        },
        {
          "output_type": "stream",
          "name": "stdout",
          "text": [
            "Epoch:1 Val Dise:  0.2771688476204872\n",
            "Epoch 3 of 400\n",
            "Training\n"
          ]
        },
        {
          "output_type": "stream",
          "name": "stderr",
          "text": [
            "8it [00:03,  2.35it/s]\n"
          ]
        },
        {
          "output_type": "stream",
          "name": "stdout",
          "text": [
            "Epoch loss:  14.356391429901123\n",
            "Dise:  0.22722640074789524\n",
            "----------Validation----------\n"
          ]
        },
        {
          "output_type": "stream",
          "name": "stderr",
          "text": [
            "2it [00:00, 11.03it/s]\n"
          ]
        },
        {
          "output_type": "stream",
          "name": "stdout",
          "text": [
            "Epoch:2 Val Dise:  0.2772527188062668\n",
            "Epoch 4 of 400\n",
            "Training\n"
          ]
        },
        {
          "output_type": "stream",
          "name": "stderr",
          "text": [
            "8it [00:03,  2.46it/s]\n"
          ]
        },
        {
          "output_type": "stream",
          "name": "stdout",
          "text": [
            "Epoch loss:  14.071364521980286\n",
            "Dise:  0.22583318315446377\n",
            "----------Validation----------\n"
          ]
        },
        {
          "output_type": "stream",
          "name": "stderr",
          "text": [
            "2it [00:00, 10.76it/s]\n"
          ]
        },
        {
          "output_type": "stream",
          "name": "stdout",
          "text": [
            "Epoch:3 Val Dise:  0.27758777141571045\n",
            "Epoch 5 of 400\n",
            "Training\n"
          ]
        },
        {
          "output_type": "stream",
          "name": "stderr",
          "text": [
            "8it [00:03,  2.20it/s]\n"
          ]
        },
        {
          "output_type": "stream",
          "name": "stdout",
          "text": [
            "Epoch loss:  13.778282880783081\n",
            "Dise:  0.2398330681025982\n",
            "----------Validation----------\n"
          ]
        },
        {
          "output_type": "stream",
          "name": "stderr",
          "text": [
            "2it [00:00, 11.04it/s]\n"
          ]
        },
        {
          "output_type": "stream",
          "name": "stdout",
          "text": [
            "Epoch:4 Val Dise:  0.27792973816394806\n",
            "Epoch 6 of 400\n",
            "Training\n"
          ]
        },
        {
          "output_type": "stream",
          "name": "stderr",
          "text": [
            "8it [00:03,  2.20it/s]\n"
          ]
        },
        {
          "output_type": "stream",
          "name": "stdout",
          "text": [
            "Epoch loss:  13.572062253952026\n",
            "Dise:  0.2355593591928482\n",
            "----------Validation----------\n"
          ]
        },
        {
          "output_type": "stream",
          "name": "stderr",
          "text": [
            "2it [00:00, 11.29it/s]\n"
          ]
        },
        {
          "output_type": "stream",
          "name": "stdout",
          "text": [
            "Epoch:5 Val Dise:  0.2775261774659157\n",
            "Epoch 7 of 400\n",
            "Training\n"
          ]
        },
        {
          "output_type": "stream",
          "name": "stderr",
          "text": [
            "8it [00:03,  2.26it/s]\n"
          ]
        },
        {
          "output_type": "stream",
          "name": "stdout",
          "text": [
            "Epoch loss:  13.389495372772217\n",
            "Dise:  0.22761582769453526\n",
            "----------Validation----------\n"
          ]
        },
        {
          "output_type": "stream",
          "name": "stderr",
          "text": [
            "2it [00:00, 10.62it/s]\n"
          ]
        },
        {
          "output_type": "stream",
          "name": "stdout",
          "text": [
            "Epoch:6 Val Dise:  0.27706071734428406\n",
            "Epoch 8 of 400\n",
            "Training\n"
          ]
        },
        {
          "output_type": "stream",
          "name": "stderr",
          "text": [
            "8it [00:03,  2.24it/s]\n"
          ]
        },
        {
          "output_type": "stream",
          "name": "stdout",
          "text": [
            "Epoch loss:  13.246768474578857\n",
            "Dise:  0.2251734547317028\n",
            "----------Validation----------\n"
          ]
        },
        {
          "output_type": "stream",
          "name": "stderr",
          "text": [
            "2it [00:00, 11.28it/s]\n"
          ]
        },
        {
          "output_type": "stream",
          "name": "stdout",
          "text": [
            "Epoch:7 Val Dise:  0.27665672451257706\n",
            "Epoch 9 of 400\n",
            "Training\n"
          ]
        },
        {
          "output_type": "stream",
          "name": "stderr",
          "text": [
            "8it [00:03,  2.18it/s]\n"
          ]
        },
        {
          "output_type": "stream",
          "name": "stdout",
          "text": [
            "Epoch loss:  12.877277612686157\n",
            "Dise:  0.22755413688719273\n",
            "----------Validation----------\n"
          ]
        },
        {
          "output_type": "stream",
          "name": "stderr",
          "text": [
            "2it [00:00, 10.93it/s]\n"
          ]
        },
        {
          "output_type": "stream",
          "name": "stdout",
          "text": [
            "Epoch:8 Val Dise:  0.27659252285957336\n",
            "Epoch 10 of 400\n",
            "Training\n"
          ]
        },
        {
          "output_type": "stream",
          "name": "stderr",
          "text": [
            "8it [00:04,  1.97it/s]\n"
          ]
        },
        {
          "output_type": "stream",
          "name": "stdout",
          "text": [
            "Epoch loss:  12.752313256263733\n",
            "Dise:  0.22449784353375435\n",
            "----------Validation----------\n"
          ]
        },
        {
          "output_type": "stream",
          "name": "stderr",
          "text": [
            "2it [00:00,  7.54it/s]\n"
          ]
        },
        {
          "output_type": "stream",
          "name": "stdout",
          "text": [
            "Epoch:9 Val Dise:  0.2759517505764961\n",
            "Epoch 11 of 400\n",
            "Training\n"
          ]
        },
        {
          "output_type": "stream",
          "name": "stderr",
          "text": [
            "8it [00:03,  2.16it/s]\n"
          ]
        },
        {
          "output_type": "stream",
          "name": "stdout",
          "text": [
            "Epoch loss:  12.81565523147583\n",
            "Dise:  0.2255755215883255\n",
            "----------Validation----------\n"
          ]
        },
        {
          "output_type": "stream",
          "name": "stderr",
          "text": [
            "2it [00:00, 11.39it/s]\n"
          ]
        },
        {
          "output_type": "stream",
          "name": "stdout",
          "text": [
            "Epoch:10 Val Dise:  0.27596572041511536\n",
            "Epoch 12 of 400\n",
            "Training\n"
          ]
        },
        {
          "output_type": "stream",
          "name": "stderr",
          "text": [
            "8it [00:03,  2.37it/s]\n"
          ]
        },
        {
          "output_type": "stream",
          "name": "stdout",
          "text": [
            "Epoch loss:  12.700327396392822\n",
            "Dise:  0.2209798414260149\n",
            "----------Validation----------\n"
          ]
        },
        {
          "output_type": "stream",
          "name": "stderr",
          "text": [
            "2it [00:00, 10.94it/s]\n"
          ]
        },
        {
          "output_type": "stream",
          "name": "stdout",
          "text": [
            "Epoch:11 Val Dise:  0.27595560997724533\n",
            "Epoch 13 of 400\n",
            "Training\n"
          ]
        },
        {
          "output_type": "stream",
          "name": "stderr",
          "text": [
            "8it [00:03,  2.35it/s]\n"
          ]
        },
        {
          "output_type": "stream",
          "name": "stdout",
          "text": [
            "Epoch loss:  12.617113590240479\n",
            "Dise:  0.2246528621762991\n",
            "----------Validation----------\n"
          ]
        },
        {
          "output_type": "stream",
          "name": "stderr",
          "text": [
            "2it [00:00, 11.89it/s]\n"
          ]
        },
        {
          "output_type": "stream",
          "name": "stdout",
          "text": [
            "Epoch:12 Val Dise:  0.2758138030767441\n",
            "Epoch 14 of 400\n",
            "Training\n"
          ]
        },
        {
          "output_type": "stream",
          "name": "stderr",
          "text": [
            "8it [00:03,  2.31it/s]\n"
          ]
        },
        {
          "output_type": "stream",
          "name": "stdout",
          "text": [
            "Epoch loss:  12.475860595703125\n",
            "Dise:  0.22178906202316284\n",
            "----------Validation----------\n"
          ]
        },
        {
          "output_type": "stream",
          "name": "stderr",
          "text": [
            "2it [00:00, 11.96it/s]\n"
          ]
        },
        {
          "output_type": "stream",
          "name": "stdout",
          "text": [
            "Epoch:13 Val Dise:  0.2757379487156868\n",
            "Epoch 15 of 400\n",
            "Training\n"
          ]
        },
        {
          "output_type": "stream",
          "name": "stderr",
          "text": [
            "8it [00:03,  2.38it/s]\n"
          ]
        },
        {
          "output_type": "stream",
          "name": "stdout",
          "text": [
            "Epoch loss:  12.471847653388977\n",
            "Dise:  0.22458762489259243\n",
            "----------Validation----------\n"
          ]
        },
        {
          "output_type": "stream",
          "name": "stderr",
          "text": [
            "2it [00:00, 10.38it/s]\n"
          ]
        },
        {
          "output_type": "stream",
          "name": "stdout",
          "text": [
            "Epoch:14 Val Dise:  0.27588772773742676\n",
            "Epoch 16 of 400\n",
            "Training\n"
          ]
        },
        {
          "output_type": "stream",
          "name": "stderr",
          "text": [
            "8it [00:03,  2.28it/s]\n"
          ]
        },
        {
          "output_type": "stream",
          "name": "stdout",
          "text": [
            "Epoch loss:  12.331029057502747\n",
            "Dise:  0.2261518482118845\n",
            "----------Validation----------\n"
          ]
        },
        {
          "output_type": "stream",
          "name": "stderr",
          "text": [
            "2it [00:00, 10.51it/s]\n"
          ]
        },
        {
          "output_type": "stream",
          "name": "stdout",
          "text": [
            "Epoch:15 Val Dise:  0.2754329890012741\n",
            "Epoch 17 of 400\n",
            "Training\n"
          ]
        },
        {
          "output_type": "stream",
          "name": "stderr",
          "text": [
            "8it [00:03,  2.23it/s]\n"
          ]
        },
        {
          "output_type": "stream",
          "name": "stdout",
          "text": [
            "Epoch loss:  12.297663688659668\n",
            "Dise:  0.24047105759382248\n",
            "----------Validation----------\n"
          ]
        },
        {
          "output_type": "stream",
          "name": "stderr",
          "text": [
            "2it [00:00, 11.42it/s]\n"
          ]
        },
        {
          "output_type": "stream",
          "name": "stdout",
          "text": [
            "Epoch:16 Val Dise:  0.27551881968975067\n",
            "Epoch 18 of 400\n",
            "Training\n"
          ]
        },
        {
          "output_type": "stream",
          "name": "stderr",
          "text": [
            "8it [00:03,  2.22it/s]\n"
          ]
        },
        {
          "output_type": "stream",
          "name": "stdout",
          "text": [
            "Epoch loss:  12.30359172821045\n",
            "Dise:  0.2302484605461359\n",
            "----------Validation----------\n"
          ]
        },
        {
          "output_type": "stream",
          "name": "stderr",
          "text": [
            "2it [00:00, 10.97it/s]\n"
          ]
        },
        {
          "output_type": "stream",
          "name": "stdout",
          "text": [
            "Epoch:17 Val Dise:  0.27598822116851807\n",
            "Epoch 19 of 400\n",
            "Training\n"
          ]
        },
        {
          "output_type": "stream",
          "name": "stderr",
          "text": [
            "8it [00:03,  2.38it/s]\n"
          ]
        },
        {
          "output_type": "stream",
          "name": "stdout",
          "text": [
            "Epoch loss:  12.153276085853577\n",
            "Dise:  0.23283152282238007\n",
            "----------Validation----------\n"
          ]
        },
        {
          "output_type": "stream",
          "name": "stderr",
          "text": [
            "2it [00:00, 11.51it/s]\n"
          ]
        },
        {
          "output_type": "stream",
          "name": "stdout",
          "text": [
            "Epoch:18 Val Dise:  0.2769375592470169\n",
            "Epoch 20 of 400\n",
            "Training\n"
          ]
        },
        {
          "output_type": "stream",
          "name": "stderr",
          "text": [
            "8it [00:03,  2.23it/s]\n"
          ]
        },
        {
          "output_type": "stream",
          "name": "stdout",
          "text": [
            "Epoch loss:  12.066176414489746\n",
            "Dise:  0.23105012625455856\n",
            "----------Validation----------\n"
          ]
        },
        {
          "output_type": "stream",
          "name": "stderr",
          "text": [
            "2it [00:00, 11.15it/s]\n"
          ]
        },
        {
          "output_type": "stream",
          "name": "stdout",
          "text": [
            "Epoch:19 Val Dise:  0.27721551060676575\n",
            "Epoch 21 of 400\n",
            "Training\n"
          ]
        },
        {
          "output_type": "stream",
          "name": "stderr",
          "text": [
            "8it [00:03,  2.28it/s]\n"
          ]
        },
        {
          "output_type": "stream",
          "name": "stdout",
          "text": [
            "Epoch loss:  12.080079913139343\n",
            "Dise:  0.2225335668772459\n",
            "----------Validation----------\n"
          ]
        },
        {
          "output_type": "stream",
          "name": "stderr",
          "text": [
            "2it [00:00, 11.18it/s]\n"
          ]
        },
        {
          "output_type": "stream",
          "name": "stdout",
          "text": [
            "Epoch:20 Val Dise:  0.27774830907583237\n",
            "Epoch 22 of 400\n",
            "Training\n"
          ]
        },
        {
          "output_type": "stream",
          "name": "stderr",
          "text": [
            "8it [00:03,  2.27it/s]\n"
          ]
        },
        {
          "output_type": "stream",
          "name": "stdout",
          "text": [
            "Epoch loss:  11.985844016075134\n",
            "Dise:  0.23170918226242065\n",
            "----------Validation----------\n"
          ]
        },
        {
          "output_type": "stream",
          "name": "stderr",
          "text": [
            "2it [00:00, 11.56it/s]\n"
          ]
        },
        {
          "output_type": "stream",
          "name": "stdout",
          "text": [
            "Epoch:21 Val Dise:  0.27863335609436035\n",
            "Epoch 23 of 400\n",
            "Training\n"
          ]
        },
        {
          "output_type": "stream",
          "name": "stderr",
          "text": [
            "8it [00:03,  2.31it/s]\n"
          ]
        },
        {
          "output_type": "stream",
          "name": "stdout",
          "text": [
            "Epoch loss:  12.082528114318848\n",
            "Dise:  0.21797883324325085\n",
            "----------Validation----------\n"
          ]
        },
        {
          "output_type": "stream",
          "name": "stderr",
          "text": [
            "2it [00:00, 11.37it/s]\n"
          ]
        },
        {
          "output_type": "stream",
          "name": "stdout",
          "text": [
            "Epoch:22 Val Dise:  0.2782784700393677\n",
            "Epoch 24 of 400\n",
            "Training\n"
          ]
        },
        {
          "output_type": "stream",
          "name": "stderr",
          "text": [
            "8it [00:03,  2.27it/s]\n"
          ]
        },
        {
          "output_type": "stream",
          "name": "stdout",
          "text": [
            "Epoch loss:  12.029220700263977\n",
            "Dise:  0.22783618420362473\n",
            "----------Validation----------\n"
          ]
        },
        {
          "output_type": "stream",
          "name": "stderr",
          "text": [
            "2it [00:00, 11.23it/s]\n"
          ]
        },
        {
          "output_type": "stream",
          "name": "stdout",
          "text": [
            "Epoch:23 Val Dise:  0.2796967700123787\n",
            "Epoch 25 of 400\n",
            "Training\n"
          ]
        },
        {
          "output_type": "stream",
          "name": "stderr",
          "text": [
            "8it [00:03,  2.25it/s]\n"
          ]
        },
        {
          "output_type": "stream",
          "name": "stdout",
          "text": [
            "Epoch loss:  11.851890325546265\n",
            "Dise:  0.22714241221547127\n",
            "----------Validation----------\n"
          ]
        },
        {
          "output_type": "stream",
          "name": "stderr",
          "text": [
            "2it [00:00, 10.23it/s]\n"
          ]
        },
        {
          "output_type": "stream",
          "name": "stdout",
          "text": [
            "Epoch:24 Val Dise:  0.28093016892671585\n",
            "Epoch 26 of 400\n",
            "Training\n"
          ]
        },
        {
          "output_type": "stream",
          "name": "stderr",
          "text": [
            "8it [00:03,  2.34it/s]\n"
          ]
        },
        {
          "output_type": "stream",
          "name": "stdout",
          "text": [
            "Epoch loss:  11.781681537628174\n",
            "Dise:  0.23192844539880753\n",
            "----------Validation----------\n"
          ]
        },
        {
          "output_type": "stream",
          "name": "stderr",
          "text": [
            "2it [00:00, 11.15it/s]\n"
          ]
        },
        {
          "output_type": "stream",
          "name": "stdout",
          "text": [
            "Epoch:25 Val Dise:  0.2803974375128746\n",
            "Epoch 27 of 400\n",
            "Training\n"
          ]
        },
        {
          "output_type": "stream",
          "name": "stderr",
          "text": [
            "8it [00:03,  2.34it/s]\n"
          ]
        },
        {
          "output_type": "stream",
          "name": "stdout",
          "text": [
            "Epoch loss:  11.67757523059845\n",
            "Dise:  0.24485053308308125\n",
            "----------Validation----------\n"
          ]
        },
        {
          "output_type": "stream",
          "name": "stderr",
          "text": [
            "2it [00:00, 11.28it/s]\n"
          ]
        },
        {
          "output_type": "stream",
          "name": "stdout",
          "text": [
            "Epoch:26 Val Dise:  0.2807520925998688\n",
            "Epoch 28 of 400\n",
            "Training\n"
          ]
        },
        {
          "output_type": "stream",
          "name": "stderr",
          "text": [
            "8it [00:03,  2.26it/s]\n"
          ]
        },
        {
          "output_type": "stream",
          "name": "stdout",
          "text": [
            "Epoch loss:  11.714099407196045\n",
            "Dise:  0.23303957283496857\n",
            "----------Validation----------\n"
          ]
        },
        {
          "output_type": "stream",
          "name": "stderr",
          "text": [
            "2it [00:00, 10.99it/s]\n"
          ]
        },
        {
          "output_type": "stream",
          "name": "stdout",
          "text": [
            "Epoch:27 Val Dise:  0.28207144141197205\n",
            "Epoch 29 of 400\n",
            "Training\n"
          ]
        },
        {
          "output_type": "stream",
          "name": "stderr",
          "text": [
            "8it [00:03,  2.29it/s]\n"
          ]
        },
        {
          "output_type": "stream",
          "name": "stdout",
          "text": [
            "Epoch loss:  11.551757097244263\n",
            "Dise:  0.2509077750146389\n",
            "----------Validation----------\n"
          ]
        },
        {
          "output_type": "stream",
          "name": "stderr",
          "text": [
            "2it [00:00, 11.35it/s]\n"
          ]
        },
        {
          "output_type": "stream",
          "name": "stdout",
          "text": [
            "Epoch:28 Val Dise:  0.2840406969189644\n",
            "Epoch 30 of 400\n",
            "Training\n"
          ]
        },
        {
          "output_type": "stream",
          "name": "stderr",
          "text": [
            "8it [00:03,  2.37it/s]\n"
          ]
        },
        {
          "output_type": "stream",
          "name": "stdout",
          "text": [
            "Epoch loss:  11.609946489334106\n",
            "Dise:  0.24538730271160603\n",
            "----------Validation----------\n"
          ]
        },
        {
          "output_type": "stream",
          "name": "stderr",
          "text": [
            "2it [00:00, 11.82it/s]\n"
          ]
        },
        {
          "output_type": "stream",
          "name": "stdout",
          "text": [
            "Epoch:29 Val Dise:  0.2841174229979515\n",
            "Epoch 31 of 400\n",
            "Training\n"
          ]
        },
        {
          "output_type": "stream",
          "name": "stderr",
          "text": [
            "8it [00:03,  2.34it/s]\n"
          ]
        },
        {
          "output_type": "stream",
          "name": "stdout",
          "text": [
            "Epoch loss:  11.471548676490784\n",
            "Dise:  0.2468870710581541\n",
            "----------Validation----------\n"
          ]
        },
        {
          "output_type": "stream",
          "name": "stderr",
          "text": [
            "2it [00:00, 11.17it/s]\n"
          ]
        },
        {
          "output_type": "stream",
          "name": "stdout",
          "text": [
            "Epoch:30 Val Dise:  0.2879551276564598\n",
            "Epoch 32 of 400\n",
            "Training\n"
          ]
        },
        {
          "output_type": "stream",
          "name": "stderr",
          "text": [
            "8it [00:03,  2.32it/s]\n"
          ]
        },
        {
          "output_type": "stream",
          "name": "stdout",
          "text": [
            "Epoch loss:  11.42166006565094\n",
            "Dise:  0.2417314350605011\n",
            "----------Validation----------\n"
          ]
        },
        {
          "output_type": "stream",
          "name": "stderr",
          "text": [
            "2it [00:00, 10.67it/s]\n"
          ]
        },
        {
          "output_type": "stream",
          "name": "stdout",
          "text": [
            "Epoch:31 Val Dise:  0.2897542417049408\n",
            "Epoch 33 of 400\n",
            "Training\n"
          ]
        },
        {
          "output_type": "stream",
          "name": "stderr",
          "text": [
            "8it [00:03,  2.33it/s]\n"
          ]
        },
        {
          "output_type": "stream",
          "name": "stdout",
          "text": [
            "Epoch loss:  11.331707835197449\n",
            "Dise:  0.25848657824099064\n",
            "----------Validation----------\n"
          ]
        },
        {
          "output_type": "stream",
          "name": "stderr",
          "text": [
            "2it [00:00, 11.13it/s]\n"
          ]
        },
        {
          "output_type": "stream",
          "name": "stdout",
          "text": [
            "Epoch:32 Val Dise:  0.29112451523542404\n",
            "Epoch 34 of 400\n",
            "Training\n"
          ]
        },
        {
          "output_type": "stream",
          "name": "stderr",
          "text": [
            "8it [00:03,  2.26it/s]\n"
          ]
        },
        {
          "output_type": "stream",
          "name": "stdout",
          "text": [
            "Epoch loss:  11.422945380210876\n",
            "Dise:  0.24815569445490837\n",
            "----------Validation----------\n"
          ]
        },
        {
          "output_type": "stream",
          "name": "stderr",
          "text": [
            "2it [00:00, 10.75it/s]\n"
          ]
        },
        {
          "output_type": "stream",
          "name": "stdout",
          "text": [
            "Epoch:33 Val Dise:  0.288612924516201\n",
            "Epoch 35 of 400\n",
            "Training\n"
          ]
        },
        {
          "output_type": "stream",
          "name": "stderr",
          "text": [
            "8it [00:03,  2.30it/s]\n"
          ]
        },
        {
          "output_type": "stream",
          "name": "stdout",
          "text": [
            "Epoch loss:  11.151744723320007\n",
            "Dise:  0.2634062934666872\n",
            "----------Validation----------\n"
          ]
        },
        {
          "output_type": "stream",
          "name": "stderr",
          "text": [
            "2it [00:00, 11.05it/s]\n"
          ]
        },
        {
          "output_type": "stream",
          "name": "stdout",
          "text": [
            "Epoch:34 Val Dise:  0.2941449210047722\n",
            "Epoch 36 of 400\n",
            "Training\n"
          ]
        },
        {
          "output_type": "stream",
          "name": "stderr",
          "text": [
            "8it [00:03,  2.26it/s]\n"
          ]
        },
        {
          "output_type": "stream",
          "name": "stdout",
          "text": [
            "Epoch loss:  11.168447494506836\n",
            "Dise:  0.26044546999037266\n",
            "----------Validation----------\n"
          ]
        },
        {
          "output_type": "stream",
          "name": "stderr",
          "text": [
            "2it [00:00, 10.98it/s]\n"
          ]
        },
        {
          "output_type": "stream",
          "name": "stdout",
          "text": [
            "Epoch:35 Val Dise:  0.30012207478284836\n",
            "Epoch 37 of 400\n",
            "Training\n"
          ]
        },
        {
          "output_type": "stream",
          "name": "stderr",
          "text": [
            "8it [00:03,  2.23it/s]\n"
          ]
        },
        {
          "output_type": "stream",
          "name": "stdout",
          "text": [
            "Epoch loss:  11.115695714950562\n",
            "Dise:  0.2568024769425392\n",
            "----------Validation----------\n"
          ]
        },
        {
          "output_type": "stream",
          "name": "stderr",
          "text": [
            "2it [00:00, 10.70it/s]\n"
          ]
        },
        {
          "output_type": "stream",
          "name": "stdout",
          "text": [
            "Epoch:36 Val Dise:  0.3033265322446823\n",
            "Epoch 38 of 400\n",
            "Training\n"
          ]
        },
        {
          "output_type": "stream",
          "name": "stderr",
          "text": [
            "8it [00:03,  2.31it/s]\n"
          ]
        },
        {
          "output_type": "stream",
          "name": "stdout",
          "text": [
            "Epoch loss:  11.053626894950867\n",
            "Dise:  0.2579707968980074\n",
            "----------Validation----------\n"
          ]
        },
        {
          "output_type": "stream",
          "name": "stderr",
          "text": [
            "2it [00:00, 11.10it/s]\n"
          ]
        },
        {
          "output_type": "stream",
          "name": "stdout",
          "text": [
            "Epoch:37 Val Dise:  0.3091334253549576\n",
            "Epoch 39 of 400\n",
            "Training\n"
          ]
        },
        {
          "output_type": "stream",
          "name": "stderr",
          "text": [
            "8it [00:03,  2.29it/s]\n"
          ]
        },
        {
          "output_type": "stream",
          "name": "stdout",
          "text": [
            "Epoch loss:  10.949088454246521\n",
            "Dise:  0.27098026871681213\n",
            "----------Validation----------\n"
          ]
        },
        {
          "output_type": "stream",
          "name": "stderr",
          "text": [
            "2it [00:00, 10.86it/s]\n"
          ]
        },
        {
          "output_type": "stream",
          "name": "stdout",
          "text": [
            "Epoch:38 Val Dise:  0.30707962810993195\n",
            "Epoch 40 of 400\n",
            "Training\n"
          ]
        },
        {
          "output_type": "stream",
          "name": "stderr",
          "text": [
            "8it [00:03,  2.27it/s]\n"
          ]
        },
        {
          "output_type": "stream",
          "name": "stdout",
          "text": [
            "Epoch loss:  10.811134576797485\n",
            "Dise:  0.27317715622484684\n",
            "----------Validation----------\n"
          ]
        },
        {
          "output_type": "stream",
          "name": "stderr",
          "text": [
            "2it [00:00, 11.11it/s]\n"
          ]
        },
        {
          "output_type": "stream",
          "name": "stdout",
          "text": [
            "Epoch:39 Val Dise:  0.3032435029745102\n",
            "Epoch 41 of 400\n",
            "Training\n"
          ]
        },
        {
          "output_type": "stream",
          "name": "stderr",
          "text": [
            "8it [00:03,  2.25it/s]\n"
          ]
        },
        {
          "output_type": "stream",
          "name": "stdout",
          "text": [
            "Epoch loss:  10.869052767753601\n",
            "Dise:  0.26088128611445427\n",
            "----------Validation----------\n"
          ]
        },
        {
          "output_type": "stream",
          "name": "stderr",
          "text": [
            "2it [00:00, 11.16it/s]\n"
          ]
        },
        {
          "output_type": "stream",
          "name": "stdout",
          "text": [
            "Epoch:40 Val Dise:  0.30810754001140594\n",
            "Epoch 42 of 400\n",
            "Training\n"
          ]
        },
        {
          "output_type": "stream",
          "name": "stderr",
          "text": [
            "8it [00:03,  2.26it/s]\n"
          ]
        },
        {
          "output_type": "stream",
          "name": "stdout",
          "text": [
            "Epoch loss:  10.817111849784851\n",
            "Dise:  0.2728443033993244\n",
            "----------Validation----------\n"
          ]
        },
        {
          "output_type": "stream",
          "name": "stderr",
          "text": [
            "2it [00:00, 11.52it/s]\n"
          ]
        },
        {
          "output_type": "stream",
          "name": "stdout",
          "text": [
            "Epoch:41 Val Dise:  0.3105170577764511\n",
            "Epoch 43 of 400\n",
            "Training\n"
          ]
        },
        {
          "output_type": "stream",
          "name": "stderr",
          "text": [
            "8it [00:03,  2.35it/s]\n"
          ]
        },
        {
          "output_type": "stream",
          "name": "stdout",
          "text": [
            "Epoch loss:  10.757675647735596\n",
            "Dise:  0.269512377679348\n",
            "----------Validation----------\n"
          ]
        },
        {
          "output_type": "stream",
          "name": "stderr",
          "text": [
            "2it [00:00, 11.42it/s]\n"
          ]
        },
        {
          "output_type": "stream",
          "name": "stdout",
          "text": [
            "Epoch:42 Val Dise:  0.3113057315349579\n",
            "Epoch 44 of 400\n",
            "Training\n"
          ]
        },
        {
          "output_type": "stream",
          "name": "stderr",
          "text": [
            "8it [00:03,  2.36it/s]\n"
          ]
        },
        {
          "output_type": "stream",
          "name": "stdout",
          "text": [
            "Epoch loss:  10.612544298171997\n",
            "Dise:  0.2897185478359461\n",
            "----------Validation----------\n"
          ]
        },
        {
          "output_type": "stream",
          "name": "stderr",
          "text": [
            "2it [00:00, 11.12it/s]\n"
          ]
        },
        {
          "output_type": "stream",
          "name": "stdout",
          "text": [
            "Epoch:43 Val Dise:  0.32009077072143555\n",
            "Epoch 45 of 400\n",
            "Training\n"
          ]
        },
        {
          "output_type": "stream",
          "name": "stderr",
          "text": [
            "8it [00:03,  2.36it/s]\n"
          ]
        },
        {
          "output_type": "stream",
          "name": "stdout",
          "text": [
            "Epoch loss:  10.497430801391602\n",
            "Dise:  0.29173025116324425\n",
            "----------Validation----------\n"
          ]
        },
        {
          "output_type": "stream",
          "name": "stderr",
          "text": [
            "2it [00:00, 11.37it/s]\n"
          ]
        },
        {
          "output_type": "stream",
          "name": "stdout",
          "text": [
            "Epoch:44 Val Dise:  0.31354308128356934\n",
            "Epoch 46 of 400\n",
            "Training\n"
          ]
        },
        {
          "output_type": "stream",
          "name": "stderr",
          "text": [
            "8it [00:03,  2.38it/s]\n"
          ]
        },
        {
          "output_type": "stream",
          "name": "stdout",
          "text": [
            "Epoch loss:  10.394856333732605\n",
            "Dise:  0.29962340742349625\n",
            "----------Validation----------\n"
          ]
        },
        {
          "output_type": "stream",
          "name": "stderr",
          "text": [
            "2it [00:00, 11.56it/s]\n"
          ]
        },
        {
          "output_type": "stream",
          "name": "stdout",
          "text": [
            "Epoch:45 Val Dise:  0.3281991481781006\n",
            "Epoch 47 of 400\n",
            "Training\n"
          ]
        },
        {
          "output_type": "stream",
          "name": "stderr",
          "text": [
            "8it [00:03,  2.48it/s]\n"
          ]
        },
        {
          "output_type": "stream",
          "name": "stdout",
          "text": [
            "Epoch loss:  10.528464674949646\n",
            "Dise:  0.29363361187279224\n",
            "----------Validation----------\n"
          ]
        },
        {
          "output_type": "stream",
          "name": "stderr",
          "text": [
            "2it [00:00, 10.85it/s]\n"
          ]
        },
        {
          "output_type": "stream",
          "name": "stdout",
          "text": [
            "Epoch:46 Val Dise:  0.3379386365413666\n",
            "Epoch 48 of 400\n",
            "Training\n"
          ]
        },
        {
          "output_type": "stream",
          "name": "stderr",
          "text": [
            "8it [00:03,  2.22it/s]\n"
          ]
        },
        {
          "output_type": "stream",
          "name": "stdout",
          "text": [
            "Epoch loss:  10.444567441940308\n",
            "Dise:  0.2906536255031824\n",
            "----------Validation----------\n"
          ]
        },
        {
          "output_type": "stream",
          "name": "stderr",
          "text": [
            "2it [00:00, 11.48it/s]\n"
          ]
        },
        {
          "output_type": "stream",
          "name": "stdout",
          "text": [
            "Epoch:47 Val Dise:  0.33090804517269135\n",
            "Epoch 49 of 400\n",
            "Training\n"
          ]
        },
        {
          "output_type": "stream",
          "name": "stderr",
          "text": [
            "8it [00:03,  2.33it/s]\n"
          ]
        },
        {
          "output_type": "stream",
          "name": "stdout",
          "text": [
            "Epoch loss:  10.227386116981506\n",
            "Dise:  0.3028514180332422\n",
            "----------Validation----------\n"
          ]
        },
        {
          "output_type": "stream",
          "name": "stderr",
          "text": [
            "2it [00:00, 11.29it/s]\n"
          ]
        },
        {
          "output_type": "stream",
          "name": "stdout",
          "text": [
            "Epoch:48 Val Dise:  0.3308798521757126\n",
            "Epoch 50 of 400\n",
            "Training\n"
          ]
        },
        {
          "output_type": "stream",
          "name": "stderr",
          "text": [
            "8it [00:03,  2.29it/s]\n"
          ]
        },
        {
          "output_type": "stream",
          "name": "stdout",
          "text": [
            "Epoch loss:  10.311167478561401\n",
            "Dise:  0.30553838424384594\n",
            "----------Validation----------\n"
          ]
        },
        {
          "output_type": "stream",
          "name": "stderr",
          "text": [
            "2it [00:00, 10.62it/s]\n"
          ]
        },
        {
          "output_type": "stream",
          "name": "stdout",
          "text": [
            "Epoch:49 Val Dise:  0.34085723757743835\n",
            "Epoch 51 of 400\n",
            "Training\n"
          ]
        },
        {
          "output_type": "stream",
          "name": "stderr",
          "text": [
            "8it [00:03,  2.28it/s]\n"
          ]
        },
        {
          "output_type": "stream",
          "name": "stdout",
          "text": [
            "Epoch loss:  10.192364573478699\n",
            "Dise:  0.30513634718954563\n",
            "----------Validation----------\n"
          ]
        },
        {
          "output_type": "stream",
          "name": "stderr",
          "text": [
            "2it [00:00, 11.11it/s]\n"
          ]
        },
        {
          "output_type": "stream",
          "name": "stdout",
          "text": [
            "Epoch:50 Val Dise:  0.3390990346670151\n",
            "Epoch 52 of 400\n",
            "Training\n"
          ]
        },
        {
          "output_type": "stream",
          "name": "stderr",
          "text": [
            "8it [00:03,  2.30it/s]\n"
          ]
        },
        {
          "output_type": "stream",
          "name": "stdout",
          "text": [
            "Epoch loss:  10.137177586555481\n",
            "Dise:  0.3058180958032608\n",
            "----------Validation----------\n"
          ]
        },
        {
          "output_type": "stream",
          "name": "stderr",
          "text": [
            "2it [00:00, 10.90it/s]\n"
          ]
        },
        {
          "output_type": "stream",
          "name": "stdout",
          "text": [
            "Epoch:51 Val Dise:  0.3378809988498688\n",
            "Epoch 53 of 400\n",
            "Training\n"
          ]
        },
        {
          "output_type": "stream",
          "name": "stderr",
          "text": [
            "8it [00:03,  2.27it/s]\n"
          ]
        },
        {
          "output_type": "stream",
          "name": "stdout",
          "text": [
            "Epoch loss:  9.999024868011475\n",
            "Dise:  0.31336718425154686\n",
            "----------Validation----------\n"
          ]
        },
        {
          "output_type": "stream",
          "name": "stderr",
          "text": [
            "2it [00:00, 10.88it/s]\n"
          ]
        },
        {
          "output_type": "stream",
          "name": "stdout",
          "text": [
            "Epoch:52 Val Dise:  0.33926285803318024\n",
            "Epoch 54 of 400\n",
            "Training\n"
          ]
        },
        {
          "output_type": "stream",
          "name": "stderr",
          "text": [
            "8it [00:03,  2.29it/s]\n"
          ]
        },
        {
          "output_type": "stream",
          "name": "stdout",
          "text": [
            "Epoch loss:  9.982252478599548\n",
            "Dise:  0.31748779118061066\n",
            "----------Validation----------\n"
          ]
        },
        {
          "output_type": "stream",
          "name": "stderr",
          "text": [
            "2it [00:00, 11.25it/s]\n"
          ]
        },
        {
          "output_type": "stream",
          "name": "stdout",
          "text": [
            "Epoch:53 Val Dise:  0.34270690381526947\n",
            "Epoch 55 of 400\n",
            "Training\n"
          ]
        },
        {
          "output_type": "stream",
          "name": "stderr",
          "text": [
            "8it [00:03,  2.26it/s]\n"
          ]
        },
        {
          "output_type": "stream",
          "name": "stdout",
          "text": [
            "Epoch loss:  9.890924453735352\n",
            "Dise:  0.3211646340787411\n",
            "----------Validation----------\n"
          ]
        },
        {
          "output_type": "stream",
          "name": "stderr",
          "text": [
            "2it [00:00, 11.12it/s]\n"
          ]
        },
        {
          "output_type": "stream",
          "name": "stdout",
          "text": [
            "Epoch:54 Val Dise:  0.3527894616127014\n",
            "Epoch 56 of 400\n",
            "Training\n"
          ]
        },
        {
          "output_type": "stream",
          "name": "stderr",
          "text": [
            "8it [00:03,  2.35it/s]\n"
          ]
        },
        {
          "output_type": "stream",
          "name": "stdout",
          "text": [
            "Epoch loss:  9.793043851852417\n",
            "Dise:  0.32438822463154793\n",
            "----------Validation----------\n"
          ]
        },
        {
          "output_type": "stream",
          "name": "stderr",
          "text": [
            "2it [00:00, 11.48it/s]\n"
          ]
        },
        {
          "output_type": "stream",
          "name": "stdout",
          "text": [
            "Epoch:55 Val Dise:  0.36444827914237976\n",
            "Epoch 57 of 400\n",
            "Training\n"
          ]
        },
        {
          "output_type": "stream",
          "name": "stderr",
          "text": [
            "8it [00:03,  2.30it/s]\n"
          ]
        },
        {
          "output_type": "stream",
          "name": "stdout",
          "text": [
            "Epoch loss:  9.803759217262268\n",
            "Dise:  0.33208221569657326\n",
            "----------Validation----------\n"
          ]
        },
        {
          "output_type": "stream",
          "name": "stderr",
          "text": [
            "2it [00:00, 10.33it/s]\n"
          ]
        },
        {
          "output_type": "stream",
          "name": "stdout",
          "text": [
            "Epoch:56 Val Dise:  0.36346495151519775\n",
            "Epoch 58 of 400\n",
            "Training\n"
          ]
        },
        {
          "output_type": "stream",
          "name": "stderr",
          "text": [
            "8it [00:03,  2.39it/s]\n"
          ]
        },
        {
          "output_type": "stream",
          "name": "stdout",
          "text": [
            "Epoch loss:  9.595014095306396\n",
            "Dise:  0.34592143446207047\n",
            "----------Validation----------\n"
          ]
        },
        {
          "output_type": "stream",
          "name": "stderr",
          "text": [
            "2it [00:00, 10.96it/s]\n"
          ]
        },
        {
          "output_type": "stream",
          "name": "stdout",
          "text": [
            "Epoch:57 Val Dise:  0.350900262594223\n",
            "Epoch 59 of 400\n",
            "Training\n"
          ]
        },
        {
          "output_type": "stream",
          "name": "stderr",
          "text": [
            "8it [00:03,  2.29it/s]\n"
          ]
        },
        {
          "output_type": "stream",
          "name": "stdout",
          "text": [
            "Epoch loss:  9.647162914276123\n",
            "Dise:  0.3423057459294796\n",
            "----------Validation----------\n"
          ]
        },
        {
          "output_type": "stream",
          "name": "stderr",
          "text": [
            "2it [00:00, 11.33it/s]\n"
          ]
        },
        {
          "output_type": "stream",
          "name": "stdout",
          "text": [
            "Epoch:58 Val Dise:  0.35951338708400726\n",
            "Epoch 60 of 400\n",
            "Training\n"
          ]
        },
        {
          "output_type": "stream",
          "name": "stderr",
          "text": [
            "8it [00:03,  2.35it/s]\n"
          ]
        },
        {
          "output_type": "stream",
          "name": "stdout",
          "text": [
            "Epoch loss:  9.799723625183105\n",
            "Dise:  0.3222266975790262\n",
            "----------Validation----------\n"
          ]
        },
        {
          "output_type": "stream",
          "name": "stderr",
          "text": [
            "2it [00:00, 10.79it/s]\n"
          ]
        },
        {
          "output_type": "stream",
          "name": "stdout",
          "text": [
            "Epoch:59 Val Dise:  0.3626960963010788\n",
            "Epoch 61 of 400\n",
            "Training\n"
          ]
        },
        {
          "output_type": "stream",
          "name": "stderr",
          "text": [
            "8it [00:03,  2.19it/s]\n"
          ]
        },
        {
          "output_type": "stream",
          "name": "stdout",
          "text": [
            "Epoch loss:  9.526437759399414\n",
            "Dise:  0.34302858635783195\n",
            "----------Validation----------\n"
          ]
        },
        {
          "output_type": "stream",
          "name": "stderr",
          "text": [
            "2it [00:00, 10.81it/s]\n"
          ]
        },
        {
          "output_type": "stream",
          "name": "stdout",
          "text": [
            "Epoch:60 Val Dise:  0.3720491826534271\n",
            "Epoch 62 of 400\n",
            "Training\n"
          ]
        },
        {
          "output_type": "stream",
          "name": "stderr",
          "text": [
            "8it [00:03,  2.36it/s]\n"
          ]
        },
        {
          "output_type": "stream",
          "name": "stdout",
          "text": [
            "Epoch loss:  9.432708024978638\n",
            "Dise:  0.3450445532798767\n",
            "----------Validation----------\n"
          ]
        },
        {
          "output_type": "stream",
          "name": "stderr",
          "text": [
            "2it [00:00, 11.32it/s]\n"
          ]
        },
        {
          "output_type": "stream",
          "name": "stdout",
          "text": [
            "Epoch:61 Val Dise:  0.37502576410770416\n",
            "Epoch 63 of 400\n",
            "Training\n"
          ]
        },
        {
          "output_type": "stream",
          "name": "stderr",
          "text": [
            "8it [00:03,  2.27it/s]\n"
          ]
        },
        {
          "output_type": "stream",
          "name": "stdout",
          "text": [
            "Epoch loss:  9.266418218612671\n",
            "Dise:  0.35742127150297165\n",
            "----------Validation----------\n"
          ]
        },
        {
          "output_type": "stream",
          "name": "stderr",
          "text": [
            "2it [00:00, 11.17it/s]\n"
          ]
        },
        {
          "output_type": "stream",
          "name": "stdout",
          "text": [
            "Epoch:62 Val Dise:  0.37310151755809784\n",
            "Epoch 64 of 400\n",
            "Training\n"
          ]
        },
        {
          "output_type": "stream",
          "name": "stderr",
          "text": [
            "8it [00:03,  2.25it/s]\n"
          ]
        },
        {
          "output_type": "stream",
          "name": "stdout",
          "text": [
            "Epoch loss:  9.347845315933228\n",
            "Dise:  0.3630587086081505\n",
            "----------Validation----------\n"
          ]
        },
        {
          "output_type": "stream",
          "name": "stderr",
          "text": [
            "2it [00:00, 10.47it/s]\n"
          ]
        },
        {
          "output_type": "stream",
          "name": "stdout",
          "text": [
            "Epoch:63 Val Dise:  0.38853883743286133\n",
            "Epoch 65 of 400\n",
            "Training\n"
          ]
        },
        {
          "output_type": "stream",
          "name": "stderr",
          "text": [
            "8it [00:03,  2.32it/s]\n"
          ]
        },
        {
          "output_type": "stream",
          "name": "stdout",
          "text": [
            "Epoch loss:  9.26462435722351\n",
            "Dise:  0.3540458045899868\n",
            "----------Validation----------\n"
          ]
        },
        {
          "output_type": "stream",
          "name": "stderr",
          "text": [
            "2it [00:00, 10.75it/s]\n"
          ]
        },
        {
          "output_type": "stream",
          "name": "stdout",
          "text": [
            "Epoch:64 Val Dise:  0.39121007919311523\n",
            "Epoch 66 of 400\n",
            "Training\n"
          ]
        },
        {
          "output_type": "stream",
          "name": "stderr",
          "text": [
            "8it [00:03,  2.25it/s]\n"
          ]
        },
        {
          "output_type": "stream",
          "name": "stdout",
          "text": [
            "Epoch loss:  9.26270067691803\n",
            "Dise:  0.36266591027379036\n",
            "----------Validation----------\n"
          ]
        },
        {
          "output_type": "stream",
          "name": "stderr",
          "text": [
            "2it [00:00, 10.46it/s]\n"
          ]
        },
        {
          "output_type": "stream",
          "name": "stdout",
          "text": [
            "Epoch:65 Val Dise:  0.373969703912735\n",
            "Epoch 67 of 400\n",
            "Training\n"
          ]
        },
        {
          "output_type": "stream",
          "name": "stderr",
          "text": [
            "8it [00:03,  2.21it/s]\n"
          ]
        },
        {
          "output_type": "stream",
          "name": "stdout",
          "text": [
            "Epoch loss:  9.249924421310425\n",
            "Dise:  0.35727930068969727\n",
            "----------Validation----------\n"
          ]
        },
        {
          "output_type": "stream",
          "name": "stderr",
          "text": [
            "2it [00:00, 11.01it/s]\n"
          ]
        },
        {
          "output_type": "stream",
          "name": "stdout",
          "text": [
            "Epoch:66 Val Dise:  0.36012689769268036\n",
            "Epoch 68 of 400\n",
            "Training\n"
          ]
        },
        {
          "output_type": "stream",
          "name": "stderr",
          "text": [
            "8it [00:03,  2.26it/s]\n"
          ]
        },
        {
          "output_type": "stream",
          "name": "stdout",
          "text": [
            "Epoch loss:  9.048158764839172\n",
            "Dise:  0.3753322660923004\n",
            "----------Validation----------\n"
          ]
        },
        {
          "output_type": "stream",
          "name": "stderr",
          "text": [
            "2it [00:00, 11.01it/s]\n"
          ]
        },
        {
          "output_type": "stream",
          "name": "stdout",
          "text": [
            "Epoch:67 Val Dise:  0.3768454045057297\n",
            "Epoch 69 of 400\n",
            "Training\n"
          ]
        },
        {
          "output_type": "stream",
          "name": "stderr",
          "text": [
            "8it [00:03,  2.23it/s]\n"
          ]
        },
        {
          "output_type": "stream",
          "name": "stdout",
          "text": [
            "Epoch loss:  8.821321964263916\n",
            "Dise:  0.3844810351729393\n",
            "----------Validation----------\n"
          ]
        },
        {
          "output_type": "stream",
          "name": "stderr",
          "text": [
            "2it [00:00, 11.48it/s]\n"
          ]
        },
        {
          "output_type": "stream",
          "name": "stdout",
          "text": [
            "Epoch:68 Val Dise:  0.4012358784675598\n",
            "Epoch 70 of 400\n",
            "Training\n"
          ]
        },
        {
          "output_type": "stream",
          "name": "stderr",
          "text": [
            "8it [00:03,  2.36it/s]\n"
          ]
        },
        {
          "output_type": "stream",
          "name": "stdout",
          "text": [
            "Epoch loss:  8.727197051048279\n",
            "Dise:  0.396195724606514\n",
            "----------Validation----------\n"
          ]
        },
        {
          "output_type": "stream",
          "name": "stderr",
          "text": [
            "2it [00:00, 11.36it/s]\n"
          ]
        },
        {
          "output_type": "stream",
          "name": "stdout",
          "text": [
            "Epoch:69 Val Dise:  0.41551901400089264\n",
            "Epoch 71 of 400\n",
            "Training\n"
          ]
        },
        {
          "output_type": "stream",
          "name": "stderr",
          "text": [
            "8it [00:03,  2.30it/s]\n"
          ]
        },
        {
          "output_type": "stream",
          "name": "stdout",
          "text": [
            "Epoch loss:  8.749558687210083\n",
            "Dise:  0.39699404314160347\n",
            "----------Validation----------\n"
          ]
        },
        {
          "output_type": "stream",
          "name": "stderr",
          "text": [
            "2it [00:00, 11.14it/s]\n"
          ]
        },
        {
          "output_type": "stream",
          "name": "stdout",
          "text": [
            "Epoch:70 Val Dise:  0.4244809150695801\n",
            "Epoch 72 of 400\n",
            "Training\n"
          ]
        },
        {
          "output_type": "stream",
          "name": "stderr",
          "text": [
            "8it [00:03,  2.32it/s]\n"
          ]
        },
        {
          "output_type": "stream",
          "name": "stdout",
          "text": [
            "Epoch loss:  8.983106851577759\n",
            "Dise:  0.3627624297514558\n",
            "----------Validation----------\n"
          ]
        },
        {
          "output_type": "stream",
          "name": "stderr",
          "text": [
            "2it [00:00, 10.91it/s]\n"
          ]
        },
        {
          "output_type": "stream",
          "name": "stdout",
          "text": [
            "Epoch:71 Val Dise:  0.4231153130531311\n",
            "Epoch 73 of 400\n",
            "Training\n"
          ]
        },
        {
          "output_type": "stream",
          "name": "stderr",
          "text": [
            "8it [00:03,  2.23it/s]\n"
          ]
        },
        {
          "output_type": "stream",
          "name": "stdout",
          "text": [
            "Epoch loss:  8.503344178199768\n",
            "Dise:  0.3978683538734913\n",
            "----------Validation----------\n"
          ]
        },
        {
          "output_type": "stream",
          "name": "stderr",
          "text": [
            "2it [00:00, 10.96it/s]\n"
          ]
        },
        {
          "output_type": "stream",
          "name": "stdout",
          "text": [
            "Epoch:72 Val Dise:  0.4144938141107559\n",
            "Epoch 74 of 400\n",
            "Training\n"
          ]
        },
        {
          "output_type": "stream",
          "name": "stderr",
          "text": [
            "8it [00:03,  2.23it/s]\n"
          ]
        },
        {
          "output_type": "stream",
          "name": "stdout",
          "text": [
            "Epoch loss:  8.5850111246109\n",
            "Dise:  0.4012933373451233\n",
            "----------Validation----------\n"
          ]
        },
        {
          "output_type": "stream",
          "name": "stderr",
          "text": [
            "2it [00:00, 10.43it/s]\n"
          ]
        },
        {
          "output_type": "stream",
          "name": "stdout",
          "text": [
            "Epoch:73 Val Dise:  0.4092108756303787\n",
            "Epoch 75 of 400\n",
            "Training\n"
          ]
        },
        {
          "output_type": "stream",
          "name": "stderr",
          "text": [
            "8it [00:03,  2.18it/s]\n"
          ]
        },
        {
          "output_type": "stream",
          "name": "stdout",
          "text": [
            "Epoch loss:  8.623861372470856\n",
            "Dise:  0.3944367915391922\n",
            "----------Validation----------\n"
          ]
        },
        {
          "output_type": "stream",
          "name": "stderr",
          "text": [
            "2it [00:00, 10.78it/s]\n"
          ]
        },
        {
          "output_type": "stream",
          "name": "stdout",
          "text": [
            "Epoch:74 Val Dise:  0.43654438853263855\n",
            "Epoch 76 of 400\n",
            "Training\n"
          ]
        },
        {
          "output_type": "stream",
          "name": "stderr",
          "text": [
            "8it [00:03,  2.33it/s]\n"
          ]
        },
        {
          "output_type": "stream",
          "name": "stdout",
          "text": [
            "Epoch loss:  8.506403088569641\n",
            "Dise:  0.40917955338954926\n",
            "----------Validation----------\n"
          ]
        },
        {
          "output_type": "stream",
          "name": "stderr",
          "text": [
            "2it [00:00, 11.05it/s]\n"
          ]
        },
        {
          "output_type": "stream",
          "name": "stdout",
          "text": [
            "Epoch:75 Val Dise:  0.43906135857105255\n",
            "Epoch 77 of 400\n",
            "Training\n"
          ]
        },
        {
          "output_type": "stream",
          "name": "stderr",
          "text": [
            "8it [00:03,  2.32it/s]\n"
          ]
        },
        {
          "output_type": "stream",
          "name": "stdout",
          "text": [
            "Epoch loss:  8.387028098106384\n",
            "Dise:  0.42020493373274803\n",
            "----------Validation----------\n"
          ]
        },
        {
          "output_type": "stream",
          "name": "stderr",
          "text": [
            "2it [00:00, 11.41it/s]\n"
          ]
        },
        {
          "output_type": "stream",
          "name": "stdout",
          "text": [
            "Epoch:76 Val Dise:  0.4329616129398346\n",
            "Epoch 78 of 400\n",
            "Training\n"
          ]
        },
        {
          "output_type": "stream",
          "name": "stderr",
          "text": [
            "8it [00:03,  2.35it/s]\n"
          ]
        },
        {
          "output_type": "stream",
          "name": "stdout",
          "text": [
            "Epoch loss:  8.325243830680847\n",
            "Dise:  0.41839999705553055\n",
            "----------Validation----------\n"
          ]
        },
        {
          "output_type": "stream",
          "name": "stderr",
          "text": [
            "2it [00:00, 10.86it/s]\n"
          ]
        },
        {
          "output_type": "stream",
          "name": "stdout",
          "text": [
            "Epoch:77 Val Dise:  0.4486090689897537\n",
            "Epoch 79 of 400\n",
            "Training\n"
          ]
        },
        {
          "output_type": "stream",
          "name": "stderr",
          "text": [
            "8it [00:03,  2.30it/s]\n"
          ]
        },
        {
          "output_type": "stream",
          "name": "stdout",
          "text": [
            "Epoch loss:  8.366342782974243\n",
            "Dise:  0.42258965224027634\n",
            "----------Validation----------\n"
          ]
        },
        {
          "output_type": "stream",
          "name": "stderr",
          "text": [
            "2it [00:00, 11.12it/s]\n"
          ]
        },
        {
          "output_type": "stream",
          "name": "stdout",
          "text": [
            "Epoch:78 Val Dise:  0.4564996510744095\n",
            "Epoch 80 of 400\n",
            "Training\n"
          ]
        },
        {
          "output_type": "stream",
          "name": "stderr",
          "text": [
            "8it [00:03,  2.31it/s]\n"
          ]
        },
        {
          "output_type": "stream",
          "name": "stdout",
          "text": [
            "Epoch loss:  8.444065868854523\n",
            "Dise:  0.41461358964443207\n",
            "----------Validation----------\n"
          ]
        },
        {
          "output_type": "stream",
          "name": "stderr",
          "text": [
            "2it [00:00, 10.72it/s]\n"
          ]
        },
        {
          "output_type": "stream",
          "name": "stdout",
          "text": [
            "Epoch:79 Val Dise:  0.4516152888536453\n",
            "Epoch 81 of 400\n",
            "Training\n"
          ]
        },
        {
          "output_type": "stream",
          "name": "stderr",
          "text": [
            "8it [00:03,  2.25it/s]\n"
          ]
        },
        {
          "output_type": "stream",
          "name": "stdout",
          "text": [
            "Epoch loss:  8.098870813846588\n",
            "Dise:  0.4357307553291321\n",
            "----------Validation----------\n"
          ]
        },
        {
          "output_type": "stream",
          "name": "stderr",
          "text": [
            "2it [00:00, 11.65it/s]\n"
          ]
        },
        {
          "output_type": "stream",
          "name": "stdout",
          "text": [
            "Epoch:80 Val Dise:  0.44668667018413544\n",
            "Epoch 82 of 400\n",
            "Training\n"
          ]
        },
        {
          "output_type": "stream",
          "name": "stderr",
          "text": [
            "8it [00:03,  2.33it/s]\n"
          ]
        },
        {
          "output_type": "stream",
          "name": "stdout",
          "text": [
            "Epoch loss:  8.606855988502502\n",
            "Dise:  0.4016970805823803\n",
            "----------Validation----------\n"
          ]
        },
        {
          "output_type": "stream",
          "name": "stderr",
          "text": [
            "2it [00:00, 11.04it/s]\n"
          ]
        },
        {
          "output_type": "stream",
          "name": "stdout",
          "text": [
            "Epoch:81 Val Dise:  0.45332418382167816\n",
            "Epoch 83 of 400\n",
            "Training\n"
          ]
        },
        {
          "output_type": "stream",
          "name": "stderr",
          "text": [
            "8it [00:03,  2.27it/s]\n"
          ]
        },
        {
          "output_type": "stream",
          "name": "stdout",
          "text": [
            "Epoch loss:  8.47918450832367\n",
            "Dise:  0.4020342379808426\n",
            "----------Validation----------\n"
          ]
        },
        {
          "output_type": "stream",
          "name": "stderr",
          "text": [
            "2it [00:00, 10.93it/s]\n"
          ]
        },
        {
          "output_type": "stream",
          "name": "stdout",
          "text": [
            "Epoch:82 Val Dise:  0.4515085369348526\n",
            "Epoch 84 of 400\n",
            "Training\n"
          ]
        },
        {
          "output_type": "stream",
          "name": "stderr",
          "text": [
            "8it [00:03,  2.40it/s]\n"
          ]
        },
        {
          "output_type": "stream",
          "name": "stdout",
          "text": [
            "Epoch loss:  8.260616779327393\n",
            "Dise:  0.42273421213030815\n",
            "----------Validation----------\n"
          ]
        },
        {
          "output_type": "stream",
          "name": "stderr",
          "text": [
            "2it [00:00, 11.53it/s]\n"
          ]
        },
        {
          "output_type": "stream",
          "name": "stdout",
          "text": [
            "Epoch:83 Val Dise:  0.4475822448730469\n",
            "Epoch 85 of 400\n",
            "Training\n"
          ]
        },
        {
          "output_type": "stream",
          "name": "stderr",
          "text": [
            "8it [00:03,  2.36it/s]\n"
          ]
        },
        {
          "output_type": "stream",
          "name": "stdout",
          "text": [
            "Epoch loss:  8.213487386703491\n",
            "Dise:  0.4143979623913765\n",
            "----------Validation----------\n"
          ]
        },
        {
          "output_type": "stream",
          "name": "stderr",
          "text": [
            "2it [00:00, 10.97it/s]\n"
          ]
        },
        {
          "output_type": "stream",
          "name": "stdout",
          "text": [
            "Epoch:84 Val Dise:  0.46618199348449707\n",
            "Epoch 86 of 400\n",
            "Training\n"
          ]
        },
        {
          "output_type": "stream",
          "name": "stderr",
          "text": [
            "8it [00:03,  2.25it/s]\n"
          ]
        },
        {
          "output_type": "stream",
          "name": "stdout",
          "text": [
            "Epoch loss:  8.045021057128906\n",
            "Dise:  0.43402883410453796\n",
            "----------Validation----------\n"
          ]
        },
        {
          "output_type": "stream",
          "name": "stderr",
          "text": [
            "2it [00:00, 11.23it/s]\n"
          ]
        },
        {
          "output_type": "stream",
          "name": "stdout",
          "text": [
            "Epoch:85 Val Dise:  0.4620143920183182\n",
            "Epoch 87 of 400\n",
            "Training\n"
          ]
        },
        {
          "output_type": "stream",
          "name": "stderr",
          "text": [
            "8it [00:03,  2.33it/s]\n"
          ]
        },
        {
          "output_type": "stream",
          "name": "stdout",
          "text": [
            "Epoch loss:  8.323714852333069\n",
            "Dise:  0.4183804802596569\n",
            "----------Validation----------\n"
          ]
        },
        {
          "output_type": "stream",
          "name": "stderr",
          "text": [
            "2it [00:00, 11.44it/s]\n"
          ]
        },
        {
          "output_type": "stream",
          "name": "stdout",
          "text": [
            "Epoch:86 Val Dise:  0.4628138989210129\n",
            "Epoch 88 of 400\n",
            "Training\n"
          ]
        },
        {
          "output_type": "stream",
          "name": "stderr",
          "text": [
            "8it [00:03,  2.33it/s]\n"
          ]
        },
        {
          "output_type": "stream",
          "name": "stdout",
          "text": [
            "Epoch loss:  7.643485367298126\n",
            "Dise:  0.4632878787815571\n",
            "----------Validation----------\n"
          ]
        },
        {
          "output_type": "stream",
          "name": "stderr",
          "text": [
            "2it [00:00, 11.05it/s]\n"
          ]
        },
        {
          "output_type": "stream",
          "name": "stdout",
          "text": [
            "Epoch:87 Val Dise:  0.4744030684232712\n",
            "Epoch 89 of 400\n",
            "Training\n"
          ]
        },
        {
          "output_type": "stream",
          "name": "stderr",
          "text": [
            "8it [00:03,  2.29it/s]\n"
          ]
        },
        {
          "output_type": "stream",
          "name": "stdout",
          "text": [
            "Epoch loss:  7.779860556125641\n",
            "Dise:  0.4560132697224617\n",
            "----------Validation----------\n"
          ]
        },
        {
          "output_type": "stream",
          "name": "stderr",
          "text": [
            "2it [00:00, 10.66it/s]\n"
          ]
        },
        {
          "output_type": "stream",
          "name": "stdout",
          "text": [
            "Epoch:88 Val Dise:  0.4731912761926651\n",
            "Epoch 90 of 400\n",
            "Training\n"
          ]
        },
        {
          "output_type": "stream",
          "name": "stderr",
          "text": [
            "8it [00:03,  2.32it/s]\n"
          ]
        },
        {
          "output_type": "stream",
          "name": "stdout",
          "text": [
            "Epoch loss:  7.666125535964966\n",
            "Dise:  0.4580299034714699\n",
            "----------Validation----------\n"
          ]
        },
        {
          "output_type": "stream",
          "name": "stderr",
          "text": [
            "2it [00:00, 11.43it/s]\n"
          ]
        },
        {
          "output_type": "stream",
          "name": "stdout",
          "text": [
            "Epoch:89 Val Dise:  0.4823990613222122\n",
            "Epoch 91 of 400\n",
            "Training\n"
          ]
        },
        {
          "output_type": "stream",
          "name": "stderr",
          "text": [
            "8it [00:03,  2.28it/s]\n"
          ]
        },
        {
          "output_type": "stream",
          "name": "stdout",
          "text": [
            "Epoch loss:  7.613896012306213\n",
            "Dise:  0.46749531105160713\n",
            "----------Validation----------\n"
          ]
        },
        {
          "output_type": "stream",
          "name": "stderr",
          "text": [
            "2it [00:00, 11.04it/s]\n"
          ]
        },
        {
          "output_type": "stream",
          "name": "stdout",
          "text": [
            "Epoch:90 Val Dise:  0.489268034696579\n",
            "Epoch 92 of 400\n",
            "Training\n"
          ]
        },
        {
          "output_type": "stream",
          "name": "stderr",
          "text": [
            "8it [00:03,  2.25it/s]\n"
          ]
        },
        {
          "output_type": "stream",
          "name": "stdout",
          "text": [
            "Epoch loss:  7.909628927707672\n",
            "Dise:  0.4346011336892843\n",
            "----------Validation----------\n"
          ]
        },
        {
          "output_type": "stream",
          "name": "stderr",
          "text": [
            "2it [00:00, 10.80it/s]\n"
          ]
        },
        {
          "output_type": "stream",
          "name": "stdout",
          "text": [
            "Epoch:91 Val Dise:  0.49217620491981506\n",
            "Epoch 93 of 400\n",
            "Training\n"
          ]
        },
        {
          "output_type": "stream",
          "name": "stderr",
          "text": [
            "8it [00:03,  2.30it/s]\n"
          ]
        },
        {
          "output_type": "stream",
          "name": "stdout",
          "text": [
            "Epoch loss:  7.421831667423248\n",
            "Dise:  0.4798373021185398\n",
            "----------Validation----------\n"
          ]
        },
        {
          "output_type": "stream",
          "name": "stderr",
          "text": [
            "2it [00:00, 10.74it/s]\n"
          ]
        },
        {
          "output_type": "stream",
          "name": "stdout",
          "text": [
            "Epoch:92 Val Dise:  0.5069257915019989\n",
            "Epoch 94 of 400\n",
            "Training\n"
          ]
        },
        {
          "output_type": "stream",
          "name": "stderr",
          "text": [
            "8it [00:03,  2.30it/s]\n"
          ]
        },
        {
          "output_type": "stream",
          "name": "stdout",
          "text": [
            "Epoch loss:  7.411052227020264\n",
            "Dise:  0.48443538323044777\n",
            "----------Validation----------\n"
          ]
        },
        {
          "output_type": "stream",
          "name": "stderr",
          "text": [
            "2it [00:00, 11.22it/s]\n"
          ]
        },
        {
          "output_type": "stream",
          "name": "stdout",
          "text": [
            "Epoch:93 Val Dise:  0.4941946417093277\n",
            "Epoch 95 of 400\n",
            "Training\n"
          ]
        },
        {
          "output_type": "stream",
          "name": "stderr",
          "text": [
            "8it [00:03,  2.29it/s]\n"
          ]
        },
        {
          "output_type": "stream",
          "name": "stdout",
          "text": [
            "Epoch loss:  7.923305034637451\n",
            "Dise:  0.4483805373311043\n",
            "----------Validation----------\n"
          ]
        },
        {
          "output_type": "stream",
          "name": "stderr",
          "text": [
            "2it [00:00, 11.20it/s]\n"
          ]
        },
        {
          "output_type": "stream",
          "name": "stdout",
          "text": [
            "Epoch:94 Val Dise:  0.47598960995674133\n",
            "Epoch 96 of 400\n",
            "Training\n"
          ]
        },
        {
          "output_type": "stream",
          "name": "stderr",
          "text": [
            "8it [00:03,  2.24it/s]\n"
          ]
        },
        {
          "output_type": "stream",
          "name": "stdout",
          "text": [
            "Epoch loss:  7.799087345600128\n",
            "Dise:  0.44414990581572056\n",
            "----------Validation----------\n"
          ]
        },
        {
          "output_type": "stream",
          "name": "stderr",
          "text": [
            "2it [00:00, 10.54it/s]\n"
          ]
        },
        {
          "output_type": "stream",
          "name": "stdout",
          "text": [
            "Epoch:95 Val Dise:  0.45301681756973267\n",
            "Epoch 97 of 400\n",
            "Training\n"
          ]
        },
        {
          "output_type": "stream",
          "name": "stderr",
          "text": [
            "8it [00:03,  2.34it/s]\n"
          ]
        },
        {
          "output_type": "stream",
          "name": "stdout",
          "text": [
            "Epoch loss:  7.3920146226882935\n",
            "Dise:  0.4888374134898186\n",
            "----------Validation----------\n"
          ]
        },
        {
          "output_type": "stream",
          "name": "stderr",
          "text": [
            "2it [00:00, 11.05it/s]\n"
          ]
        },
        {
          "output_type": "stream",
          "name": "stdout",
          "text": [
            "Epoch:96 Val Dise:  0.4802589416503906\n",
            "Epoch 98 of 400\n",
            "Training\n"
          ]
        },
        {
          "output_type": "stream",
          "name": "stderr",
          "text": [
            "8it [00:03,  2.29it/s]\n"
          ]
        },
        {
          "output_type": "stream",
          "name": "stdout",
          "text": [
            "Epoch loss:  7.57094669342041\n",
            "Dise:  0.47207241132855415\n",
            "----------Validation----------\n"
          ]
        },
        {
          "output_type": "stream",
          "name": "stderr",
          "text": [
            "2it [00:00, 10.78it/s]\n"
          ]
        },
        {
          "output_type": "stream",
          "name": "stdout",
          "text": [
            "Epoch:97 Val Dise:  0.45725932717323303\n",
            "Epoch 99 of 400\n",
            "Training\n"
          ]
        },
        {
          "output_type": "stream",
          "name": "stderr",
          "text": [
            "8it [00:03,  2.31it/s]\n"
          ]
        },
        {
          "output_type": "stream",
          "name": "stdout",
          "text": [
            "Epoch loss:  7.788784205913544\n",
            "Dise:  0.45316222682595253\n",
            "----------Validation----------\n"
          ]
        },
        {
          "output_type": "stream",
          "name": "stderr",
          "text": [
            "2it [00:00, 11.37it/s]\n"
          ]
        },
        {
          "output_type": "stream",
          "name": "stdout",
          "text": [
            "Epoch:98 Val Dise:  0.4626607447862625\n",
            "Epoch 100 of 400\n",
            "Training\n"
          ]
        },
        {
          "output_type": "stream",
          "name": "stderr",
          "text": [
            "8it [00:03,  2.21it/s]\n"
          ]
        },
        {
          "output_type": "stream",
          "name": "stdout",
          "text": [
            "Epoch loss:  7.5402902364730835\n",
            "Dise:  0.4798079803586006\n",
            "----------Validation----------\n"
          ]
        },
        {
          "output_type": "stream",
          "name": "stderr",
          "text": [
            "2it [00:00, 10.88it/s]\n"
          ]
        },
        {
          "output_type": "stream",
          "name": "stdout",
          "text": [
            "Epoch:99 Val Dise:  0.49889127910137177\n",
            "Epoch 101 of 400\n",
            "Training\n"
          ]
        },
        {
          "output_type": "stream",
          "name": "stderr",
          "text": [
            "8it [00:03,  2.30it/s]\n"
          ]
        },
        {
          "output_type": "stream",
          "name": "stdout",
          "text": [
            "Epoch loss:  7.532078206539154\n",
            "Dise:  0.47244854271411896\n",
            "----------Validation----------\n"
          ]
        },
        {
          "output_type": "stream",
          "name": "stderr",
          "text": [
            "2it [00:00, 11.07it/s]\n"
          ]
        },
        {
          "output_type": "stream",
          "name": "stdout",
          "text": [
            "Epoch:100 Val Dise:  0.5030306130647659\n",
            "Epoch 102 of 400\n",
            "Training\n"
          ]
        },
        {
          "output_type": "stream",
          "name": "stderr",
          "text": [
            "8it [00:03,  2.31it/s]\n"
          ]
        },
        {
          "output_type": "stream",
          "name": "stdout",
          "text": [
            "Epoch loss:  7.384326636791229\n",
            "Dise:  0.4889936111867428\n",
            "----------Validation----------\n"
          ]
        },
        {
          "output_type": "stream",
          "name": "stderr",
          "text": [
            "2it [00:00, 10.34it/s]\n"
          ]
        },
        {
          "output_type": "stream",
          "name": "stdout",
          "text": [
            "Epoch:101 Val Dise:  0.5164293646812439\n",
            "Epoch 103 of 400\n",
            "Training\n"
          ]
        },
        {
          "output_type": "stream",
          "name": "stderr",
          "text": [
            "8it [00:03,  2.26it/s]\n"
          ]
        },
        {
          "output_type": "stream",
          "name": "stdout",
          "text": [
            "Epoch loss:  7.537811577320099\n",
            "Dise:  0.4765433371067047\n",
            "----------Validation----------\n"
          ]
        },
        {
          "output_type": "stream",
          "name": "stderr",
          "text": [
            "2it [00:00, 10.86it/s]\n"
          ]
        },
        {
          "output_type": "stream",
          "name": "stdout",
          "text": [
            "Epoch:102 Val Dise:  0.5236013829708099\n",
            "Epoch 104 of 400\n",
            "Training\n"
          ]
        },
        {
          "output_type": "stream",
          "name": "stderr",
          "text": [
            "8it [00:03,  2.31it/s]\n"
          ]
        },
        {
          "output_type": "stream",
          "name": "stdout",
          "text": [
            "Epoch loss:  7.3460628390312195\n",
            "Dise:  0.48277971521019936\n",
            "----------Validation----------\n"
          ]
        },
        {
          "output_type": "stream",
          "name": "stderr",
          "text": [
            "2it [00:00, 11.50it/s]\n"
          ]
        },
        {
          "output_type": "stream",
          "name": "stdout",
          "text": [
            "Epoch:103 Val Dise:  0.5145439803600311\n",
            "Epoch 105 of 400\n",
            "Training\n"
          ]
        },
        {
          "output_type": "stream",
          "name": "stderr",
          "text": [
            "8it [00:03,  2.34it/s]\n"
          ]
        },
        {
          "output_type": "stream",
          "name": "stdout",
          "text": [
            "Epoch loss:  7.605557024478912\n",
            "Dise:  0.47676442191004753\n",
            "----------Validation----------\n"
          ]
        },
        {
          "output_type": "stream",
          "name": "stderr",
          "text": [
            "2it [00:00, 10.99it/s]\n"
          ]
        },
        {
          "output_type": "stream",
          "name": "stdout",
          "text": [
            "Epoch:104 Val Dise:  0.5013888329267502\n",
            "Epoch 106 of 400\n",
            "Training\n"
          ]
        },
        {
          "output_type": "stream",
          "name": "stderr",
          "text": [
            "8it [00:03,  2.31it/s]\n"
          ]
        },
        {
          "output_type": "stream",
          "name": "stdout",
          "text": [
            "Epoch loss:  7.280522882938385\n",
            "Dise:  0.48869872465729713\n",
            "----------Validation----------\n"
          ]
        },
        {
          "output_type": "stream",
          "name": "stderr",
          "text": [
            "2it [00:00, 11.24it/s]\n"
          ]
        },
        {
          "output_type": "stream",
          "name": "stdout",
          "text": [
            "Epoch:105 Val Dise:  0.5169192850589752\n",
            "Epoch 107 of 400\n",
            "Training\n"
          ]
        },
        {
          "output_type": "stream",
          "name": "stderr",
          "text": [
            "8it [00:03,  2.27it/s]\n"
          ]
        },
        {
          "output_type": "stream",
          "name": "stdout",
          "text": [
            "Epoch loss:  7.336861431598663\n",
            "Dise:  0.48579591140151024\n",
            "----------Validation----------\n"
          ]
        },
        {
          "output_type": "stream",
          "name": "stderr",
          "text": [
            "2it [00:00, 10.50it/s]\n"
          ]
        },
        {
          "output_type": "stream",
          "name": "stdout",
          "text": [
            "Epoch:106 Val Dise:  0.513992577791214\n",
            "Epoch 108 of 400\n",
            "Training\n"
          ]
        },
        {
          "output_type": "stream",
          "name": "stderr",
          "text": [
            "8it [00:03,  2.26it/s]\n"
          ]
        },
        {
          "output_type": "stream",
          "name": "stdout",
          "text": [
            "Epoch loss:  7.325886011123657\n",
            "Dise:  0.4876050837337971\n",
            "----------Validation----------\n"
          ]
        },
        {
          "output_type": "stream",
          "name": "stderr",
          "text": [
            "2it [00:00, 11.05it/s]\n"
          ]
        },
        {
          "output_type": "stream",
          "name": "stdout",
          "text": [
            "Epoch:107 Val Dise:  0.504498690366745\n",
            "Epoch 109 of 400\n",
            "Training\n"
          ]
        },
        {
          "output_type": "stream",
          "name": "stderr",
          "text": [
            "8it [00:03,  2.28it/s]\n"
          ]
        },
        {
          "output_type": "stream",
          "name": "stdout",
          "text": [
            "Epoch loss:  7.12388002872467\n",
            "Dise:  0.5072862915694714\n",
            "----------Validation----------\n"
          ]
        },
        {
          "output_type": "stream",
          "name": "stderr",
          "text": [
            "2it [00:00, 11.33it/s]\n"
          ]
        },
        {
          "output_type": "stream",
          "name": "stdout",
          "text": [
            "Epoch:108 Val Dise:  0.5085873156785965\n",
            "Epoch 110 of 400\n",
            "Training\n"
          ]
        },
        {
          "output_type": "stream",
          "name": "stderr",
          "text": [
            "8it [00:03,  2.32it/s]\n"
          ]
        },
        {
          "output_type": "stream",
          "name": "stdout",
          "text": [
            "Epoch loss:  7.255211174488068\n",
            "Dise:  0.49092939123511314\n",
            "----------Validation----------\n"
          ]
        },
        {
          "output_type": "stream",
          "name": "stderr",
          "text": [
            "2it [00:00, 10.81it/s]\n"
          ]
        },
        {
          "output_type": "stream",
          "name": "stdout",
          "text": [
            "Epoch:109 Val Dise:  0.5168183147907257\n",
            "Epoch 111 of 400\n",
            "Training\n"
          ]
        },
        {
          "output_type": "stream",
          "name": "stderr",
          "text": [
            "8it [00:03,  2.37it/s]\n"
          ]
        },
        {
          "output_type": "stream",
          "name": "stdout",
          "text": [
            "Epoch loss:  7.061894536018372\n",
            "Dise:  0.5113240629434586\n",
            "----------Validation----------\n"
          ]
        },
        {
          "output_type": "stream",
          "name": "stderr",
          "text": [
            "2it [00:00, 11.25it/s]\n"
          ]
        },
        {
          "output_type": "stream",
          "name": "stdout",
          "text": [
            "Epoch:110 Val Dise:  0.5204349905252457\n",
            "Epoch 112 of 400\n",
            "Training\n"
          ]
        },
        {
          "output_type": "stream",
          "name": "stderr",
          "text": [
            "8it [00:03,  2.33it/s]\n"
          ]
        },
        {
          "output_type": "stream",
          "name": "stdout",
          "text": [
            "Epoch loss:  7.328813970088959\n",
            "Dise:  0.4957181289792061\n",
            "----------Validation----------\n"
          ]
        },
        {
          "output_type": "stream",
          "name": "stderr",
          "text": [
            "2it [00:00, 11.34it/s]\n"
          ]
        },
        {
          "output_type": "stream",
          "name": "stdout",
          "text": [
            "Epoch:111 Val Dise:  0.5255362093448639\n",
            "Epoch 113 of 400\n",
            "Training\n"
          ]
        },
        {
          "output_type": "stream",
          "name": "stderr",
          "text": [
            "8it [00:03,  2.21it/s]\n"
          ]
        },
        {
          "output_type": "stream",
          "name": "stdout",
          "text": [
            "Epoch loss:  6.910510241985321\n",
            "Dise:  0.5247932188212872\n",
            "----------Validation----------\n"
          ]
        },
        {
          "output_type": "stream",
          "name": "stderr",
          "text": [
            "2it [00:00, 10.96it/s]\n"
          ]
        },
        {
          "output_type": "stream",
          "name": "stdout",
          "text": [
            "Epoch:112 Val Dise:  0.5263290554285049\n",
            "Epoch 114 of 400\n",
            "Training\n"
          ]
        },
        {
          "output_type": "stream",
          "name": "stderr",
          "text": [
            "8it [00:03,  2.27it/s]\n"
          ]
        },
        {
          "output_type": "stream",
          "name": "stdout",
          "text": [
            "Epoch loss:  6.900701701641083\n",
            "Dise:  0.5272878631949425\n",
            "----------Validation----------\n"
          ]
        },
        {
          "output_type": "stream",
          "name": "stderr",
          "text": [
            "2it [00:00, 10.84it/s]\n"
          ]
        },
        {
          "output_type": "stream",
          "name": "stdout",
          "text": [
            "Epoch:113 Val Dise:  0.5366986095905304\n",
            "Epoch 115 of 400\n",
            "Training\n"
          ]
        },
        {
          "output_type": "stream",
          "name": "stderr",
          "text": [
            "8it [00:03,  2.34it/s]\n"
          ]
        },
        {
          "output_type": "stream",
          "name": "stdout",
          "text": [
            "Epoch loss:  6.8678879737854\n",
            "Dise:  0.5259388573467731\n",
            "----------Validation----------\n"
          ]
        },
        {
          "output_type": "stream",
          "name": "stderr",
          "text": [
            "2it [00:00, 10.85it/s]\n"
          ]
        },
        {
          "output_type": "stream",
          "name": "stdout",
          "text": [
            "Epoch:114 Val Dise:  0.5458453297615051\n",
            "Epoch 116 of 400\n",
            "Training\n"
          ]
        },
        {
          "output_type": "stream",
          "name": "stderr",
          "text": [
            "8it [00:03,  2.39it/s]\n"
          ]
        },
        {
          "output_type": "stream",
          "name": "stdout",
          "text": [
            "Epoch loss:  7.377450942993164\n",
            "Dise:  0.49748484790325165\n",
            "----------Validation----------\n"
          ]
        },
        {
          "output_type": "stream",
          "name": "stderr",
          "text": [
            "2it [00:00, 11.07it/s]\n"
          ]
        },
        {
          "output_type": "stream",
          "name": "stdout",
          "text": [
            "Epoch:115 Val Dise:  0.5440639853477478\n",
            "Epoch 117 of 400\n",
            "Training\n"
          ]
        },
        {
          "output_type": "stream",
          "name": "stderr",
          "text": [
            "8it [00:03,  2.22it/s]\n"
          ]
        },
        {
          "output_type": "stream",
          "name": "stdout",
          "text": [
            "Epoch loss:  7.153654098510742\n",
            "Dise:  0.514983169734478\n",
            "----------Validation----------\n"
          ]
        },
        {
          "output_type": "stream",
          "name": "stderr",
          "text": [
            "2it [00:00, 10.34it/s]"
          ]
        },
        {
          "output_type": "stream",
          "name": "stdout",
          "text": [
            "Epoch:116 Val Dise:  0.5478326380252838\n",
            "Epoch 118 of 400\n",
            "Training\n"
          ]
        },
        {
          "output_type": "stream",
          "name": "stderr",
          "text": [
            "\n",
            "8it [00:03,  2.18it/s]\n"
          ]
        },
        {
          "output_type": "stream",
          "name": "stdout",
          "text": [
            "Epoch loss:  7.415426194667816\n",
            "Dise:  0.4802879225462675\n",
            "----------Validation----------\n"
          ]
        },
        {
          "output_type": "stream",
          "name": "stderr",
          "text": [
            "2it [00:00, 11.21it/s]\n"
          ]
        },
        {
          "output_type": "stream",
          "name": "stdout",
          "text": [
            "Epoch:117 Val Dise:  0.5529508590698242\n",
            "Epoch 119 of 400\n",
            "Training\n"
          ]
        },
        {
          "output_type": "stream",
          "name": "stderr",
          "text": [
            "8it [00:03,  2.31it/s]\n"
          ]
        },
        {
          "output_type": "stream",
          "name": "stdout",
          "text": [
            "Epoch loss:  7.286230266094208\n",
            "Dise:  0.49221744760870934\n",
            "----------Validation----------\n"
          ]
        },
        {
          "output_type": "stream",
          "name": "stderr",
          "text": [
            "2it [00:00, 10.93it/s]\n"
          ]
        },
        {
          "output_type": "stream",
          "name": "stdout",
          "text": [
            "Epoch:118 Val Dise:  0.5366568267345428\n",
            "Epoch 120 of 400\n",
            "Training\n"
          ]
        },
        {
          "output_type": "stream",
          "name": "stderr",
          "text": [
            "8it [00:03,  2.34it/s]\n"
          ]
        },
        {
          "output_type": "stream",
          "name": "stdout",
          "text": [
            "Epoch loss:  7.051545739173889\n",
            "Dise:  0.5137255750596523\n",
            "----------Validation----------\n"
          ]
        },
        {
          "output_type": "stream",
          "name": "stderr",
          "text": [
            "2it [00:00, 10.64it/s]\n"
          ]
        },
        {
          "output_type": "stream",
          "name": "stdout",
          "text": [
            "Epoch:119 Val Dise:  0.5428251177072525\n",
            "Epoch 121 of 400\n",
            "Training\n"
          ]
        },
        {
          "output_type": "stream",
          "name": "stderr",
          "text": [
            "8it [00:03,  2.29it/s]\n"
          ]
        },
        {
          "output_type": "stream",
          "name": "stdout",
          "text": [
            "Epoch loss:  7.021944582462311\n",
            "Dise:  0.5301912240684032\n",
            "----------Validation----------\n"
          ]
        },
        {
          "output_type": "stream",
          "name": "stderr",
          "text": [
            "2it [00:00, 10.99it/s]\n"
          ]
        },
        {
          "output_type": "stream",
          "name": "stdout",
          "text": [
            "Epoch:120 Val Dise:  0.5421843230724335\n",
            "Epoch 122 of 400\n",
            "Training\n"
          ]
        },
        {
          "output_type": "stream",
          "name": "stderr",
          "text": [
            "8it [00:03,  2.24it/s]\n"
          ]
        },
        {
          "output_type": "stream",
          "name": "stdout",
          "text": [
            "Epoch loss:  7.050522685050964\n",
            "Dise:  0.5255467593669891\n",
            "----------Validation----------\n"
          ]
        },
        {
          "output_type": "stream",
          "name": "stderr",
          "text": [
            "2it [00:00, 10.77it/s]\n"
          ]
        },
        {
          "output_type": "stream",
          "name": "stdout",
          "text": [
            "Epoch:121 Val Dise:  0.5343818962574005\n",
            "Epoch 123 of 400\n",
            "Training\n"
          ]
        },
        {
          "output_type": "stream",
          "name": "stderr",
          "text": [
            "8it [00:03,  2.33it/s]\n"
          ]
        },
        {
          "output_type": "stream",
          "name": "stdout",
          "text": [
            "Epoch loss:  6.843832969665527\n",
            "Dise:  0.5359671674668789\n",
            "----------Validation----------\n"
          ]
        },
        {
          "output_type": "stream",
          "name": "stderr",
          "text": [
            "2it [00:00, 10.63it/s]\n"
          ]
        },
        {
          "output_type": "stream",
          "name": "stdout",
          "text": [
            "Epoch:122 Val Dise:  0.5414606034755707\n",
            "Epoch 124 of 400\n",
            "Training\n"
          ]
        },
        {
          "output_type": "stream",
          "name": "stderr",
          "text": [
            "8it [00:03,  2.31it/s]\n"
          ]
        },
        {
          "output_type": "stream",
          "name": "stdout",
          "text": [
            "Epoch loss:  6.751185715198517\n",
            "Dise:  0.5421157255768776\n",
            "----------Validation----------\n"
          ]
        },
        {
          "output_type": "stream",
          "name": "stderr",
          "text": [
            "2it [00:00, 10.88it/s]\n"
          ]
        },
        {
          "output_type": "stream",
          "name": "stdout",
          "text": [
            "Epoch:123 Val Dise:  0.5323430299758911\n",
            "Epoch 125 of 400\n",
            "Training\n"
          ]
        },
        {
          "output_type": "stream",
          "name": "stderr",
          "text": [
            "8it [00:03,  2.28it/s]\n"
          ]
        },
        {
          "output_type": "stream",
          "name": "stdout",
          "text": [
            "Epoch loss:  6.7314817905426025\n",
            "Dise:  0.5423118099570274\n",
            "----------Validation----------\n"
          ]
        },
        {
          "output_type": "stream",
          "name": "stderr",
          "text": [
            "2it [00:00, 10.76it/s]\n"
          ]
        },
        {
          "output_type": "stream",
          "name": "stdout",
          "text": [
            "Epoch:124 Val Dise:  0.534947007894516\n",
            "Epoch 126 of 400\n",
            "Training\n"
          ]
        },
        {
          "output_type": "stream",
          "name": "stderr",
          "text": [
            "8it [00:03,  2.32it/s]\n"
          ]
        },
        {
          "output_type": "stream",
          "name": "stdout",
          "text": [
            "Epoch loss:  7.009735822677612\n",
            "Dise:  0.5285772271454334\n",
            "----------Validation----------\n"
          ]
        },
        {
          "output_type": "stream",
          "name": "stderr",
          "text": [
            "2it [00:00, 11.49it/s]\n"
          ]
        },
        {
          "output_type": "stream",
          "name": "stdout",
          "text": [
            "Epoch:125 Val Dise:  0.5416677296161652\n",
            "Epoch 127 of 400\n",
            "Training\n"
          ]
        },
        {
          "output_type": "stream",
          "name": "stderr",
          "text": [
            "8it [00:03,  2.31it/s]\n"
          ]
        },
        {
          "output_type": "stream",
          "name": "stdout",
          "text": [
            "Epoch loss:  6.734154522418976\n",
            "Dise:  0.5434016324579716\n",
            "----------Validation----------\n"
          ]
        },
        {
          "output_type": "stream",
          "name": "stderr",
          "text": [
            "2it [00:00, 10.67it/s]\n"
          ]
        },
        {
          "output_type": "stream",
          "name": "stdout",
          "text": [
            "Epoch:126 Val Dise:  0.521373987197876\n",
            "Epoch 128 of 400\n",
            "Training\n"
          ]
        },
        {
          "output_type": "stream",
          "name": "stderr",
          "text": [
            "8it [00:03,  2.21it/s]\n"
          ]
        },
        {
          "output_type": "stream",
          "name": "stdout",
          "text": [
            "Epoch loss:  6.707658469676971\n",
            "Dise:  0.5428522452712059\n",
            "----------Validation----------\n"
          ]
        },
        {
          "output_type": "stream",
          "name": "stderr",
          "text": [
            "2it [00:00, 10.94it/s]\n"
          ]
        },
        {
          "output_type": "stream",
          "name": "stdout",
          "text": [
            "Epoch:127 Val Dise:  0.5263664126396179\n",
            "Epoch 129 of 400\n",
            "Training\n"
          ]
        },
        {
          "output_type": "stream",
          "name": "stderr",
          "text": [
            "8it [00:03,  2.27it/s]\n"
          ]
        },
        {
          "output_type": "stream",
          "name": "stdout",
          "text": [
            "Epoch loss:  6.818249225616455\n",
            "Dise:  0.5376212522387505\n",
            "----------Validation----------\n"
          ]
        },
        {
          "output_type": "stream",
          "name": "stderr",
          "text": [
            "2it [00:00, 10.87it/s]\n"
          ]
        },
        {
          "output_type": "stream",
          "name": "stdout",
          "text": [
            "Epoch:128 Val Dise:  0.5491846799850464\n",
            "Epoch 130 of 400\n",
            "Training\n"
          ]
        },
        {
          "output_type": "stream",
          "name": "stderr",
          "text": [
            "8it [00:03,  2.29it/s]\n"
          ]
        },
        {
          "output_type": "stream",
          "name": "stdout",
          "text": [
            "Epoch loss:  6.784961760044098\n",
            "Dise:  0.5403982363641262\n",
            "----------Validation----------\n"
          ]
        },
        {
          "output_type": "stream",
          "name": "stderr",
          "text": [
            "2it [00:00, 11.27it/s]\n"
          ]
        },
        {
          "output_type": "stream",
          "name": "stdout",
          "text": [
            "Epoch:129 Val Dise:  0.5501048266887665\n",
            "Epoch 131 of 400\n",
            "Training\n"
          ]
        },
        {
          "output_type": "stream",
          "name": "stderr",
          "text": [
            "8it [00:03,  2.26it/s]\n"
          ]
        },
        {
          "output_type": "stream",
          "name": "stdout",
          "text": [
            "Epoch loss:  6.781743943691254\n",
            "Dise:  0.5494308024644852\n",
            "----------Validation----------\n"
          ]
        },
        {
          "output_type": "stream",
          "name": "stderr",
          "text": [
            "2it [00:00, 10.91it/s]\n"
          ]
        },
        {
          "output_type": "stream",
          "name": "stdout",
          "text": [
            "Epoch:130 Val Dise:  0.5510379374027252\n",
            "Epoch 132 of 400\n",
            "Training\n"
          ]
        },
        {
          "output_type": "stream",
          "name": "stderr",
          "text": [
            "8it [00:03,  2.18it/s]\n"
          ]
        },
        {
          "output_type": "stream",
          "name": "stdout",
          "text": [
            "Epoch loss:  6.934261977672577\n",
            "Dise:  0.5482914410531521\n",
            "----------Validation----------\n"
          ]
        },
        {
          "output_type": "stream",
          "name": "stderr",
          "text": [
            "2it [00:00, 10.32it/s]\n"
          ]
        },
        {
          "output_type": "stream",
          "name": "stdout",
          "text": [
            "Epoch:131 Val Dise:  0.5852710604667664\n",
            "Epoch 133 of 400\n",
            "Training\n"
          ]
        },
        {
          "output_type": "stream",
          "name": "stderr",
          "text": [
            "8it [00:03,  2.16it/s]\n"
          ]
        },
        {
          "output_type": "stream",
          "name": "stdout",
          "text": [
            "Epoch loss:  6.568885028362274\n",
            "Dise:  0.5683023780584335\n",
            "----------Validation----------\n"
          ]
        },
        {
          "output_type": "stream",
          "name": "stderr",
          "text": [
            "2it [00:00, 10.65it/s]\n"
          ]
        },
        {
          "output_type": "stream",
          "name": "stdout",
          "text": [
            "Epoch:132 Val Dise:  0.5910083651542664\n",
            "Epoch 134 of 400\n",
            "Training\n"
          ]
        },
        {
          "output_type": "stream",
          "name": "stderr",
          "text": [
            "8it [00:03,  2.24it/s]\n"
          ]
        },
        {
          "output_type": "stream",
          "name": "stdout",
          "text": [
            "Epoch loss:  6.954583942890167\n",
            "Dise:  0.5273285880684853\n",
            "----------Validation----------\n"
          ]
        },
        {
          "output_type": "stream",
          "name": "stderr",
          "text": [
            "2it [00:00, 10.46it/s]"
          ]
        },
        {
          "output_type": "stream",
          "name": "stdout",
          "text": [
            "Epoch:133 Val Dise:  0.5611425340175629\n",
            "Epoch 135 of 400\n",
            "Training\n"
          ]
        },
        {
          "output_type": "stream",
          "name": "stderr",
          "text": [
            "\n",
            "8it [00:03,  2.30it/s]\n"
          ]
        },
        {
          "output_type": "stream",
          "name": "stdout",
          "text": [
            "Epoch loss:  6.304020464420319\n",
            "Dise:  0.5745976343750954\n",
            "----------Validation----------\n"
          ]
        },
        {
          "output_type": "stream",
          "name": "stderr",
          "text": [
            "2it [00:00, 10.74it/s]\n"
          ]
        },
        {
          "output_type": "stream",
          "name": "stdout",
          "text": [
            "Epoch:134 Val Dise:  0.5492217540740967\n",
            "Epoch 136 of 400\n",
            "Training\n"
          ]
        },
        {
          "output_type": "stream",
          "name": "stderr",
          "text": [
            "8it [00:03,  2.26it/s]\n"
          ]
        },
        {
          "output_type": "stream",
          "name": "stdout",
          "text": [
            "Epoch loss:  6.795726001262665\n",
            "Dise:  0.5342274829745293\n",
            "----------Validation----------\n"
          ]
        },
        {
          "output_type": "stream",
          "name": "stderr",
          "text": [
            "2it [00:00, 11.29it/s]\n"
          ]
        },
        {
          "output_type": "stream",
          "name": "stdout",
          "text": [
            "Epoch:135 Val Dise:  0.5647000372409821\n",
            "Epoch 137 of 400\n",
            "Training\n"
          ]
        },
        {
          "output_type": "stream",
          "name": "stderr",
          "text": [
            "8it [00:03,  2.16it/s]\n"
          ]
        },
        {
          "output_type": "stream",
          "name": "stdout",
          "text": [
            "Epoch loss:  6.5393946170806885\n",
            "Dise:  0.5537878163158894\n",
            "----------Validation----------\n"
          ]
        },
        {
          "output_type": "stream",
          "name": "stderr",
          "text": [
            "2it [00:00, 10.60it/s]\n"
          ]
        },
        {
          "output_type": "stream",
          "name": "stdout",
          "text": [
            "Epoch:136 Val Dise:  0.5783277750015259\n",
            "Epoch 138 of 400\n",
            "Training\n"
          ]
        },
        {
          "output_type": "stream",
          "name": "stderr",
          "text": [
            "8it [00:03,  2.29it/s]\n"
          ]
        },
        {
          "output_type": "stream",
          "name": "stdout",
          "text": [
            "Epoch loss:  6.844344973564148\n",
            "Dise:  0.5449229851365089\n",
            "----------Validation----------\n"
          ]
        },
        {
          "output_type": "stream",
          "name": "stderr",
          "text": [
            "2it [00:00, 10.59it/s]\n"
          ]
        },
        {
          "output_type": "stream",
          "name": "stdout",
          "text": [
            "Epoch:137 Val Dise:  0.5806157290935516\n",
            "Epoch 139 of 400\n",
            "Training\n"
          ]
        },
        {
          "output_type": "stream",
          "name": "stderr",
          "text": [
            "8it [00:03,  2.26it/s]\n"
          ]
        },
        {
          "output_type": "stream",
          "name": "stdout",
          "text": [
            "Epoch loss:  6.431982934474945\n",
            "Dise:  0.5748168155550957\n",
            "----------Validation----------\n"
          ]
        },
        {
          "output_type": "stream",
          "name": "stderr",
          "text": [
            "2it [00:00, 11.42it/s]\n"
          ]
        },
        {
          "output_type": "stream",
          "name": "stdout",
          "text": [
            "Epoch:138 Val Dise:  0.5680529475212097\n",
            "Epoch 140 of 400\n",
            "Training\n"
          ]
        },
        {
          "output_type": "stream",
          "name": "stderr",
          "text": [
            "8it [00:03,  2.22it/s]\n"
          ]
        },
        {
          "output_type": "stream",
          "name": "stdout",
          "text": [
            "Epoch loss:  6.54135125875473\n",
            "Dise:  0.5517181195318699\n",
            "----------Validation----------\n"
          ]
        },
        {
          "output_type": "stream",
          "name": "stderr",
          "text": [
            "2it [00:00, 10.60it/s]\n"
          ]
        },
        {
          "output_type": "stream",
          "name": "stdout",
          "text": [
            "Epoch:139 Val Dise:  0.5709648132324219\n",
            "Epoch 141 of 400\n",
            "Training\n"
          ]
        },
        {
          "output_type": "stream",
          "name": "stderr",
          "text": [
            "8it [00:03,  2.27it/s]\n"
          ]
        },
        {
          "output_type": "stream",
          "name": "stdout",
          "text": [
            "Epoch loss:  6.4094961285591125\n",
            "Dise:  0.5723900571465492\n",
            "----------Validation----------\n"
          ]
        },
        {
          "output_type": "stream",
          "name": "stderr",
          "text": [
            "2it [00:00, 10.38it/s]\n"
          ]
        },
        {
          "output_type": "stream",
          "name": "stdout",
          "text": [
            "Epoch:140 Val Dise:  0.5581620633602142\n",
            "Epoch 142 of 400\n",
            "Training\n"
          ]
        },
        {
          "output_type": "stream",
          "name": "stderr",
          "text": [
            "8it [00:03,  2.18it/s]\n"
          ]
        },
        {
          "output_type": "stream",
          "name": "stdout",
          "text": [
            "Epoch loss:  6.3813316822052\n",
            "Dise:  0.5702655613422394\n",
            "----------Validation----------\n"
          ]
        },
        {
          "output_type": "stream",
          "name": "stderr",
          "text": [
            "2it [00:00, 10.33it/s]\n"
          ]
        },
        {
          "output_type": "stream",
          "name": "stdout",
          "text": [
            "Epoch:141 Val Dise:  0.5593377351760864\n",
            "Epoch 143 of 400\n",
            "Training\n"
          ]
        },
        {
          "output_type": "stream",
          "name": "stderr",
          "text": [
            "8it [00:03,  2.25it/s]\n"
          ]
        },
        {
          "output_type": "stream",
          "name": "stdout",
          "text": [
            "Epoch loss:  6.745837450027466\n",
            "Dise:  0.5618493221700191\n",
            "----------Validation----------\n"
          ]
        },
        {
          "output_type": "stream",
          "name": "stderr",
          "text": [
            "2it [00:00, 11.38it/s]\n"
          ]
        },
        {
          "output_type": "stream",
          "name": "stdout",
          "text": [
            "Epoch:142 Val Dise:  0.575690358877182\n",
            "Epoch 144 of 400\n",
            "Training\n"
          ]
        },
        {
          "output_type": "stream",
          "name": "stderr",
          "text": [
            "8it [00:03,  2.31it/s]\n"
          ]
        },
        {
          "output_type": "stream",
          "name": "stdout",
          "text": [
            "Epoch loss:  6.7387736439704895\n",
            "Dise:  0.5371267348527908\n",
            "----------Validation----------\n"
          ]
        },
        {
          "output_type": "stream",
          "name": "stderr",
          "text": [
            "2it [00:00, 10.91it/s]\n"
          ]
        },
        {
          "output_type": "stream",
          "name": "stdout",
          "text": [
            "Epoch:143 Val Dise:  0.5795564949512482\n",
            "Epoch 145 of 400\n",
            "Training\n"
          ]
        },
        {
          "output_type": "stream",
          "name": "stderr",
          "text": [
            "8it [00:03,  2.24it/s]\n"
          ]
        },
        {
          "output_type": "stream",
          "name": "stdout",
          "text": [
            "Epoch loss:  6.553896546363831\n",
            "Dise:  0.5749986134469509\n",
            "----------Validation----------\n"
          ]
        },
        {
          "output_type": "stream",
          "name": "stderr",
          "text": [
            "2it [00:00, 10.60it/s]\n"
          ]
        },
        {
          "output_type": "stream",
          "name": "stdout",
          "text": [
            "Epoch:144 Val Dise:  0.5724262297153473\n",
            "Epoch 146 of 400\n",
            "Training\n"
          ]
        },
        {
          "output_type": "stream",
          "name": "stderr",
          "text": [
            "8it [00:03,  2.49it/s]\n"
          ]
        },
        {
          "output_type": "stream",
          "name": "stdout",
          "text": [
            "Epoch loss:  6.570419549942017\n",
            "Dise:  0.5642112269997597\n",
            "----------Validation----------\n"
          ]
        },
        {
          "output_type": "stream",
          "name": "stderr",
          "text": [
            "2it [00:00, 11.30it/s]\n"
          ]
        },
        {
          "output_type": "stream",
          "name": "stdout",
          "text": [
            "Epoch:145 Val Dise:  0.5524221360683441\n",
            "Epoch 147 of 400\n",
            "Training\n"
          ]
        },
        {
          "output_type": "stream",
          "name": "stderr",
          "text": [
            "8it [00:03,  2.20it/s]\n"
          ]
        },
        {
          "output_type": "stream",
          "name": "stdout",
          "text": [
            "Epoch loss:  6.544493138790131\n",
            "Dise:  0.5768348835408688\n",
            "----------Validation----------\n"
          ]
        },
        {
          "output_type": "stream",
          "name": "stderr",
          "text": [
            "2it [00:00, 10.94it/s]\n"
          ]
        },
        {
          "output_type": "stream",
          "name": "stdout",
          "text": [
            "Epoch:146 Val Dise:  0.5524719953536987\n",
            "Epoch 148 of 400\n",
            "Training\n"
          ]
        },
        {
          "output_type": "stream",
          "name": "stderr",
          "text": [
            "8it [00:03,  2.34it/s]\n"
          ]
        },
        {
          "output_type": "stream",
          "name": "stdout",
          "text": [
            "Epoch loss:  6.4681103229522705\n",
            "Dise:  0.5594512559473515\n",
            "----------Validation----------\n"
          ]
        },
        {
          "output_type": "stream",
          "name": "stderr",
          "text": [
            "2it [00:00, 10.27it/s]\n"
          ]
        },
        {
          "output_type": "stream",
          "name": "stdout",
          "text": [
            "Epoch:147 Val Dise:  0.5606085956096649\n",
            "Epoch 149 of 400\n",
            "Training\n"
          ]
        },
        {
          "output_type": "stream",
          "name": "stderr",
          "text": [
            "8it [00:03,  2.28it/s]\n"
          ]
        },
        {
          "output_type": "stream",
          "name": "stdout",
          "text": [
            "Epoch loss:  6.097214162349701\n",
            "Dise:  0.5850140824913979\n",
            "----------Validation----------\n"
          ]
        },
        {
          "output_type": "stream",
          "name": "stderr",
          "text": [
            "2it [00:00, 10.63it/s]\n"
          ]
        },
        {
          "output_type": "stream",
          "name": "stdout",
          "text": [
            "Epoch:148 Val Dise:  0.581489771604538\n",
            "Epoch 150 of 400\n",
            "Training\n"
          ]
        },
        {
          "output_type": "stream",
          "name": "stderr",
          "text": [
            "8it [00:03,  2.36it/s]\n"
          ]
        },
        {
          "output_type": "stream",
          "name": "stdout",
          "text": [
            "Epoch loss:  6.376406252384186\n",
            "Dise:  0.5791949853301048\n",
            "----------Validation----------\n"
          ]
        },
        {
          "output_type": "stream",
          "name": "stderr",
          "text": [
            "2it [00:00, 10.33it/s]\n"
          ]
        },
        {
          "output_type": "stream",
          "name": "stdout",
          "text": [
            "Epoch:149 Val Dise:  0.5958621799945831\n",
            "Epoch 151 of 400\n",
            "Training\n"
          ]
        },
        {
          "output_type": "stream",
          "name": "stderr",
          "text": [
            "8it [00:03,  2.21it/s]\n"
          ]
        },
        {
          "output_type": "stream",
          "name": "stdout",
          "text": [
            "Epoch loss:  6.436735451221466\n",
            "Dise:  0.5850131288170815\n",
            "----------Validation----------\n"
          ]
        },
        {
          "output_type": "stream",
          "name": "stderr",
          "text": [
            "2it [00:00, 11.24it/s]\n"
          ]
        },
        {
          "output_type": "stream",
          "name": "stdout",
          "text": [
            "Epoch:150 Val Dise:  0.5663147866725922\n",
            "Epoch 152 of 400\n",
            "Training\n"
          ]
        },
        {
          "output_type": "stream",
          "name": "stderr",
          "text": [
            "8it [00:03,  2.33it/s]\n"
          ]
        },
        {
          "output_type": "stream",
          "name": "stdout",
          "text": [
            "Epoch loss:  6.41041374206543\n",
            "Dise:  0.5771679170429707\n",
            "----------Validation----------\n"
          ]
        },
        {
          "output_type": "stream",
          "name": "stderr",
          "text": [
            "2it [00:00, 11.11it/s]\n"
          ]
        },
        {
          "output_type": "stream",
          "name": "stdout",
          "text": [
            "Epoch:151 Val Dise:  0.5777870118618011\n",
            "Epoch 153 of 400\n",
            "Training\n"
          ]
        },
        {
          "output_type": "stream",
          "name": "stderr",
          "text": [
            "8it [00:03,  2.26it/s]\n"
          ]
        },
        {
          "output_type": "stream",
          "name": "stdout",
          "text": [
            "Epoch loss:  6.651957273483276\n",
            "Dise:  0.5583630315959454\n",
            "----------Validation----------\n"
          ]
        },
        {
          "output_type": "stream",
          "name": "stderr",
          "text": [
            "2it [00:00, 10.84it/s]\n"
          ]
        },
        {
          "output_type": "stream",
          "name": "stdout",
          "text": [
            "Epoch:152 Val Dise:  0.563911497592926\n",
            "Epoch 154 of 400\n",
            "Training\n"
          ]
        },
        {
          "output_type": "stream",
          "name": "stderr",
          "text": [
            "8it [00:03,  2.40it/s]\n"
          ]
        },
        {
          "output_type": "stream",
          "name": "stdout",
          "text": [
            "Epoch loss:  6.377086639404297\n",
            "Dise:  0.5684324316680431\n",
            "----------Validation----------\n"
          ]
        },
        {
          "output_type": "stream",
          "name": "stderr",
          "text": [
            "2it [00:00, 10.76it/s]\n"
          ]
        },
        {
          "output_type": "stream",
          "name": "stdout",
          "text": [
            "Epoch:153 Val Dise:  0.5633050799369812\n",
            "Epoch 155 of 400\n",
            "Training\n"
          ]
        },
        {
          "output_type": "stream",
          "name": "stderr",
          "text": [
            "8it [00:03,  2.36it/s]\n"
          ]
        },
        {
          "output_type": "stream",
          "name": "stdout",
          "text": [
            "Epoch loss:  6.400123476982117\n",
            "Dise:  0.5653989464044571\n",
            "----------Validation----------\n"
          ]
        },
        {
          "output_type": "stream",
          "name": "stderr",
          "text": [
            "2it [00:00, 10.91it/s]\n"
          ]
        },
        {
          "output_type": "stream",
          "name": "stdout",
          "text": [
            "Epoch:154 Val Dise:  0.5854360163211823\n",
            "Epoch 156 of 400\n",
            "Training\n"
          ]
        },
        {
          "output_type": "stream",
          "name": "stderr",
          "text": [
            "8it [00:03,  2.33it/s]\n"
          ]
        },
        {
          "output_type": "stream",
          "name": "stdout",
          "text": [
            "Epoch loss:  6.327717363834381\n",
            "Dise:  0.5876477733254433\n",
            "----------Validation----------\n"
          ]
        },
        {
          "output_type": "stream",
          "name": "stderr",
          "text": [
            "2it [00:00, 10.82it/s]\n"
          ]
        },
        {
          "output_type": "stream",
          "name": "stdout",
          "text": [
            "Epoch:155 Val Dise:  0.5760276019573212\n",
            "Epoch 157 of 400\n",
            "Training\n"
          ]
        },
        {
          "output_type": "stream",
          "name": "stderr",
          "text": [
            "8it [00:03,  2.31it/s]\n"
          ]
        },
        {
          "output_type": "stream",
          "name": "stdout",
          "text": [
            "Epoch loss:  6.086294651031494\n",
            "Dise:  0.6013438850641251\n",
            "----------Validation----------\n"
          ]
        },
        {
          "output_type": "stream",
          "name": "stderr",
          "text": [
            "2it [00:00, 11.48it/s]\n"
          ]
        },
        {
          "output_type": "stream",
          "name": "stdout",
          "text": [
            "Epoch:156 Val Dise:  0.577569454908371\n",
            "Epoch 158 of 400\n",
            "Training\n"
          ]
        },
        {
          "output_type": "stream",
          "name": "stderr",
          "text": [
            "8it [00:03,  2.32it/s]\n"
          ]
        },
        {
          "output_type": "stream",
          "name": "stdout",
          "text": [
            "Epoch loss:  5.853816449642181\n",
            "Dise:  0.6110709831118584\n",
            "----------Validation----------\n"
          ]
        },
        {
          "output_type": "stream",
          "name": "stderr",
          "text": [
            "2it [00:00, 10.69it/s]\n"
          ]
        },
        {
          "output_type": "stream",
          "name": "stdout",
          "text": [
            "Epoch:157 Val Dise:  0.5881884396076202\n",
            "Epoch 159 of 400\n",
            "Training\n"
          ]
        },
        {
          "output_type": "stream",
          "name": "stderr",
          "text": [
            "8it [00:03,  2.32it/s]\n"
          ]
        },
        {
          "output_type": "stream",
          "name": "stdout",
          "text": [
            "Epoch loss:  6.06050443649292\n",
            "Dise:  0.5903538092970848\n",
            "----------Validation----------\n"
          ]
        },
        {
          "output_type": "stream",
          "name": "stderr",
          "text": [
            "2it [00:00, 11.52it/s]\n"
          ]
        },
        {
          "output_type": "stream",
          "name": "stdout",
          "text": [
            "Epoch:158 Val Dise:  0.5937956273555756\n",
            "Epoch 160 of 400\n",
            "Training\n"
          ]
        },
        {
          "output_type": "stream",
          "name": "stderr",
          "text": [
            "8it [00:03,  2.24it/s]\n"
          ]
        },
        {
          "output_type": "stream",
          "name": "stdout",
          "text": [
            "Epoch loss:  6.296622812747955\n",
            "Dise:  0.5771310068666935\n",
            "----------Validation----------\n"
          ]
        },
        {
          "output_type": "stream",
          "name": "stderr",
          "text": [
            "2it [00:00, 10.60it/s]\n"
          ]
        },
        {
          "output_type": "stream",
          "name": "stdout",
          "text": [
            "Epoch:159 Val Dise:  0.6116930544376373\n",
            "Epoch 161 of 400\n",
            "Training\n"
          ]
        },
        {
          "output_type": "stream",
          "name": "stderr",
          "text": [
            "8it [00:03,  2.33it/s]\n"
          ]
        },
        {
          "output_type": "stream",
          "name": "stdout",
          "text": [
            "Epoch loss:  6.147755444049835\n",
            "Dise:  0.597231388092041\n",
            "----------Validation----------\n"
          ]
        },
        {
          "output_type": "stream",
          "name": "stderr",
          "text": [
            "2it [00:00, 10.89it/s]\n"
          ]
        },
        {
          "output_type": "stream",
          "name": "stdout",
          "text": [
            "Epoch:160 Val Dise:  0.602843850851059\n",
            "Epoch 162 of 400\n",
            "Training\n"
          ]
        },
        {
          "output_type": "stream",
          "name": "stderr",
          "text": [
            "8it [00:03,  2.26it/s]\n"
          ]
        },
        {
          "output_type": "stream",
          "name": "stdout",
          "text": [
            "Epoch loss:  6.22194892168045\n",
            "Dise:  0.5832141190767288\n",
            "----------Validation----------\n"
          ]
        },
        {
          "output_type": "stream",
          "name": "stderr",
          "text": [
            "2it [00:00, 11.37it/s]\n"
          ]
        },
        {
          "output_type": "stream",
          "name": "stdout",
          "text": [
            "Epoch:161 Val Dise:  0.5923897624015808\n",
            "Epoch 163 of 400\n",
            "Training\n"
          ]
        },
        {
          "output_type": "stream",
          "name": "stderr",
          "text": [
            "8it [00:03,  2.30it/s]\n"
          ]
        },
        {
          "output_type": "stream",
          "name": "stdout",
          "text": [
            "Epoch loss:  6.462916374206543\n",
            "Dise:  0.5685303136706352\n",
            "----------Validation----------\n"
          ]
        },
        {
          "output_type": "stream",
          "name": "stderr",
          "text": [
            "2it [00:00, 10.73it/s]\n"
          ]
        },
        {
          "output_type": "stream",
          "name": "stdout",
          "text": [
            "Epoch:162 Val Dise:  0.5887728333473206\n",
            "Epoch 164 of 400\n",
            "Training\n"
          ]
        },
        {
          "output_type": "stream",
          "name": "stderr",
          "text": [
            "8it [00:03,  2.33it/s]\n"
          ]
        },
        {
          "output_type": "stream",
          "name": "stdout",
          "text": [
            "Epoch loss:  6.002939343452454\n",
            "Dise:  0.5931582748889923\n",
            "----------Validation----------\n"
          ]
        },
        {
          "output_type": "stream",
          "name": "stderr",
          "text": [
            "2it [00:00, 10.55it/s]\n"
          ]
        },
        {
          "output_type": "stream",
          "name": "stdout",
          "text": [
            "Epoch:163 Val Dise:  0.5628904104232788\n",
            "Epoch 165 of 400\n",
            "Training\n"
          ]
        },
        {
          "output_type": "stream",
          "name": "stderr",
          "text": [
            "8it [00:03,  2.27it/s]\n"
          ]
        },
        {
          "output_type": "stream",
          "name": "stdout",
          "text": [
            "Epoch loss:  6.169537365436554\n",
            "Dise:  0.5882463455200195\n",
            "----------Validation----------\n"
          ]
        },
        {
          "output_type": "stream",
          "name": "stderr",
          "text": [
            "2it [00:00, 10.29it/s]\n"
          ]
        },
        {
          "output_type": "stream",
          "name": "stdout",
          "text": [
            "Epoch:164 Val Dise:  0.5813252329826355\n",
            "Epoch 166 of 400\n",
            "Training\n"
          ]
        },
        {
          "output_type": "stream",
          "name": "stderr",
          "text": [
            "8it [00:03,  2.30it/s]\n"
          ]
        },
        {
          "output_type": "stream",
          "name": "stdout",
          "text": [
            "Epoch loss:  6.384302079677582\n",
            "Dise:  0.5832861587405205\n",
            "----------Validation----------\n"
          ]
        },
        {
          "output_type": "stream",
          "name": "stderr",
          "text": [
            "2it [00:00, 11.01it/s]\n"
          ]
        },
        {
          "output_type": "stream",
          "name": "stdout",
          "text": [
            "Epoch:165 Val Dise:  0.6022995114326477\n",
            "Epoch 167 of 400\n",
            "Training\n"
          ]
        },
        {
          "output_type": "stream",
          "name": "stderr",
          "text": [
            "8it [00:03,  2.27it/s]\n"
          ]
        },
        {
          "output_type": "stream",
          "name": "stdout",
          "text": [
            "Epoch loss:  6.150692641735077\n",
            "Dise:  0.5969726406037807\n",
            "----------Validation----------\n"
          ]
        },
        {
          "output_type": "stream",
          "name": "stderr",
          "text": [
            "2it [00:00, 10.42it/s]\n"
          ]
        },
        {
          "output_type": "stream",
          "name": "stdout",
          "text": [
            "Epoch:166 Val Dise:  0.5876190662384033\n",
            "Epoch 168 of 400\n",
            "Training\n"
          ]
        },
        {
          "output_type": "stream",
          "name": "stderr",
          "text": [
            "8it [00:03,  2.28it/s]\n"
          ]
        },
        {
          "output_type": "stream",
          "name": "stdout",
          "text": [
            "Epoch loss:  6.532273054122925\n",
            "Dise:  0.5932283028960228\n",
            "----------Validation----------\n"
          ]
        },
        {
          "output_type": "stream",
          "name": "stderr",
          "text": [
            "2it [00:00, 11.19it/s]\n"
          ]
        },
        {
          "output_type": "stream",
          "name": "stdout",
          "text": [
            "Epoch:167 Val Dise:  0.5890488028526306\n",
            "Epoch 169 of 400\n",
            "Training\n"
          ]
        },
        {
          "output_type": "stream",
          "name": "stderr",
          "text": [
            "8it [00:03,  2.29it/s]\n"
          ]
        },
        {
          "output_type": "stream",
          "name": "stdout",
          "text": [
            "Epoch loss:  5.874631345272064\n",
            "Dise:  0.6144748702645302\n",
            "----------Validation----------\n"
          ]
        },
        {
          "output_type": "stream",
          "name": "stderr",
          "text": [
            "2it [00:00, 10.39it/s]"
          ]
        },
        {
          "output_type": "stream",
          "name": "stdout",
          "text": [
            "Epoch:168 Val Dise:  0.5810275971889496\n",
            "Epoch 170 of 400\n",
            "Training\n"
          ]
        },
        {
          "output_type": "stream",
          "name": "stderr",
          "text": [
            "\n",
            "8it [00:03,  2.39it/s]\n"
          ]
        },
        {
          "output_type": "stream",
          "name": "stdout",
          "text": [
            "Epoch loss:  6.033993661403656\n",
            "Dise:  0.5985989235341549\n",
            "----------Validation----------\n"
          ]
        },
        {
          "output_type": "stream",
          "name": "stderr",
          "text": [
            "2it [00:00, 11.71it/s]\n"
          ]
        },
        {
          "output_type": "stream",
          "name": "stdout",
          "text": [
            "Epoch:169 Val Dise:  0.5888733863830566\n",
            "Epoch 171 of 400\n",
            "Training\n"
          ]
        },
        {
          "output_type": "stream",
          "name": "stderr",
          "text": [
            "8it [00:03,  2.35it/s]\n"
          ]
        },
        {
          "output_type": "stream",
          "name": "stdout",
          "text": [
            "Epoch loss:  5.901882231235504\n",
            "Dise:  0.602289043366909\n",
            "----------Validation----------\n"
          ]
        },
        {
          "output_type": "stream",
          "name": "stderr",
          "text": [
            "2it [00:00, 11.17it/s]\n"
          ]
        },
        {
          "output_type": "stream",
          "name": "stdout",
          "text": [
            "Epoch:170 Val Dise:  0.5748953819274902\n",
            "Epoch 172 of 400\n",
            "Training\n"
          ]
        },
        {
          "output_type": "stream",
          "name": "stderr",
          "text": [
            "8it [00:03,  2.36it/s]\n"
          ]
        },
        {
          "output_type": "stream",
          "name": "stdout",
          "text": [
            "Epoch loss:  6.245012938976288\n",
            "Dise:  0.6051650531589985\n",
            "----------Validation----------\n"
          ]
        },
        {
          "output_type": "stream",
          "name": "stderr",
          "text": [
            "2it [00:00, 10.58it/s]\n"
          ]
        },
        {
          "output_type": "stream",
          "name": "stdout",
          "text": [
            "Epoch:171 Val Dise:  0.5863335728645325\n",
            "Epoch 173 of 400\n",
            "Training\n"
          ]
        },
        {
          "output_type": "stream",
          "name": "stderr",
          "text": [
            "8it [00:03,  2.19it/s]\n"
          ]
        },
        {
          "output_type": "stream",
          "name": "stdout",
          "text": [
            "Epoch loss:  6.264124751091003\n",
            "Dise:  0.5937278866767883\n",
            "----------Validation----------\n"
          ]
        },
        {
          "output_type": "stream",
          "name": "stderr",
          "text": [
            "2it [00:00, 11.20it/s]\n"
          ]
        },
        {
          "output_type": "stream",
          "name": "stdout",
          "text": [
            "Epoch:172 Val Dise:  0.5986744463443756\n",
            "Epoch 174 of 400\n",
            "Training\n"
          ]
        },
        {
          "output_type": "stream",
          "name": "stderr",
          "text": [
            "8it [00:03,  2.27it/s]\n"
          ]
        },
        {
          "output_type": "stream",
          "name": "stdout",
          "text": [
            "Epoch loss:  5.970941781997681\n",
            "Dise:  0.5962034501135349\n",
            "----------Validation----------\n"
          ]
        },
        {
          "output_type": "stream",
          "name": "stderr",
          "text": [
            "2it [00:00, 10.99it/s]\n"
          ]
        },
        {
          "output_type": "stream",
          "name": "stdout",
          "text": [
            "Epoch:173 Val Dise:  0.6107940673828125\n",
            "Epoch 175 of 400\n",
            "Training\n"
          ]
        },
        {
          "output_type": "stream",
          "name": "stderr",
          "text": [
            "8it [00:03,  2.29it/s]\n"
          ]
        },
        {
          "output_type": "stream",
          "name": "stdout",
          "text": [
            "Epoch loss:  6.005953848361969\n",
            "Dise:  0.5979660227894783\n",
            "----------Validation----------\n"
          ]
        },
        {
          "output_type": "stream",
          "name": "stderr",
          "text": [
            "2it [00:00, 10.47it/s]\n"
          ]
        },
        {
          "output_type": "stream",
          "name": "stdout",
          "text": [
            "Epoch:174 Val Dise:  0.6102313697338104\n",
            "Epoch 176 of 400\n",
            "Training\n"
          ]
        },
        {
          "output_type": "stream",
          "name": "stderr",
          "text": [
            "8it [00:03,  2.28it/s]\n"
          ]
        },
        {
          "output_type": "stream",
          "name": "stdout",
          "text": [
            "Epoch loss:  6.150630414485931\n",
            "Dise:  0.588859599083662\n",
            "----------Validation----------\n"
          ]
        },
        {
          "output_type": "stream",
          "name": "stderr",
          "text": [
            "2it [00:00, 10.49it/s]\n"
          ]
        },
        {
          "output_type": "stream",
          "name": "stdout",
          "text": [
            "Epoch:175 Val Dise:  0.5791912376880646\n",
            "Epoch 177 of 400\n",
            "Training\n"
          ]
        },
        {
          "output_type": "stream",
          "name": "stderr",
          "text": [
            "8it [00:03,  2.35it/s]\n"
          ]
        },
        {
          "output_type": "stream",
          "name": "stdout",
          "text": [
            "Epoch loss:  5.789978802204132\n",
            "Dise:  0.6093259379267693\n",
            "----------Validation----------\n"
          ]
        },
        {
          "output_type": "stream",
          "name": "stderr",
          "text": [
            "2it [00:00, 11.51it/s]\n"
          ]
        },
        {
          "output_type": "stream",
          "name": "stdout",
          "text": [
            "Epoch:176 Val Dise:  0.5637384653091431\n",
            "Epoch 178 of 400\n",
            "Training\n"
          ]
        },
        {
          "output_type": "stream",
          "name": "stderr",
          "text": [
            "8it [00:03,  2.22it/s]\n"
          ]
        },
        {
          "output_type": "stream",
          "name": "stdout",
          "text": [
            "Epoch loss:  5.730122268199921\n",
            "Dise:  0.6291452571749687\n",
            "----------Validation----------\n"
          ]
        },
        {
          "output_type": "stream",
          "name": "stderr",
          "text": [
            "2it [00:00, 10.71it/s]\n"
          ]
        },
        {
          "output_type": "stream",
          "name": "stdout",
          "text": [
            "Epoch:177 Val Dise:  0.5880826115608215\n",
            "Epoch 179 of 400\n",
            "Training\n"
          ]
        },
        {
          "output_type": "stream",
          "name": "stderr",
          "text": [
            "8it [00:03,  2.24it/s]\n"
          ]
        },
        {
          "output_type": "stream",
          "name": "stdout",
          "text": [
            "Epoch loss:  5.7999267578125\n",
            "Dise:  0.6199044398963451\n",
            "----------Validation----------\n"
          ]
        },
        {
          "output_type": "stream",
          "name": "stderr",
          "text": [
            "2it [00:00, 10.80it/s]\n"
          ]
        },
        {
          "output_type": "stream",
          "name": "stdout",
          "text": [
            "Epoch:178 Val Dise:  0.595234751701355\n",
            "Epoch 180 of 400\n",
            "Training\n"
          ]
        },
        {
          "output_type": "stream",
          "name": "stderr",
          "text": [
            "8it [00:03,  2.25it/s]\n"
          ]
        },
        {
          "output_type": "stream",
          "name": "stdout",
          "text": [
            "Epoch loss:  6.131881773471832\n",
            "Dise:  0.5890985950827599\n",
            "----------Validation----------\n"
          ]
        },
        {
          "output_type": "stream",
          "name": "stderr",
          "text": [
            "2it [00:00, 10.48it/s]\n"
          ]
        },
        {
          "output_type": "stream",
          "name": "stdout",
          "text": [
            "Epoch:179 Val Dise:  0.5885918438434601\n",
            "Epoch 181 of 400\n",
            "Training\n"
          ]
        },
        {
          "output_type": "stream",
          "name": "stderr",
          "text": [
            "8it [00:03,  2.25it/s]\n"
          ]
        },
        {
          "output_type": "stream",
          "name": "stdout",
          "text": [
            "Epoch loss:  5.852326273918152\n",
            "Dise:  0.6063738167285919\n",
            "----------Validation----------\n"
          ]
        },
        {
          "output_type": "stream",
          "name": "stderr",
          "text": [
            "2it [00:00, 11.02it/s]\n"
          ]
        },
        {
          "output_type": "stream",
          "name": "stdout",
          "text": [
            "Epoch:180 Val Dise:  0.5993832349777222\n",
            "Epoch 182 of 400\n",
            "Training\n"
          ]
        },
        {
          "output_type": "stream",
          "name": "stderr",
          "text": [
            "8it [00:03,  2.23it/s]\n"
          ]
        },
        {
          "output_type": "stream",
          "name": "stdout",
          "text": [
            "Epoch loss:  5.745849013328552\n",
            "Dise:  0.6158254742622375\n",
            "----------Validation----------\n"
          ]
        },
        {
          "output_type": "stream",
          "name": "stderr",
          "text": [
            "2it [00:00, 10.91it/s]\n"
          ]
        },
        {
          "output_type": "stream",
          "name": "stdout",
          "text": [
            "Epoch:181 Val Dise:  0.5872766375541687\n",
            "Epoch 183 of 400\n",
            "Training\n"
          ]
        },
        {
          "output_type": "stream",
          "name": "stderr",
          "text": [
            "8it [00:03,  2.38it/s]\n"
          ]
        },
        {
          "output_type": "stream",
          "name": "stdout",
          "text": [
            "Epoch loss:  5.626896977424622\n",
            "Dise:  0.6245443150401115\n",
            "----------Validation----------\n"
          ]
        },
        {
          "output_type": "stream",
          "name": "stderr",
          "text": [
            "2it [00:00, 11.30it/s]\n"
          ]
        },
        {
          "output_type": "stream",
          "name": "stdout",
          "text": [
            "Epoch:182 Val Dise:  0.60054811835289\n",
            "Epoch 184 of 400\n",
            "Training\n"
          ]
        },
        {
          "output_type": "stream",
          "name": "stderr",
          "text": [
            "8it [00:03,  2.25it/s]\n"
          ]
        },
        {
          "output_type": "stream",
          "name": "stdout",
          "text": [
            "Epoch loss:  5.9293785989284515\n",
            "Dise:  0.6223970428109169\n",
            "----------Validation----------\n"
          ]
        },
        {
          "output_type": "stream",
          "name": "stderr",
          "text": [
            "2it [00:00, 10.51it/s]"
          ]
        },
        {
          "output_type": "stream",
          "name": "stdout",
          "text": [
            "Epoch:183 Val Dise:  0.6040103733539581\n",
            "Epoch 185 of 400\n",
            "Training\n"
          ]
        },
        {
          "output_type": "stream",
          "name": "stderr",
          "text": [
            "\n",
            "8it [00:03,  2.38it/s]\n"
          ]
        },
        {
          "output_type": "stream",
          "name": "stdout",
          "text": [
            "Epoch loss:  5.777342677116394\n",
            "Dise:  0.6332621872425079\n",
            "----------Validation----------\n"
          ]
        },
        {
          "output_type": "stream",
          "name": "stderr",
          "text": [
            "2it [00:00, 11.02it/s]\n"
          ]
        },
        {
          "output_type": "stream",
          "name": "stdout",
          "text": [
            "Epoch:184 Val Dise:  0.6218004822731018\n",
            "Epoch 186 of 400\n",
            "Training\n"
          ]
        },
        {
          "output_type": "stream",
          "name": "stderr",
          "text": [
            "8it [00:03,  2.31it/s]\n"
          ]
        },
        {
          "output_type": "stream",
          "name": "stdout",
          "text": [
            "Epoch loss:  5.7017547488212585\n",
            "Dise:  0.6481447443366051\n",
            "----------Validation----------\n"
          ]
        },
        {
          "output_type": "stream",
          "name": "stderr",
          "text": [
            "2it [00:00, 11.20it/s]\n"
          ]
        },
        {
          "output_type": "stream",
          "name": "stdout",
          "text": [
            "Epoch:185 Val Dise:  0.6053146123886108\n",
            "Epoch 187 of 400\n",
            "Training\n"
          ]
        },
        {
          "output_type": "stream",
          "name": "stderr",
          "text": [
            "8it [00:03,  2.33it/s]\n"
          ]
        },
        {
          "output_type": "stream",
          "name": "stdout",
          "text": [
            "Epoch loss:  5.674360513687134\n",
            "Dise:  0.6422967687249184\n",
            "----------Validation----------\n"
          ]
        },
        {
          "output_type": "stream",
          "name": "stderr",
          "text": [
            "2it [00:00, 11.11it/s]\n"
          ]
        },
        {
          "output_type": "stream",
          "name": "stdout",
          "text": [
            "Epoch:186 Val Dise:  0.5838199257850647\n",
            "Epoch 188 of 400\n",
            "Training\n"
          ]
        },
        {
          "output_type": "stream",
          "name": "stderr",
          "text": [
            "8it [00:03,  2.28it/s]\n"
          ]
        },
        {
          "output_type": "stream",
          "name": "stdout",
          "text": [
            "Epoch loss:  6.350652098655701\n",
            "Dise:  0.5746393473818898\n",
            "----------Validation----------\n"
          ]
        },
        {
          "output_type": "stream",
          "name": "stderr",
          "text": [
            "2it [00:00, 11.08it/s]\n"
          ]
        },
        {
          "output_type": "stream",
          "name": "stdout",
          "text": [
            "Epoch:187 Val Dise:  0.5813359916210175\n",
            "Epoch 189 of 400\n",
            "Training\n"
          ]
        },
        {
          "output_type": "stream",
          "name": "stderr",
          "text": [
            "8it [00:03,  2.36it/s]\n"
          ]
        },
        {
          "output_type": "stream",
          "name": "stdout",
          "text": [
            "Epoch loss:  5.9878122210502625\n",
            "Dise:  0.6070410758256912\n",
            "----------Validation----------\n"
          ]
        },
        {
          "output_type": "stream",
          "name": "stderr",
          "text": [
            "2it [00:00, 11.52it/s]\n"
          ]
        },
        {
          "output_type": "stream",
          "name": "stdout",
          "text": [
            "Epoch:188 Val Dise:  0.6343004405498505\n",
            "Epoch 190 of 400\n",
            "Training\n"
          ]
        },
        {
          "output_type": "stream",
          "name": "stderr",
          "text": [
            "8it [00:03,  2.21it/s]\n"
          ]
        },
        {
          "output_type": "stream",
          "name": "stdout",
          "text": [
            "Epoch loss:  5.700832307338715\n",
            "Dise:  0.6394570395350456\n",
            "----------Validation----------\n"
          ]
        },
        {
          "output_type": "stream",
          "name": "stderr",
          "text": [
            "2it [00:00, 11.24it/s]\n"
          ]
        },
        {
          "output_type": "stream",
          "name": "stdout",
          "text": [
            "Epoch:189 Val Dise:  0.6275387406349182\n",
            "Epoch 191 of 400\n",
            "Training\n"
          ]
        },
        {
          "output_type": "stream",
          "name": "stderr",
          "text": [
            "8it [00:03,  2.19it/s]\n"
          ]
        },
        {
          "output_type": "stream",
          "name": "stdout",
          "text": [
            "Epoch loss:  5.726838529109955\n",
            "Dise:  0.6333416849374771\n",
            "----------Validation----------\n"
          ]
        },
        {
          "output_type": "stream",
          "name": "stderr",
          "text": [
            "2it [00:00, 11.09it/s]\n"
          ]
        },
        {
          "output_type": "stream",
          "name": "stdout",
          "text": [
            "Epoch:190 Val Dise:  0.6334703862667084\n",
            "Epoch 192 of 400\n",
            "Training\n"
          ]
        },
        {
          "output_type": "stream",
          "name": "stderr",
          "text": [
            "8it [00:03,  2.26it/s]\n"
          ]
        },
        {
          "output_type": "stream",
          "name": "stdout",
          "text": [
            "Epoch loss:  5.5527907609939575\n",
            "Dise:  0.6462487503886223\n",
            "----------Validation----------\n"
          ]
        },
        {
          "output_type": "stream",
          "name": "stderr",
          "text": [
            "2it [00:00, 10.90it/s]\n"
          ]
        },
        {
          "output_type": "stream",
          "name": "stdout",
          "text": [
            "Epoch:191 Val Dise:  0.6263833045959473\n",
            "Epoch 193 of 400\n",
            "Training\n"
          ]
        },
        {
          "output_type": "stream",
          "name": "stderr",
          "text": [
            "8it [00:03,  2.28it/s]\n"
          ]
        },
        {
          "output_type": "stream",
          "name": "stdout",
          "text": [
            "Epoch loss:  6.045400083065033\n",
            "Dise:  0.6098032034933567\n",
            "----------Validation----------\n"
          ]
        },
        {
          "output_type": "stream",
          "name": "stderr",
          "text": [
            "2it [00:00, 10.22it/s]\n"
          ]
        },
        {
          "output_type": "stream",
          "name": "stdout",
          "text": [
            "Epoch:192 Val Dise:  0.6293260753154755\n",
            "Epoch 194 of 400\n",
            "Training\n"
          ]
        },
        {
          "output_type": "stream",
          "name": "stderr",
          "text": [
            "8it [00:03,  2.28it/s]\n"
          ]
        },
        {
          "output_type": "stream",
          "name": "stdout",
          "text": [
            "Epoch loss:  5.876969993114471\n",
            "Dise:  0.6240650117397308\n",
            "----------Validation----------\n"
          ]
        },
        {
          "output_type": "stream",
          "name": "stderr",
          "text": [
            "2it [00:00, 11.42it/s]\n"
          ]
        },
        {
          "output_type": "stream",
          "name": "stdout",
          "text": [
            "Epoch:193 Val Dise:  0.626086562871933\n",
            "Epoch 195 of 400\n",
            "Training\n"
          ]
        },
        {
          "output_type": "stream",
          "name": "stderr",
          "text": [
            "8it [00:03,  2.28it/s]\n"
          ]
        },
        {
          "output_type": "stream",
          "name": "stdout",
          "text": [
            "Epoch loss:  5.830962598323822\n",
            "Dise:  0.627717949450016\n",
            "----------Validation----------\n"
          ]
        },
        {
          "output_type": "stream",
          "name": "stderr",
          "text": [
            "2it [00:00, 10.80it/s]\n"
          ]
        },
        {
          "output_type": "stream",
          "name": "stdout",
          "text": [
            "Epoch:194 Val Dise:  0.5978511869907379\n",
            "Epoch 196 of 400\n",
            "Training\n"
          ]
        },
        {
          "output_type": "stream",
          "name": "stderr",
          "text": [
            "8it [00:03,  2.36it/s]\n"
          ]
        },
        {
          "output_type": "stream",
          "name": "stdout",
          "text": [
            "Epoch loss:  5.905434548854828\n",
            "Dise:  0.6164259985089302\n",
            "----------Validation----------\n"
          ]
        },
        {
          "output_type": "stream",
          "name": "stderr",
          "text": [
            "2it [00:00, 10.58it/s]\n"
          ]
        },
        {
          "output_type": "stream",
          "name": "stdout",
          "text": [
            "Epoch:195 Val Dise:  0.6073131859302521\n",
            "Epoch 197 of 400\n",
            "Training\n"
          ]
        },
        {
          "output_type": "stream",
          "name": "stderr",
          "text": [
            "8it [00:03,  2.33it/s]\n"
          ]
        },
        {
          "output_type": "stream",
          "name": "stdout",
          "text": [
            "Epoch loss:  5.654813468456268\n",
            "Dise:  0.639420673251152\n",
            "----------Validation----------\n"
          ]
        },
        {
          "output_type": "stream",
          "name": "stderr",
          "text": [
            "2it [00:00, 11.47it/s]\n"
          ]
        },
        {
          "output_type": "stream",
          "name": "stdout",
          "text": [
            "Epoch:196 Val Dise:  0.6133096516132355\n",
            "Epoch 198 of 400\n",
            "Training\n"
          ]
        },
        {
          "output_type": "stream",
          "name": "stderr",
          "text": [
            "8it [00:03,  2.36it/s]\n"
          ]
        },
        {
          "output_type": "stream",
          "name": "stdout",
          "text": [
            "Epoch loss:  5.8523595333099365\n",
            "Dise:  0.6389705426990986\n",
            "----------Validation----------\n"
          ]
        },
        {
          "output_type": "stream",
          "name": "stderr",
          "text": [
            "2it [00:00, 11.28it/s]\n"
          ]
        },
        {
          "output_type": "stream",
          "name": "stdout",
          "text": [
            "Epoch:197 Val Dise:  0.6183641254901886\n",
            "Epoch 199 of 400\n",
            "Training\n"
          ]
        },
        {
          "output_type": "stream",
          "name": "stderr",
          "text": [
            "8it [00:03,  2.29it/s]\n"
          ]
        },
        {
          "output_type": "stream",
          "name": "stdout",
          "text": [
            "Epoch loss:  5.7910706996917725\n",
            "Dise:  0.6323083117604256\n",
            "----------Validation----------\n"
          ]
        },
        {
          "output_type": "stream",
          "name": "stderr",
          "text": [
            "2it [00:00, 10.74it/s]\n"
          ]
        },
        {
          "output_type": "stream",
          "name": "stdout",
          "text": [
            "Epoch:198 Val Dise:  0.6132493913173676\n",
            "Epoch 200 of 400\n",
            "Training\n"
          ]
        },
        {
          "output_type": "stream",
          "name": "stderr",
          "text": [
            "8it [00:03,  2.39it/s]\n"
          ]
        },
        {
          "output_type": "stream",
          "name": "stdout",
          "text": [
            "Epoch loss:  5.35776561498642\n",
            "Dise:  0.6581414714455605\n",
            "----------Validation----------\n"
          ]
        },
        {
          "output_type": "stream",
          "name": "stderr",
          "text": [
            "2it [00:00, 11.09it/s]\n"
          ]
        },
        {
          "output_type": "stream",
          "name": "stdout",
          "text": [
            "Epoch:199 Val Dise:  0.6361949741840363\n",
            "Epoch 201 of 400\n",
            "Training\n"
          ]
        },
        {
          "output_type": "stream",
          "name": "stderr",
          "text": [
            "8it [00:03,  2.34it/s]\n"
          ]
        },
        {
          "output_type": "stream",
          "name": "stdout",
          "text": [
            "Epoch loss:  5.784517168998718\n",
            "Dise:  0.6265877299010754\n",
            "----------Validation----------\n"
          ]
        },
        {
          "output_type": "stream",
          "name": "stderr",
          "text": [
            "2it [00:00, 10.70it/s]\n"
          ]
        },
        {
          "output_type": "stream",
          "name": "stdout",
          "text": [
            "Epoch:200 Val Dise:  0.6523086726665497\n",
            "Epoch 202 of 400\n",
            "Training\n"
          ]
        },
        {
          "output_type": "stream",
          "name": "stderr",
          "text": [
            "8it [00:03,  2.28it/s]\n"
          ]
        },
        {
          "output_type": "stream",
          "name": "stdout",
          "text": [
            "Epoch loss:  5.770438194274902\n",
            "Dise:  0.6335904598236084\n",
            "----------Validation----------\n"
          ]
        },
        {
          "output_type": "stream",
          "name": "stderr",
          "text": [
            "2it [00:00, 10.76it/s]\n"
          ]
        },
        {
          "output_type": "stream",
          "name": "stdout",
          "text": [
            "Epoch:201 Val Dise:  0.6415385007858276\n",
            "Epoch 203 of 400\n",
            "Training\n"
          ]
        },
        {
          "output_type": "stream",
          "name": "stderr",
          "text": [
            "8it [00:03,  2.33it/s]\n"
          ]
        },
        {
          "output_type": "stream",
          "name": "stdout",
          "text": [
            "Epoch loss:  5.754772186279297\n",
            "Dise:  0.635202020406723\n",
            "----------Validation----------\n"
          ]
        },
        {
          "output_type": "stream",
          "name": "stderr",
          "text": [
            "2it [00:00, 11.13it/s]\n"
          ]
        },
        {
          "output_type": "stream",
          "name": "stdout",
          "text": [
            "Epoch:202 Val Dise:  0.644193708896637\n",
            "Epoch 204 of 400\n",
            "Training\n"
          ]
        },
        {
          "output_type": "stream",
          "name": "stderr",
          "text": [
            "8it [00:03,  2.26it/s]\n"
          ]
        },
        {
          "output_type": "stream",
          "name": "stdout",
          "text": [
            "Epoch loss:  5.622080028057098\n",
            "Dise:  0.6502748280763626\n",
            "----------Validation----------\n"
          ]
        },
        {
          "output_type": "stream",
          "name": "stderr",
          "text": [
            "2it [00:00, 10.86it/s]\n"
          ]
        },
        {
          "output_type": "stream",
          "name": "stdout",
          "text": [
            "Epoch:203 Val Dise:  0.6580616235733032\n",
            "Epoch 205 of 400\n",
            "Training\n"
          ]
        },
        {
          "output_type": "stream",
          "name": "stderr",
          "text": [
            "8it [00:03,  2.31it/s]\n"
          ]
        },
        {
          "output_type": "stream",
          "name": "stdout",
          "text": [
            "Epoch loss:  5.420836329460144\n",
            "Dise:  0.6532242521643639\n",
            "----------Validation----------\n"
          ]
        },
        {
          "output_type": "stream",
          "name": "stderr",
          "text": [
            "2it [00:00, 10.51it/s]\n"
          ]
        },
        {
          "output_type": "stream",
          "name": "stdout",
          "text": [
            "Epoch:204 Val Dise:  0.6578197181224823\n",
            "Epoch 206 of 400\n",
            "Training\n"
          ]
        },
        {
          "output_type": "stream",
          "name": "stderr",
          "text": [
            "8it [00:03,  2.32it/s]\n"
          ]
        },
        {
          "output_type": "stream",
          "name": "stdout",
          "text": [
            "Epoch loss:  5.864950120449066\n",
            "Dise:  0.6322009563446045\n",
            "----------Validation----------\n"
          ]
        },
        {
          "output_type": "stream",
          "name": "stderr",
          "text": [
            "2it [00:00, 10.81it/s]\n"
          ]
        },
        {
          "output_type": "stream",
          "name": "stdout",
          "text": [
            "Epoch:205 Val Dise:  0.6612353920936584\n",
            "Epoch 207 of 400\n",
            "Training\n"
          ]
        },
        {
          "output_type": "stream",
          "name": "stderr",
          "text": [
            "8it [00:03,  2.24it/s]\n"
          ]
        },
        {
          "output_type": "stream",
          "name": "stdout",
          "text": [
            "Epoch loss:  5.488093435764313\n",
            "Dise:  0.6502452939748764\n",
            "----------Validation----------\n"
          ]
        },
        {
          "output_type": "stream",
          "name": "stderr",
          "text": [
            "2it [00:00, 10.82it/s]\n"
          ]
        },
        {
          "output_type": "stream",
          "name": "stdout",
          "text": [
            "Epoch:206 Val Dise:  0.6208226680755615\n",
            "Epoch 208 of 400\n",
            "Training\n"
          ]
        },
        {
          "output_type": "stream",
          "name": "stderr",
          "text": [
            "8it [00:03,  2.21it/s]\n"
          ]
        },
        {
          "output_type": "stream",
          "name": "stdout",
          "text": [
            "Epoch loss:  5.6213831305503845\n",
            "Dise:  0.6526693925261497\n",
            "----------Validation----------\n"
          ]
        },
        {
          "output_type": "stream",
          "name": "stderr",
          "text": [
            "2it [00:00, 10.85it/s]\n"
          ]
        },
        {
          "output_type": "stream",
          "name": "stdout",
          "text": [
            "Epoch:207 Val Dise:  0.622347503900528\n",
            "Epoch 209 of 400\n",
            "Training\n"
          ]
        },
        {
          "output_type": "stream",
          "name": "stderr",
          "text": [
            "8it [00:03,  2.35it/s]\n"
          ]
        },
        {
          "output_type": "stream",
          "name": "stdout",
          "text": [
            "Epoch loss:  5.69213992357254\n",
            "Dise:  0.6417979225516319\n",
            "----------Validation----------\n"
          ]
        },
        {
          "output_type": "stream",
          "name": "stderr",
          "text": [
            "2it [00:00, 11.06it/s]\n"
          ]
        },
        {
          "output_type": "stream",
          "name": "stdout",
          "text": [
            "Epoch:208 Val Dise:  0.6382686197757721\n",
            "Epoch 210 of 400\n",
            "Training\n"
          ]
        },
        {
          "output_type": "stream",
          "name": "stderr",
          "text": [
            "8it [00:03,  2.33it/s]\n"
          ]
        },
        {
          "output_type": "stream",
          "name": "stdout",
          "text": [
            "Epoch loss:  5.509747207164764\n",
            "Dise:  0.6373738087713718\n",
            "----------Validation----------\n"
          ]
        },
        {
          "output_type": "stream",
          "name": "stderr",
          "text": [
            "2it [00:00, 10.70it/s]\n"
          ]
        },
        {
          "output_type": "stream",
          "name": "stdout",
          "text": [
            "Epoch:209 Val Dise:  0.6242110133171082\n",
            "Epoch 211 of 400\n",
            "Training\n"
          ]
        },
        {
          "output_type": "stream",
          "name": "stderr",
          "text": [
            "8it [00:03,  2.33it/s]\n"
          ]
        },
        {
          "output_type": "stream",
          "name": "stdout",
          "text": [
            "Epoch loss:  6.054223597049713\n",
            "Dise:  0.597460862249136\n",
            "----------Validation----------\n"
          ]
        },
        {
          "output_type": "stream",
          "name": "stderr",
          "text": [
            "2it [00:00, 11.39it/s]\n"
          ]
        },
        {
          "output_type": "stream",
          "name": "stdout",
          "text": [
            "Epoch:210 Val Dise:  0.6080788373947144\n",
            "Epoch 212 of 400\n",
            "Training\n"
          ]
        },
        {
          "output_type": "stream",
          "name": "stderr",
          "text": [
            "8it [00:03,  2.25it/s]\n"
          ]
        },
        {
          "output_type": "stream",
          "name": "stdout",
          "text": [
            "Epoch loss:  5.53014749288559\n",
            "Dise:  0.6400040462613106\n",
            "----------Validation----------\n"
          ]
        },
        {
          "output_type": "stream",
          "name": "stderr",
          "text": [
            "2it [00:00, 10.55it/s]\n"
          ]
        },
        {
          "output_type": "stream",
          "name": "stdout",
          "text": [
            "Epoch:211 Val Dise:  0.6251483261585236\n",
            "Epoch 213 of 400\n",
            "Training\n"
          ]
        },
        {
          "output_type": "stream",
          "name": "stderr",
          "text": [
            "8it [00:03,  2.37it/s]\n"
          ]
        },
        {
          "output_type": "stream",
          "name": "stdout",
          "text": [
            "Epoch loss:  5.471784830093384\n",
            "Dise:  0.6595969051122665\n",
            "----------Validation----------\n"
          ]
        },
        {
          "output_type": "stream",
          "name": "stderr",
          "text": [
            "2it [00:00, 11.52it/s]\n"
          ]
        },
        {
          "output_type": "stream",
          "name": "stdout",
          "text": [
            "Epoch:212 Val Dise:  0.6543236672878265\n",
            "Epoch 214 of 400\n",
            "Training\n"
          ]
        },
        {
          "output_type": "stream",
          "name": "stderr",
          "text": [
            "8it [00:03,  2.32it/s]\n"
          ]
        },
        {
          "output_type": "stream",
          "name": "stdout",
          "text": [
            "Epoch loss:  5.426207959651947\n",
            "Dise:  0.6567236259579659\n",
            "----------Validation----------\n"
          ]
        },
        {
          "output_type": "stream",
          "name": "stderr",
          "text": [
            "2it [00:00, 11.28it/s]\n"
          ]
        },
        {
          "output_type": "stream",
          "name": "stdout",
          "text": [
            "Epoch:213 Val Dise:  0.6530828773975372\n",
            "Epoch 215 of 400\n",
            "Training\n"
          ]
        },
        {
          "output_type": "stream",
          "name": "stderr",
          "text": [
            "8it [00:03,  2.24it/s]\n"
          ]
        },
        {
          "output_type": "stream",
          "name": "stdout",
          "text": [
            "Epoch loss:  5.601124167442322\n",
            "Dise:  0.6412684433162212\n",
            "----------Validation----------\n"
          ]
        },
        {
          "output_type": "stream",
          "name": "stderr",
          "text": [
            "2it [00:00, 11.18it/s]\n"
          ]
        },
        {
          "output_type": "stream",
          "name": "stdout",
          "text": [
            "Epoch:214 Val Dise:  0.6399215459823608\n",
            "Epoch 216 of 400\n",
            "Training\n"
          ]
        },
        {
          "output_type": "stream",
          "name": "stderr",
          "text": [
            "8it [00:03,  2.27it/s]\n"
          ]
        },
        {
          "output_type": "stream",
          "name": "stdout",
          "text": [
            "Epoch loss:  5.50398176908493\n",
            "Dise:  0.6465153470635414\n",
            "----------Validation----------\n"
          ]
        },
        {
          "output_type": "stream",
          "name": "stderr",
          "text": [
            "2it [00:00, 10.97it/s]\n"
          ]
        },
        {
          "output_type": "stream",
          "name": "stdout",
          "text": [
            "Epoch:215 Val Dise:  0.6316119432449341\n",
            "Epoch 217 of 400\n",
            "Training\n"
          ]
        },
        {
          "output_type": "stream",
          "name": "stderr",
          "text": [
            "8it [00:03,  2.31it/s]\n"
          ]
        },
        {
          "output_type": "stream",
          "name": "stdout",
          "text": [
            "Epoch loss:  5.807440519332886\n",
            "Dise:  0.643292959779501\n",
            "----------Validation----------\n"
          ]
        },
        {
          "output_type": "stream",
          "name": "stderr",
          "text": [
            "2it [00:00, 11.21it/s]\n"
          ]
        },
        {
          "output_type": "stream",
          "name": "stdout",
          "text": [
            "Epoch:216 Val Dise:  0.6143998801708221\n",
            "Epoch 218 of 400\n",
            "Training\n"
          ]
        },
        {
          "output_type": "stream",
          "name": "stderr",
          "text": [
            "8it [00:03,  2.25it/s]\n"
          ]
        },
        {
          "output_type": "stream",
          "name": "stdout",
          "text": [
            "Epoch loss:  4.996734619140625\n",
            "Dise:  0.687591627240181\n",
            "----------Validation----------\n"
          ]
        },
        {
          "output_type": "stream",
          "name": "stderr",
          "text": [
            "2it [00:00, 11.18it/s]\n"
          ]
        },
        {
          "output_type": "stream",
          "name": "stdout",
          "text": [
            "Epoch:217 Val Dise:  0.5622079372406006\n",
            "Epoch 219 of 400\n",
            "Training\n"
          ]
        },
        {
          "output_type": "stream",
          "name": "stderr",
          "text": [
            "8it [00:03,  2.30it/s]\n"
          ]
        },
        {
          "output_type": "stream",
          "name": "stdout",
          "text": [
            "Epoch loss:  5.375166356563568\n",
            "Dise:  0.6598361879587173\n",
            "----------Validation----------\n"
          ]
        },
        {
          "output_type": "stream",
          "name": "stderr",
          "text": [
            "2it [00:00, 10.93it/s]\n"
          ]
        },
        {
          "output_type": "stream",
          "name": "stdout",
          "text": [
            "Epoch:218 Val Dise:  0.5739442408084869\n",
            "Epoch 220 of 400\n",
            "Training\n"
          ]
        },
        {
          "output_type": "stream",
          "name": "stderr",
          "text": [
            "8it [00:03,  2.26it/s]\n"
          ]
        },
        {
          "output_type": "stream",
          "name": "stdout",
          "text": [
            "Epoch loss:  5.415562450885773\n",
            "Dise:  0.6526858955621719\n",
            "----------Validation----------\n"
          ]
        },
        {
          "output_type": "stream",
          "name": "stderr",
          "text": [
            "2it [00:00, 10.55it/s]\n"
          ]
        },
        {
          "output_type": "stream",
          "name": "stdout",
          "text": [
            "Epoch:219 Val Dise:  0.5998557209968567\n",
            "Epoch 221 of 400\n",
            "Training\n"
          ]
        },
        {
          "output_type": "stream",
          "name": "stderr",
          "text": [
            "8it [00:03,  2.28it/s]\n"
          ]
        },
        {
          "output_type": "stream",
          "name": "stdout",
          "text": [
            "Epoch loss:  5.878386855125427\n",
            "Dise:  0.620402242988348\n",
            "----------Validation----------\n"
          ]
        },
        {
          "output_type": "stream",
          "name": "stderr",
          "text": [
            "2it [00:00, 10.90it/s]\n"
          ]
        },
        {
          "output_type": "stream",
          "name": "stdout",
          "text": [
            "Epoch:220 Val Dise:  0.6002547740936279\n",
            "Epoch 222 of 400\n",
            "Training\n"
          ]
        },
        {
          "output_type": "stream",
          "name": "stderr",
          "text": [
            "8it [00:03,  2.34it/s]\n"
          ]
        },
        {
          "output_type": "stream",
          "name": "stdout",
          "text": [
            "Epoch loss:  5.236796081066132\n",
            "Dise:  0.6734409928321838\n",
            "----------Validation----------\n"
          ]
        },
        {
          "output_type": "stream",
          "name": "stderr",
          "text": [
            "2it [00:00, 11.58it/s]\n"
          ]
        },
        {
          "output_type": "stream",
          "name": "stdout",
          "text": [
            "Epoch:221 Val Dise:  0.6223289668560028\n",
            "Epoch 223 of 400\n",
            "Training\n"
          ]
        },
        {
          "output_type": "stream",
          "name": "stderr",
          "text": [
            "8it [00:03,  2.29it/s]\n"
          ]
        },
        {
          "output_type": "stream",
          "name": "stdout",
          "text": [
            "Epoch loss:  5.374547064304352\n",
            "Dise:  0.6589551642537117\n",
            "----------Validation----------\n"
          ]
        },
        {
          "output_type": "stream",
          "name": "stderr",
          "text": [
            "2it [00:00, 10.28it/s]\n"
          ]
        },
        {
          "output_type": "stream",
          "name": "stdout",
          "text": [
            "Epoch:222 Val Dise:  0.6324026584625244\n",
            "Epoch 224 of 400\n",
            "Training\n"
          ]
        },
        {
          "output_type": "stream",
          "name": "stderr",
          "text": [
            "8it [00:03,  2.29it/s]\n"
          ]
        },
        {
          "output_type": "stream",
          "name": "stdout",
          "text": [
            "Epoch loss:  5.846293151378632\n",
            "Dise:  0.6292839124798775\n",
            "----------Validation----------\n"
          ]
        },
        {
          "output_type": "stream",
          "name": "stderr",
          "text": [
            "2it [00:00, 10.23it/s]\n"
          ]
        },
        {
          "output_type": "stream",
          "name": "stdout",
          "text": [
            "Epoch:223 Val Dise:  0.6708575785160065\n",
            "Epoch 225 of 400\n",
            "Training\n"
          ]
        },
        {
          "output_type": "stream",
          "name": "stderr",
          "text": [
            "8it [00:03,  2.31it/s]\n"
          ]
        },
        {
          "output_type": "stream",
          "name": "stdout",
          "text": [
            "Epoch loss:  5.660187244415283\n",
            "Dise:  0.63157968968153\n",
            "----------Validation----------\n"
          ]
        },
        {
          "output_type": "stream",
          "name": "stderr",
          "text": [
            "2it [00:00, 11.77it/s]\n"
          ]
        },
        {
          "output_type": "stream",
          "name": "stdout",
          "text": [
            "Epoch:224 Val Dise:  0.6035893261432648\n",
            "Epoch 226 of 400\n",
            "Training\n"
          ]
        },
        {
          "output_type": "stream",
          "name": "stderr",
          "text": [
            "8it [00:03,  2.24it/s]\n"
          ]
        },
        {
          "output_type": "stream",
          "name": "stdout",
          "text": [
            "Epoch loss:  5.227871119976044\n",
            "Dise:  0.6678201481699944\n",
            "----------Validation----------\n"
          ]
        },
        {
          "output_type": "stream",
          "name": "stderr",
          "text": [
            "2it [00:00, 10.49it/s]\n"
          ]
        },
        {
          "output_type": "stream",
          "name": "stdout",
          "text": [
            "Epoch:225 Val Dise:  0.5921099185943604\n",
            "Epoch 227 of 400\n",
            "Training\n"
          ]
        },
        {
          "output_type": "stream",
          "name": "stderr",
          "text": [
            "8it [00:03,  2.26it/s]\n"
          ]
        },
        {
          "output_type": "stream",
          "name": "stdout",
          "text": [
            "Epoch loss:  5.4719003438949585\n",
            "Dise:  0.6368515007197857\n",
            "----------Validation----------\n"
          ]
        },
        {
          "output_type": "stream",
          "name": "stderr",
          "text": [
            "2it [00:00, 10.64it/s]\n"
          ]
        },
        {
          "output_type": "stream",
          "name": "stdout",
          "text": [
            "Epoch:226 Val Dise:  0.6217078864574432\n",
            "Epoch 228 of 400\n",
            "Training\n"
          ]
        },
        {
          "output_type": "stream",
          "name": "stderr",
          "text": [
            "8it [00:03,  2.30it/s]\n"
          ]
        },
        {
          "output_type": "stream",
          "name": "stdout",
          "text": [
            "Epoch loss:  5.660286843776703\n",
            "Dise:  0.6331873424351215\n",
            "----------Validation----------\n"
          ]
        },
        {
          "output_type": "stream",
          "name": "stderr",
          "text": [
            "2it [00:00, 11.14it/s]\n"
          ]
        },
        {
          "output_type": "stream",
          "name": "stdout",
          "text": [
            "Epoch:227 Val Dise:  0.632411390542984\n",
            "Epoch 229 of 400\n",
            "Training\n"
          ]
        },
        {
          "output_type": "stream",
          "name": "stderr",
          "text": [
            "8it [00:03,  2.30it/s]\n"
          ]
        },
        {
          "output_type": "stream",
          "name": "stdout",
          "text": [
            "Epoch loss:  5.452100992202759\n",
            "Dise:  0.663078248500824\n",
            "----------Validation----------\n"
          ]
        },
        {
          "output_type": "stream",
          "name": "stderr",
          "text": [
            "2it [00:00, 10.77it/s]\n"
          ]
        },
        {
          "output_type": "stream",
          "name": "stdout",
          "text": [
            "Epoch:228 Val Dise:  0.6321469247341156\n",
            "Epoch 230 of 400\n",
            "Training\n"
          ]
        },
        {
          "output_type": "stream",
          "name": "stderr",
          "text": [
            "8it [00:03,  2.33it/s]\n"
          ]
        },
        {
          "output_type": "stream",
          "name": "stdout",
          "text": [
            "Epoch loss:  5.290102899074554\n",
            "Dise:  0.67767084389925\n",
            "----------Validation----------\n"
          ]
        },
        {
          "output_type": "stream",
          "name": "stderr",
          "text": [
            "2it [00:00, 10.90it/s]\n"
          ]
        },
        {
          "output_type": "stream",
          "name": "stdout",
          "text": [
            "Epoch:229 Val Dise:  0.6306805610656738\n",
            "Epoch 231 of 400\n",
            "Training\n"
          ]
        },
        {
          "output_type": "stream",
          "name": "stderr",
          "text": [
            "8it [00:03,  2.26it/s]\n"
          ]
        },
        {
          "output_type": "stream",
          "name": "stdout",
          "text": [
            "Epoch loss:  5.48074072599411\n",
            "Dise:  0.6590248048305511\n",
            "----------Validation----------\n"
          ]
        },
        {
          "output_type": "stream",
          "name": "stderr",
          "text": [
            "2it [00:00, 10.63it/s]\n"
          ]
        },
        {
          "output_type": "stream",
          "name": "stdout",
          "text": [
            "Epoch:230 Val Dise:  0.6263074278831482\n",
            "Epoch 232 of 400\n",
            "Training\n"
          ]
        },
        {
          "output_type": "stream",
          "name": "stderr",
          "text": [
            "8it [00:03,  2.26it/s]\n"
          ]
        },
        {
          "output_type": "stream",
          "name": "stdout",
          "text": [
            "Epoch loss:  5.432393372058868\n",
            "Dise:  0.636442344635725\n",
            "----------Validation----------\n"
          ]
        },
        {
          "output_type": "stream",
          "name": "stderr",
          "text": [
            "2it [00:00, 10.62it/s]\n"
          ]
        },
        {
          "output_type": "stream",
          "name": "stdout",
          "text": [
            "Epoch:231 Val Dise:  0.6369031667709351\n",
            "Epoch 233 of 400\n",
            "Training\n"
          ]
        },
        {
          "output_type": "stream",
          "name": "stderr",
          "text": [
            "8it [00:03,  2.24it/s]\n"
          ]
        },
        {
          "output_type": "stream",
          "name": "stdout",
          "text": [
            "Epoch loss:  5.779331266880035\n",
            "Dise:  0.6566210389137268\n",
            "----------Validation----------\n"
          ]
        },
        {
          "output_type": "stream",
          "name": "stderr",
          "text": [
            "2it [00:00, 10.68it/s]\n"
          ]
        },
        {
          "output_type": "stream",
          "name": "stdout",
          "text": [
            "Epoch:232 Val Dise:  0.6312232315540314\n",
            "Epoch 234 of 400\n",
            "Training\n"
          ]
        },
        {
          "output_type": "stream",
          "name": "stderr",
          "text": [
            "8it [00:03,  2.27it/s]\n"
          ]
        },
        {
          "output_type": "stream",
          "name": "stdout",
          "text": [
            "Epoch loss:  5.432469487190247\n",
            "Dise:  0.6621745154261589\n",
            "----------Validation----------\n"
          ]
        },
        {
          "output_type": "stream",
          "name": "stderr",
          "text": [
            "2it [00:00, 11.15it/s]\n"
          ]
        },
        {
          "output_type": "stream",
          "name": "stdout",
          "text": [
            "Epoch:233 Val Dise:  0.6236644983291626\n",
            "Epoch 235 of 400\n",
            "Training\n"
          ]
        },
        {
          "output_type": "stream",
          "name": "stderr",
          "text": [
            "8it [00:03,  2.31it/s]\n"
          ]
        },
        {
          "output_type": "stream",
          "name": "stdout",
          "text": [
            "Epoch loss:  5.350564539432526\n",
            "Dise:  0.6779076978564262\n",
            "----------Validation----------\n"
          ]
        },
        {
          "output_type": "stream",
          "name": "stderr",
          "text": [
            "2it [00:00, 10.83it/s]\n"
          ]
        },
        {
          "output_type": "stream",
          "name": "stdout",
          "text": [
            "Epoch:234 Val Dise:  0.5804920494556427\n",
            "Epoch 236 of 400\n",
            "Training\n"
          ]
        },
        {
          "output_type": "stream",
          "name": "stderr",
          "text": [
            "8it [00:03,  2.24it/s]\n"
          ]
        },
        {
          "output_type": "stream",
          "name": "stdout",
          "text": [
            "Epoch loss:  5.477230250835419\n",
            "Dise:  0.6568377390503883\n",
            "----------Validation----------\n"
          ]
        },
        {
          "output_type": "stream",
          "name": "stderr",
          "text": [
            "2it [00:00, 10.77it/s]\n"
          ]
        },
        {
          "output_type": "stream",
          "name": "stdout",
          "text": [
            "Epoch:235 Val Dise:  0.5965804159641266\n",
            "Epoch 237 of 400\n",
            "Training\n"
          ]
        },
        {
          "output_type": "stream",
          "name": "stderr",
          "text": [
            "8it [00:03,  2.33it/s]\n"
          ]
        },
        {
          "output_type": "stream",
          "name": "stdout",
          "text": [
            "Epoch loss:  5.281943261623383\n",
            "Dise:  0.6646795943379402\n",
            "----------Validation----------\n"
          ]
        },
        {
          "output_type": "stream",
          "name": "stderr",
          "text": [
            "2it [00:00, 10.63it/s]\n"
          ]
        },
        {
          "output_type": "stream",
          "name": "stdout",
          "text": [
            "Epoch:236 Val Dise:  0.6385379433631897\n",
            "Epoch 238 of 400\n",
            "Training\n"
          ]
        },
        {
          "output_type": "stream",
          "name": "stderr",
          "text": [
            "8it [00:03,  2.37it/s]\n"
          ]
        },
        {
          "output_type": "stream",
          "name": "stdout",
          "text": [
            "Epoch loss:  5.471998810768127\n",
            "Dise:  0.6540904492139816\n",
            "----------Validation----------\n"
          ]
        },
        {
          "output_type": "stream",
          "name": "stderr",
          "text": [
            "2it [00:00, 11.56it/s]\n"
          ]
        },
        {
          "output_type": "stream",
          "name": "stdout",
          "text": [
            "Epoch:237 Val Dise:  0.6241170465946198\n",
            "Epoch 239 of 400\n",
            "Training\n"
          ]
        },
        {
          "output_type": "stream",
          "name": "stderr",
          "text": [
            "8it [00:03,  2.26it/s]\n"
          ]
        },
        {
          "output_type": "stream",
          "name": "stdout",
          "text": [
            "Epoch loss:  5.799884021282196\n",
            "Dise:  0.6262588426470757\n",
            "----------Validation----------\n"
          ]
        },
        {
          "output_type": "stream",
          "name": "stderr",
          "text": [
            "2it [00:00, 10.97it/s]\n"
          ]
        },
        {
          "output_type": "stream",
          "name": "stdout",
          "text": [
            "Epoch:238 Val Dise:  0.5927277207374573\n",
            "Epoch 240 of 400\n",
            "Training\n"
          ]
        },
        {
          "output_type": "stream",
          "name": "stderr",
          "text": [
            "8it [00:03,  2.28it/s]\n"
          ]
        },
        {
          "output_type": "stream",
          "name": "stdout",
          "text": [
            "Epoch loss:  5.382438659667969\n",
            "Dise:  0.6540452763438225\n",
            "----------Validation----------\n"
          ]
        },
        {
          "output_type": "stream",
          "name": "stderr",
          "text": [
            "2it [00:00, 10.51it/s]\n"
          ]
        },
        {
          "output_type": "stream",
          "name": "stdout",
          "text": [
            "Epoch:239 Val Dise:  0.5953077375888824\n",
            "Epoch 241 of 400\n",
            "Training\n"
          ]
        },
        {
          "output_type": "stream",
          "name": "stderr",
          "text": [
            "8it [00:03,  2.24it/s]\n"
          ]
        },
        {
          "output_type": "stream",
          "name": "stdout",
          "text": [
            "Epoch loss:  5.160336077213287\n",
            "Dise:  0.6667801216244698\n",
            "----------Validation----------\n"
          ]
        },
        {
          "output_type": "stream",
          "name": "stderr",
          "text": [
            "2it [00:00, 10.48it/s]\n"
          ]
        },
        {
          "output_type": "stream",
          "name": "stdout",
          "text": [
            "Epoch:240 Val Dise:  0.5910300016403198\n",
            "Epoch 242 of 400\n",
            "Training\n"
          ]
        },
        {
          "output_type": "stream",
          "name": "stderr",
          "text": [
            "8it [00:03,  2.20it/s]\n"
          ]
        },
        {
          "output_type": "stream",
          "name": "stdout",
          "text": [
            "Epoch loss:  5.407054305076599\n",
            "Dise:  0.6644436791539192\n",
            "----------Validation----------\n"
          ]
        },
        {
          "output_type": "stream",
          "name": "stderr",
          "text": [
            "2it [00:00, 10.93it/s]\n"
          ]
        },
        {
          "output_type": "stream",
          "name": "stdout",
          "text": [
            "Epoch:241 Val Dise:  0.5918507277965546\n",
            "Epoch 243 of 400\n",
            "Training\n"
          ]
        },
        {
          "output_type": "stream",
          "name": "stderr",
          "text": [
            "8it [00:03,  2.35it/s]\n"
          ]
        },
        {
          "output_type": "stream",
          "name": "stdout",
          "text": [
            "Epoch loss:  5.097143143415451\n",
            "Dise:  0.6878916323184967\n",
            "----------Validation----------\n"
          ]
        },
        {
          "output_type": "stream",
          "name": "stderr",
          "text": [
            "2it [00:00, 10.64it/s]\n"
          ]
        },
        {
          "output_type": "stream",
          "name": "stdout",
          "text": [
            "Epoch:242 Val Dise:  0.6094113886356354\n",
            "Epoch 244 of 400\n",
            "Training\n"
          ]
        },
        {
          "output_type": "stream",
          "name": "stderr",
          "text": [
            "8it [00:03,  2.39it/s]\n"
          ]
        },
        {
          "output_type": "stream",
          "name": "stdout",
          "text": [
            "Epoch loss:  5.988674283027649\n",
            "Dise:  0.6554207280278206\n",
            "----------Validation----------\n"
          ]
        },
        {
          "output_type": "stream",
          "name": "stderr",
          "text": [
            "2it [00:00, 10.93it/s]\n"
          ]
        },
        {
          "output_type": "stream",
          "name": "stdout",
          "text": [
            "Epoch:243 Val Dise:  0.6567585468292236\n",
            "Epoch 245 of 400\n",
            "Training\n"
          ]
        },
        {
          "output_type": "stream",
          "name": "stderr",
          "text": [
            "8it [00:03,  2.30it/s]\n"
          ]
        },
        {
          "output_type": "stream",
          "name": "stdout",
          "text": [
            "Epoch loss:  5.350198328495026\n",
            "Dise:  0.6724908500909805\n",
            "----------Validation----------\n"
          ]
        },
        {
          "output_type": "stream",
          "name": "stderr",
          "text": [
            "2it [00:00, 10.84it/s]\n"
          ]
        },
        {
          "output_type": "stream",
          "name": "stdout",
          "text": [
            "Epoch:244 Val Dise:  0.6625648438930511\n",
            "Epoch 246 of 400\n",
            "Training\n"
          ]
        },
        {
          "output_type": "stream",
          "name": "stderr",
          "text": [
            "8it [00:03,  2.21it/s]\n"
          ]
        },
        {
          "output_type": "stream",
          "name": "stdout",
          "text": [
            "Epoch loss:  5.658956050872803\n",
            "Dise:  0.6341240108013153\n",
            "----------Validation----------\n"
          ]
        },
        {
          "output_type": "stream",
          "name": "stderr",
          "text": [
            "2it [00:00, 10.53it/s]\n"
          ]
        },
        {
          "output_type": "stream",
          "name": "stdout",
          "text": [
            "Epoch:245 Val Dise:  0.6656495928764343\n",
            "Epoch 247 of 400\n",
            "Training\n"
          ]
        },
        {
          "output_type": "stream",
          "name": "stderr",
          "text": [
            "8it [00:03,  2.31it/s]\n"
          ]
        },
        {
          "output_type": "stream",
          "name": "stdout",
          "text": [
            "Epoch loss:  5.289137214422226\n",
            "Dise:  0.673850417137146\n",
            "----------Validation----------\n"
          ]
        },
        {
          "output_type": "stream",
          "name": "stderr",
          "text": [
            "2it [00:00, 10.54it/s]\n"
          ]
        },
        {
          "output_type": "stream",
          "name": "stdout",
          "text": [
            "Epoch:246 Val Dise:  0.62847039103508\n",
            "Epoch 248 of 400\n",
            "Training\n"
          ]
        },
        {
          "output_type": "stream",
          "name": "stderr",
          "text": [
            "8it [00:03,  2.34it/s]\n"
          ]
        },
        {
          "output_type": "stream",
          "name": "stdout",
          "text": [
            "Epoch loss:  5.0629066824913025\n",
            "Dise:  0.6908882632851601\n",
            "----------Validation----------\n"
          ]
        },
        {
          "output_type": "stream",
          "name": "stderr",
          "text": [
            "2it [00:00,  9.95it/s]\n"
          ]
        },
        {
          "output_type": "stream",
          "name": "stdout",
          "text": [
            "Epoch:247 Val Dise:  0.6320764720439911\n",
            "Epoch 249 of 400\n",
            "Training\n"
          ]
        },
        {
          "output_type": "stream",
          "name": "stderr",
          "text": [
            "8it [00:03,  2.34it/s]\n"
          ]
        },
        {
          "output_type": "stream",
          "name": "stdout",
          "text": [
            "Epoch loss:  5.588221311569214\n",
            "Dise:  0.6260482370853424\n",
            "----------Validation----------\n"
          ]
        },
        {
          "output_type": "stream",
          "name": "stderr",
          "text": [
            "2it [00:00, 10.56it/s]\n"
          ]
        },
        {
          "output_type": "stream",
          "name": "stdout",
          "text": [
            "Epoch:248 Val Dise:  0.6041855812072754\n",
            "Epoch 250 of 400\n",
            "Training\n"
          ]
        },
        {
          "output_type": "stream",
          "name": "stderr",
          "text": [
            "8it [00:03,  2.34it/s]\n"
          ]
        },
        {
          "output_type": "stream",
          "name": "stdout",
          "text": [
            "Epoch loss:  5.428903818130493\n",
            "Dise:  0.6492252424359322\n",
            "----------Validation----------\n"
          ]
        },
        {
          "output_type": "stream",
          "name": "stderr",
          "text": [
            "2it [00:00, 10.59it/s]\n"
          ]
        },
        {
          "output_type": "stream",
          "name": "stdout",
          "text": [
            "Epoch:249 Val Dise:  0.5931327939033508\n",
            "Epoch 251 of 400\n",
            "Training\n"
          ]
        },
        {
          "output_type": "stream",
          "name": "stderr",
          "text": [
            "8it [00:03,  2.32it/s]\n"
          ]
        },
        {
          "output_type": "stream",
          "name": "stdout",
          "text": [
            "Epoch loss:  5.179720997810364\n",
            "Dise:  0.6744906604290009\n",
            "----------Validation----------\n"
          ]
        },
        {
          "output_type": "stream",
          "name": "stderr",
          "text": [
            "2it [00:00, 11.20it/s]\n"
          ]
        },
        {
          "output_type": "stream",
          "name": "stdout",
          "text": [
            "Epoch:250 Val Dise:  0.629334956407547\n",
            "Epoch 252 of 400\n",
            "Training\n"
          ]
        },
        {
          "output_type": "stream",
          "name": "stderr",
          "text": [
            "8it [00:03,  2.39it/s]\n"
          ]
        },
        {
          "output_type": "stream",
          "name": "stdout",
          "text": [
            "Epoch loss:  5.541641712188721\n",
            "Dise:  0.640238843858242\n",
            "----------Validation----------\n"
          ]
        },
        {
          "output_type": "stream",
          "name": "stderr",
          "text": [
            "2it [00:00, 10.41it/s]\n"
          ]
        },
        {
          "output_type": "stream",
          "name": "stdout",
          "text": [
            "Epoch:251 Val Dise:  0.6668920814990997\n",
            "Epoch 253 of 400\n",
            "Training\n"
          ]
        },
        {
          "output_type": "stream",
          "name": "stderr",
          "text": [
            "8it [00:03,  2.38it/s]\n"
          ]
        },
        {
          "output_type": "stream",
          "name": "stdout",
          "text": [
            "Epoch loss:  5.478277266025543\n",
            "Dise:  0.6594584584236145\n",
            "----------Validation----------\n"
          ]
        },
        {
          "output_type": "stream",
          "name": "stderr",
          "text": [
            "2it [00:00, 10.87it/s]\n"
          ]
        },
        {
          "output_type": "stream",
          "name": "stdout",
          "text": [
            "Epoch:252 Val Dise:  0.6639101207256317\n",
            "Epoch 254 of 400\n",
            "Training\n"
          ]
        },
        {
          "output_type": "stream",
          "name": "stderr",
          "text": [
            "8it [00:03,  2.26it/s]\n"
          ]
        },
        {
          "output_type": "stream",
          "name": "stdout",
          "text": [
            "Epoch loss:  4.973525047302246\n",
            "Dise:  0.6961667016148567\n",
            "----------Validation----------\n"
          ]
        },
        {
          "output_type": "stream",
          "name": "stderr",
          "text": [
            "2it [00:00, 10.58it/s]\n"
          ]
        },
        {
          "output_type": "stream",
          "name": "stdout",
          "text": [
            "Epoch:253 Val Dise:  0.6264463365077972\n",
            "Epoch 255 of 400\n",
            "Training\n"
          ]
        },
        {
          "output_type": "stream",
          "name": "stderr",
          "text": [
            "8it [00:03,  2.32it/s]\n"
          ]
        },
        {
          "output_type": "stream",
          "name": "stdout",
          "text": [
            "Epoch loss:  5.297171980142593\n",
            "Dise:  0.6756370887160301\n",
            "----------Validation----------\n"
          ]
        },
        {
          "output_type": "stream",
          "name": "stderr",
          "text": [
            "2it [00:00, 10.86it/s]\n"
          ]
        },
        {
          "output_type": "stream",
          "name": "stdout",
          "text": [
            "Epoch:254 Val Dise:  0.6550843417644501\n",
            "Epoch 256 of 400\n",
            "Training\n"
          ]
        },
        {
          "output_type": "stream",
          "name": "stderr",
          "text": [
            "8it [00:03,  2.25it/s]\n"
          ]
        },
        {
          "output_type": "stream",
          "name": "stdout",
          "text": [
            "Epoch loss:  4.8484392166137695\n",
            "Dise:  0.6978698074817657\n",
            "----------Validation----------\n"
          ]
        },
        {
          "output_type": "stream",
          "name": "stderr",
          "text": [
            "2it [00:00, 10.68it/s]\n"
          ]
        },
        {
          "output_type": "stream",
          "name": "stdout",
          "text": [
            "Epoch:255 Val Dise:  0.625000923871994\n",
            "Epoch 257 of 400\n",
            "Training\n"
          ]
        },
        {
          "output_type": "stream",
          "name": "stderr",
          "text": [
            "8it [00:03,  2.38it/s]\n"
          ]
        },
        {
          "output_type": "stream",
          "name": "stdout",
          "text": [
            "Epoch loss:  5.202389895915985\n",
            "Dise:  0.6793333292007446\n",
            "----------Validation----------\n"
          ]
        },
        {
          "output_type": "stream",
          "name": "stderr",
          "text": [
            "2it [00:00, 10.79it/s]\n"
          ]
        },
        {
          "output_type": "stream",
          "name": "stdout",
          "text": [
            "Epoch:256 Val Dise:  0.6749813258647919\n",
            "Epoch 258 of 400\n",
            "Training\n"
          ]
        },
        {
          "output_type": "stream",
          "name": "stderr",
          "text": [
            "8it [00:03,  2.22it/s]\n"
          ]
        },
        {
          "output_type": "stream",
          "name": "stdout",
          "text": [
            "Epoch loss:  5.20389199256897\n",
            "Dise:  0.6604909375309944\n",
            "----------Validation----------\n"
          ]
        },
        {
          "output_type": "stream",
          "name": "stderr",
          "text": [
            "2it [00:00, 10.71it/s]\n"
          ]
        },
        {
          "output_type": "stream",
          "name": "stdout",
          "text": [
            "Epoch:257 Val Dise:  0.6204847991466522\n",
            "Epoch 259 of 400\n",
            "Training\n"
          ]
        },
        {
          "output_type": "stream",
          "name": "stderr",
          "text": [
            "8it [00:03,  2.30it/s]\n"
          ]
        },
        {
          "output_type": "stream",
          "name": "stdout",
          "text": [
            "Epoch loss:  5.306838303804398\n",
            "Dise:  0.6605706736445427\n",
            "----------Validation----------\n"
          ]
        },
        {
          "output_type": "stream",
          "name": "stderr",
          "text": [
            "2it [00:00, 11.49it/s]\n"
          ]
        },
        {
          "output_type": "stream",
          "name": "stdout",
          "text": [
            "Epoch:258 Val Dise:  0.6219463348388672\n",
            "Epoch 260 of 400\n",
            "Training\n"
          ]
        },
        {
          "output_type": "stream",
          "name": "stderr",
          "text": [
            "8it [00:03,  2.33it/s]\n"
          ]
        },
        {
          "output_type": "stream",
          "name": "stdout",
          "text": [
            "Epoch loss:  5.097900956869125\n",
            "Dise:  0.6771727129817009\n",
            "----------Validation----------\n"
          ]
        },
        {
          "output_type": "stream",
          "name": "stderr",
          "text": [
            "2it [00:00, 10.26it/s]\n"
          ]
        },
        {
          "output_type": "stream",
          "name": "stdout",
          "text": [
            "Epoch:259 Val Dise:  0.6490476727485657\n",
            "Epoch 261 of 400\n",
            "Training\n"
          ]
        },
        {
          "output_type": "stream",
          "name": "stderr",
          "text": [
            "8it [00:03,  2.26it/s]\n"
          ]
        },
        {
          "output_type": "stream",
          "name": "stdout",
          "text": [
            "Epoch loss:  5.1030508279800415\n",
            "Dise:  0.683351069688797\n",
            "----------Validation----------\n"
          ]
        },
        {
          "output_type": "stream",
          "name": "stderr",
          "text": [
            "2it [00:00, 10.62it/s]"
          ]
        },
        {
          "output_type": "stream",
          "name": "stdout",
          "text": [
            "Epoch:260 Val Dise:  0.6379808783531189\n",
            "Epoch 262 of 400\n",
            "Training\n"
          ]
        },
        {
          "output_type": "stream",
          "name": "stderr",
          "text": [
            "\n",
            "8it [00:03,  2.22it/s]\n"
          ]
        },
        {
          "output_type": "stream",
          "name": "stdout",
          "text": [
            "Epoch loss:  5.49835342168808\n",
            "Dise:  0.6356230713427067\n",
            "----------Validation----------\n"
          ]
        },
        {
          "output_type": "stream",
          "name": "stderr",
          "text": [
            "2it [00:00, 10.86it/s]\n"
          ]
        },
        {
          "output_type": "stream",
          "name": "stdout",
          "text": [
            "Epoch:261 Val Dise:  0.6458055377006531\n",
            "Epoch 263 of 400\n",
            "Training\n"
          ]
        },
        {
          "output_type": "stream",
          "name": "stderr",
          "text": [
            "8it [00:03,  2.29it/s]\n"
          ]
        },
        {
          "output_type": "stream",
          "name": "stdout",
          "text": [
            "Epoch loss:  5.611476808786392\n",
            "Dise:  0.64999158680439\n",
            "----------Validation----------\n"
          ]
        },
        {
          "output_type": "stream",
          "name": "stderr",
          "text": [
            "2it [00:00, 11.26it/s]\n"
          ]
        },
        {
          "output_type": "stream",
          "name": "stdout",
          "text": [
            "Epoch:262 Val Dise:  0.6179593205451965\n",
            "Epoch 264 of 400\n",
            "Training\n"
          ]
        },
        {
          "output_type": "stream",
          "name": "stderr",
          "text": [
            "8it [00:03,  2.20it/s]\n"
          ]
        },
        {
          "output_type": "stream",
          "name": "stdout",
          "text": [
            "Epoch loss:  5.084235906600952\n",
            "Dise:  0.6813017949461937\n",
            "----------Validation----------\n"
          ]
        },
        {
          "output_type": "stream",
          "name": "stderr",
          "text": [
            "2it [00:00, 11.35it/s]\n"
          ]
        },
        {
          "output_type": "stream",
          "name": "stdout",
          "text": [
            "Epoch:263 Val Dise:  0.5911648869514465\n",
            "Epoch 265 of 400\n",
            "Training\n"
          ]
        },
        {
          "output_type": "stream",
          "name": "stderr",
          "text": [
            "8it [00:03,  2.25it/s]\n"
          ]
        },
        {
          "output_type": "stream",
          "name": "stdout",
          "text": [
            "Epoch loss:  5.238579452037811\n",
            "Dise:  0.6720269806683064\n",
            "----------Validation----------\n"
          ]
        },
        {
          "output_type": "stream",
          "name": "stderr",
          "text": [
            "2it [00:00, 10.81it/s]\n"
          ]
        },
        {
          "output_type": "stream",
          "name": "stdout",
          "text": [
            "Epoch:264 Val Dise:  0.6084905862808228\n",
            "Epoch 266 of 400\n",
            "Training\n"
          ]
        },
        {
          "output_type": "stream",
          "name": "stderr",
          "text": [
            "8it [00:03,  2.22it/s]\n"
          ]
        },
        {
          "output_type": "stream",
          "name": "stdout",
          "text": [
            "Epoch loss:  4.949163973331451\n",
            "Dise:  0.6927550733089447\n",
            "----------Validation----------\n"
          ]
        },
        {
          "output_type": "stream",
          "name": "stderr",
          "text": [
            "2it [00:00, 10.71it/s]\n"
          ]
        },
        {
          "output_type": "stream",
          "name": "stdout",
          "text": [
            "Epoch:265 Val Dise:  0.6223726272583008\n",
            "Epoch 267 of 400\n",
            "Training\n"
          ]
        },
        {
          "output_type": "stream",
          "name": "stderr",
          "text": [
            "8it [00:03,  2.38it/s]\n"
          ]
        },
        {
          "output_type": "stream",
          "name": "stdout",
          "text": [
            "Epoch loss:  4.915697932243347\n",
            "Dise:  0.7027752995491028\n",
            "----------Validation----------\n"
          ]
        },
        {
          "output_type": "stream",
          "name": "stderr",
          "text": [
            "2it [00:00, 10.68it/s]\n"
          ]
        },
        {
          "output_type": "stream",
          "name": "stdout",
          "text": [
            "Epoch:266 Val Dise:  0.6266407370567322\n",
            "Epoch 268 of 400\n",
            "Training\n"
          ]
        },
        {
          "output_type": "stream",
          "name": "stderr",
          "text": [
            "8it [00:03,  2.34it/s]\n"
          ]
        },
        {
          "output_type": "stream",
          "name": "stdout",
          "text": [
            "Epoch loss:  4.8958030343055725\n",
            "Dise:  0.6928633004426956\n",
            "----------Validation----------\n"
          ]
        },
        {
          "output_type": "stream",
          "name": "stderr",
          "text": [
            "2it [00:00, 10.79it/s]\n"
          ]
        },
        {
          "output_type": "stream",
          "name": "stdout",
          "text": [
            "Epoch:267 Val Dise:  0.6592977941036224\n",
            "Epoch 269 of 400\n",
            "Training\n"
          ]
        },
        {
          "output_type": "stream",
          "name": "stderr",
          "text": [
            "8it [00:03,  2.29it/s]\n"
          ]
        },
        {
          "output_type": "stream",
          "name": "stdout",
          "text": [
            "Epoch loss:  4.983660340309143\n",
            "Dise:  0.6885462999343872\n",
            "----------Validation----------\n"
          ]
        },
        {
          "output_type": "stream",
          "name": "stderr",
          "text": [
            "2it [00:00, 11.34it/s]\n"
          ]
        },
        {
          "output_type": "stream",
          "name": "stdout",
          "text": [
            "Epoch:268 Val Dise:  0.6415504813194275\n",
            "Epoch 270 of 400\n",
            "Training\n"
          ]
        },
        {
          "output_type": "stream",
          "name": "stderr",
          "text": [
            "8it [00:03,  2.20it/s]\n"
          ]
        },
        {
          "output_type": "stream",
          "name": "stdout",
          "text": [
            "Epoch loss:  5.1004190146923065\n",
            "Dise:  0.6845450103282928\n",
            "----------Validation----------\n"
          ]
        },
        {
          "output_type": "stream",
          "name": "stderr",
          "text": [
            "2it [00:00, 10.70it/s]\n"
          ]
        },
        {
          "output_type": "stream",
          "name": "stdout",
          "text": [
            "Epoch:269 Val Dise:  0.6242597997188568\n",
            "Epoch 271 of 400\n",
            "Training\n"
          ]
        },
        {
          "output_type": "stream",
          "name": "stderr",
          "text": [
            "8it [00:03,  2.40it/s]\n"
          ]
        },
        {
          "output_type": "stream",
          "name": "stdout",
          "text": [
            "Epoch loss:  5.032826274633408\n",
            "Dise:  0.696737639605999\n",
            "----------Validation----------\n"
          ]
        },
        {
          "output_type": "stream",
          "name": "stderr",
          "text": [
            "2it [00:00, 11.14it/s]\n"
          ]
        },
        {
          "output_type": "stream",
          "name": "stdout",
          "text": [
            "Epoch:270 Val Dise:  0.5956660807132721\n",
            "Epoch 272 of 400\n",
            "Training\n"
          ]
        },
        {
          "output_type": "stream",
          "name": "stderr",
          "text": [
            "8it [00:03,  2.28it/s]\n"
          ]
        },
        {
          "output_type": "stream",
          "name": "stdout",
          "text": [
            "Epoch loss:  5.000175595283508\n",
            "Dise:  0.7100522890686989\n",
            "----------Validation----------\n"
          ]
        },
        {
          "output_type": "stream",
          "name": "stderr",
          "text": [
            "2it [00:00, 11.32it/s]\n"
          ]
        },
        {
          "output_type": "stream",
          "name": "stdout",
          "text": [
            "Epoch:271 Val Dise:  0.63185915350914\n",
            "Epoch 273 of 400\n",
            "Training\n"
          ]
        },
        {
          "output_type": "stream",
          "name": "stderr",
          "text": [
            "8it [00:03,  2.24it/s]\n"
          ]
        },
        {
          "output_type": "stream",
          "name": "stdout",
          "text": [
            "Epoch loss:  5.215408027172089\n",
            "Dise:  0.6692141890525818\n",
            "----------Validation----------\n"
          ]
        },
        {
          "output_type": "stream",
          "name": "stderr",
          "text": [
            "2it [00:00, 11.02it/s]\n"
          ]
        },
        {
          "output_type": "stream",
          "name": "stdout",
          "text": [
            "Epoch:272 Val Dise:  0.672761470079422\n",
            "Epoch 274 of 400\n",
            "Training\n"
          ]
        },
        {
          "output_type": "stream",
          "name": "stderr",
          "text": [
            "8it [00:03,  2.17it/s]\n"
          ]
        },
        {
          "output_type": "stream",
          "name": "stdout",
          "text": [
            "Epoch loss:  4.987409472465515\n",
            "Dise:  0.6955341622233391\n",
            "----------Validation----------\n"
          ]
        },
        {
          "output_type": "stream",
          "name": "stderr",
          "text": [
            "2it [00:00, 10.69it/s]\n"
          ]
        },
        {
          "output_type": "stream",
          "name": "stdout",
          "text": [
            "Epoch:273 Val Dise:  0.6602121293544769\n",
            "Epoch 275 of 400\n",
            "Training\n"
          ]
        },
        {
          "output_type": "stream",
          "name": "stderr",
          "text": [
            "8it [00:03,  2.26it/s]\n"
          ]
        },
        {
          "output_type": "stream",
          "name": "stdout",
          "text": [
            "Epoch loss:  5.501324236392975\n",
            "Dise:  0.6576023288071156\n",
            "----------Validation----------\n"
          ]
        },
        {
          "output_type": "stream",
          "name": "stderr",
          "text": [
            "2it [00:00, 10.90it/s]\n"
          ]
        },
        {
          "output_type": "stream",
          "name": "stdout",
          "text": [
            "Epoch:274 Val Dise:  0.649277001619339\n",
            "Epoch 276 of 400\n",
            "Training\n"
          ]
        },
        {
          "output_type": "stream",
          "name": "stderr",
          "text": [
            "8it [00:03,  2.37it/s]\n"
          ]
        },
        {
          "output_type": "stream",
          "name": "stdout",
          "text": [
            "Epoch loss:  5.188096046447754\n",
            "Dise:  0.696505956351757\n",
            "----------Validation----------\n"
          ]
        },
        {
          "output_type": "stream",
          "name": "stderr",
          "text": [
            "2it [00:00, 11.25it/s]\n"
          ]
        },
        {
          "output_type": "stream",
          "name": "stdout",
          "text": [
            "Epoch:275 Val Dise:  0.6421756446361542\n",
            "Epoch 277 of 400\n",
            "Training\n"
          ]
        },
        {
          "output_type": "stream",
          "name": "stderr",
          "text": [
            "8it [00:03,  2.27it/s]\n"
          ]
        },
        {
          "output_type": "stream",
          "name": "stdout",
          "text": [
            "Epoch loss:  5.452128529548645\n",
            "Dise:  0.6550616845488548\n",
            "----------Validation----------\n"
          ]
        },
        {
          "output_type": "stream",
          "name": "stderr",
          "text": [
            "2it [00:00, 11.22it/s]\n"
          ]
        },
        {
          "output_type": "stream",
          "name": "stdout",
          "text": [
            "Epoch:276 Val Dise:  0.622862696647644\n",
            "Epoch 278 of 400\n",
            "Training\n"
          ]
        },
        {
          "output_type": "stream",
          "name": "stderr",
          "text": [
            "8it [00:03,  2.21it/s]\n"
          ]
        },
        {
          "output_type": "stream",
          "name": "stdout",
          "text": [
            "Epoch loss:  5.263558328151703\n",
            "Dise:  0.6761698946356773\n",
            "----------Validation----------\n"
          ]
        },
        {
          "output_type": "stream",
          "name": "stderr",
          "text": [
            "2it [00:00, 11.00it/s]\n"
          ]
        },
        {
          "output_type": "stream",
          "name": "stdout",
          "text": [
            "Epoch:277 Val Dise:  0.630296379327774\n",
            "Epoch 279 of 400\n",
            "Training\n"
          ]
        },
        {
          "output_type": "stream",
          "name": "stderr",
          "text": [
            "8it [00:03,  2.21it/s]\n"
          ]
        },
        {
          "output_type": "stream",
          "name": "stdout",
          "text": [
            "Epoch loss:  4.672915488481522\n",
            "Dise:  0.7041763290762901\n",
            "----------Validation----------\n"
          ]
        },
        {
          "output_type": "stream",
          "name": "stderr",
          "text": [
            "2it [00:00, 10.70it/s]\n"
          ]
        },
        {
          "output_type": "stream",
          "name": "stdout",
          "text": [
            "Epoch:278 Val Dise:  0.6356676518917084\n",
            "Epoch 280 of 400\n",
            "Training\n"
          ]
        },
        {
          "output_type": "stream",
          "name": "stderr",
          "text": [
            "8it [00:03,  2.32it/s]\n"
          ]
        },
        {
          "output_type": "stream",
          "name": "stdout",
          "text": [
            "Epoch loss:  5.008037984371185\n",
            "Dise:  0.7019248008728027\n",
            "----------Validation----------\n"
          ]
        },
        {
          "output_type": "stream",
          "name": "stderr",
          "text": [
            "2it [00:00, 10.94it/s]\n"
          ]
        },
        {
          "output_type": "stream",
          "name": "stdout",
          "text": [
            "Epoch:279 Val Dise:  0.6310181021690369\n",
            "Epoch 281 of 400\n",
            "Training\n"
          ]
        },
        {
          "output_type": "stream",
          "name": "stderr",
          "text": [
            "8it [00:03,  2.21it/s]\n"
          ]
        },
        {
          "output_type": "stream",
          "name": "stdout",
          "text": [
            "Epoch loss:  4.947313010692596\n",
            "Dise:  0.6997894048690796\n",
            "----------Validation----------\n"
          ]
        },
        {
          "output_type": "stream",
          "name": "stderr",
          "text": [
            "2it [00:00, 11.29it/s]\n"
          ]
        },
        {
          "output_type": "stream",
          "name": "stdout",
          "text": [
            "Epoch:280 Val Dise:  0.5925410389900208\n",
            "Epoch 282 of 400\n",
            "Training\n"
          ]
        },
        {
          "output_type": "stream",
          "name": "stderr",
          "text": [
            "8it [00:03,  2.30it/s]\n"
          ]
        },
        {
          "output_type": "stream",
          "name": "stdout",
          "text": [
            "Epoch loss:  4.988767325878143\n",
            "Dise:  0.6862829327583313\n",
            "----------Validation----------\n"
          ]
        },
        {
          "output_type": "stream",
          "name": "stderr",
          "text": [
            "2it [00:00, 10.67it/s]\n"
          ]
        },
        {
          "output_type": "stream",
          "name": "stdout",
          "text": [
            "Epoch:281 Val Dise:  0.6120649874210358\n",
            "Epoch 283 of 400\n",
            "Training\n"
          ]
        },
        {
          "output_type": "stream",
          "name": "stderr",
          "text": [
            "8it [00:03,  2.34it/s]\n"
          ]
        },
        {
          "output_type": "stream",
          "name": "stdout",
          "text": [
            "Epoch loss:  4.686609625816345\n",
            "Dise:  0.7118799611926079\n",
            "----------Validation----------\n"
          ]
        },
        {
          "output_type": "stream",
          "name": "stderr",
          "text": [
            "2it [00:00, 10.88it/s]\n"
          ]
        },
        {
          "output_type": "stream",
          "name": "stdout",
          "text": [
            "Epoch:282 Val Dise:  0.642035186290741\n",
            "Epoch 284 of 400\n",
            "Training\n"
          ]
        },
        {
          "output_type": "stream",
          "name": "stderr",
          "text": [
            "8it [00:03,  2.39it/s]\n"
          ]
        },
        {
          "output_type": "stream",
          "name": "stdout",
          "text": [
            "Epoch loss:  5.170231580734253\n",
            "Dise:  0.6888094581663609\n",
            "----------Validation----------\n"
          ]
        },
        {
          "output_type": "stream",
          "name": "stderr",
          "text": [
            "2it [00:00, 10.54it/s]\n"
          ]
        },
        {
          "output_type": "stream",
          "name": "stdout",
          "text": [
            "Epoch:283 Val Dise:  0.6316343545913696\n",
            "Epoch 285 of 400\n",
            "Training\n"
          ]
        },
        {
          "output_type": "stream",
          "name": "stderr",
          "text": [
            "8it [00:03,  2.26it/s]\n"
          ]
        },
        {
          "output_type": "stream",
          "name": "stdout",
          "text": [
            "Epoch loss:  5.051184296607971\n",
            "Dise:  0.7078305929899216\n",
            "----------Validation----------\n"
          ]
        },
        {
          "output_type": "stream",
          "name": "stderr",
          "text": [
            "2it [00:00, 10.91it/s]\n"
          ]
        },
        {
          "output_type": "stream",
          "name": "stdout",
          "text": [
            "Epoch:284 Val Dise:  0.6523165106773376\n",
            "Epoch 286 of 400\n",
            "Training\n"
          ]
        },
        {
          "output_type": "stream",
          "name": "stderr",
          "text": [
            "8it [00:03,  2.26it/s]\n"
          ]
        },
        {
          "output_type": "stream",
          "name": "stdout",
          "text": [
            "Epoch loss:  5.085197389125824\n",
            "Dise:  0.6799259334802628\n",
            "----------Validation----------\n"
          ]
        },
        {
          "output_type": "stream",
          "name": "stderr",
          "text": [
            "2it [00:00, 10.89it/s]\n"
          ]
        },
        {
          "output_type": "stream",
          "name": "stdout",
          "text": [
            "Epoch:285 Val Dise:  0.6297006905078888\n",
            "Epoch 287 of 400\n",
            "Training\n"
          ]
        },
        {
          "output_type": "stream",
          "name": "stderr",
          "text": [
            "8it [00:03,  2.30it/s]\n"
          ]
        },
        {
          "output_type": "stream",
          "name": "stdout",
          "text": [
            "Epoch loss:  4.6961899399757385\n",
            "Dise:  0.7247372418642044\n",
            "----------Validation----------\n"
          ]
        },
        {
          "output_type": "stream",
          "name": "stderr",
          "text": [
            "2it [00:00, 11.12it/s]\n"
          ]
        },
        {
          "output_type": "stream",
          "name": "stdout",
          "text": [
            "Epoch:286 Val Dise:  0.6435605585575104\n",
            "Epoch 288 of 400\n",
            "Training\n"
          ]
        },
        {
          "output_type": "stream",
          "name": "stderr",
          "text": [
            "8it [00:03,  2.29it/s]\n"
          ]
        },
        {
          "output_type": "stream",
          "name": "stdout",
          "text": [
            "Epoch loss:  5.338141143321991\n",
            "Dise:  0.6601768434047699\n",
            "----------Validation----------\n"
          ]
        },
        {
          "output_type": "stream",
          "name": "stderr",
          "text": [
            "2it [00:00, 10.84it/s]\n"
          ]
        },
        {
          "output_type": "stream",
          "name": "stdout",
          "text": [
            "Epoch:287 Val Dise:  0.6378211379051208\n",
            "Epoch 289 of 400\n",
            "Training\n"
          ]
        },
        {
          "output_type": "stream",
          "name": "stderr",
          "text": [
            "8it [00:03,  2.25it/s]\n"
          ]
        },
        {
          "output_type": "stream",
          "name": "stdout",
          "text": [
            "Epoch loss:  5.0904935002326965\n",
            "Dise:  0.6834298819303513\n",
            "----------Validation----------\n"
          ]
        },
        {
          "output_type": "stream",
          "name": "stderr",
          "text": [
            "2it [00:00, 10.62it/s]\n"
          ]
        },
        {
          "output_type": "stream",
          "name": "stdout",
          "text": [
            "Epoch:288 Val Dise:  0.6171804368495941\n",
            "Epoch 290 of 400\n",
            "Training\n"
          ]
        },
        {
          "output_type": "stream",
          "name": "stderr",
          "text": [
            "8it [00:03,  2.24it/s]\n"
          ]
        },
        {
          "output_type": "stream",
          "name": "stdout",
          "text": [
            "Epoch loss:  4.728669196367264\n",
            "Dise:  0.712618350982666\n",
            "----------Validation----------\n"
          ]
        },
        {
          "output_type": "stream",
          "name": "stderr",
          "text": [
            "2it [00:00,  9.98it/s]\n"
          ]
        },
        {
          "output_type": "stream",
          "name": "stdout",
          "text": [
            "Epoch:289 Val Dise:  0.6202120780944824\n",
            "Epoch 291 of 400\n",
            "Training\n"
          ]
        },
        {
          "output_type": "stream",
          "name": "stderr",
          "text": [
            "8it [00:03,  2.30it/s]\n"
          ]
        },
        {
          "output_type": "stream",
          "name": "stdout",
          "text": [
            "Epoch loss:  5.722221344709396\n",
            "Dise:  0.6523019410669804\n",
            "----------Validation----------\n"
          ]
        },
        {
          "output_type": "stream",
          "name": "stderr",
          "text": [
            "2it [00:00, 10.93it/s]\n"
          ]
        },
        {
          "output_type": "stream",
          "name": "stdout",
          "text": [
            "Epoch:290 Val Dise:  0.6590648293495178\n",
            "Epoch 292 of 400\n",
            "Training\n"
          ]
        },
        {
          "output_type": "stream",
          "name": "stderr",
          "text": [
            "8it [00:03,  2.31it/s]\n"
          ]
        },
        {
          "output_type": "stream",
          "name": "stdout",
          "text": [
            "Epoch loss:  5.332628548145294\n",
            "Dise:  0.6491408161818981\n",
            "----------Validation----------\n"
          ]
        },
        {
          "output_type": "stream",
          "name": "stderr",
          "text": [
            "2it [00:00, 11.29it/s]\n"
          ]
        },
        {
          "output_type": "stream",
          "name": "stdout",
          "text": [
            "Epoch:291 Val Dise:  0.6775510609149933\n",
            "Epoch 293 of 400\n",
            "Training\n"
          ]
        },
        {
          "output_type": "stream",
          "name": "stderr",
          "text": [
            "8it [00:03,  2.23it/s]\n"
          ]
        },
        {
          "output_type": "stream",
          "name": "stdout",
          "text": [
            "Epoch loss:  4.948428928852081\n",
            "Dise:  0.6913336515426636\n",
            "----------Validation----------\n"
          ]
        },
        {
          "output_type": "stream",
          "name": "stderr",
          "text": [
            "2it [00:00, 11.04it/s]\n"
          ]
        },
        {
          "output_type": "stream",
          "name": "stdout",
          "text": [
            "Epoch:292 Val Dise:  0.6776273548603058\n",
            "Epoch 294 of 400\n",
            "Training\n"
          ]
        },
        {
          "output_type": "stream",
          "name": "stderr",
          "text": [
            "8it [00:03,  2.40it/s]\n"
          ]
        },
        {
          "output_type": "stream",
          "name": "stdout",
          "text": [
            "Epoch loss:  4.818264961242676\n",
            "Dise:  0.7042057737708092\n",
            "----------Validation----------\n"
          ]
        },
        {
          "output_type": "stream",
          "name": "stderr",
          "text": [
            "2it [00:00, 10.78it/s]\n"
          ]
        },
        {
          "output_type": "stream",
          "name": "stdout",
          "text": [
            "Epoch:293 Val Dise:  0.6499533653259277\n",
            "Epoch 295 of 400\n",
            "Training\n"
          ]
        },
        {
          "output_type": "stream",
          "name": "stderr",
          "text": [
            "8it [00:03,  2.22it/s]\n"
          ]
        },
        {
          "output_type": "stream",
          "name": "stdout",
          "text": [
            "Epoch loss:  5.104617238044739\n",
            "Dise:  0.6816175244748592\n",
            "----------Validation----------\n"
          ]
        },
        {
          "output_type": "stream",
          "name": "stderr",
          "text": [
            "2it [00:00, 11.07it/s]\n"
          ]
        },
        {
          "output_type": "stream",
          "name": "stdout",
          "text": [
            "Epoch:294 Val Dise:  0.6665748953819275\n",
            "Epoch 296 of 400\n",
            "Training\n"
          ]
        },
        {
          "output_type": "stream",
          "name": "stderr",
          "text": [
            "8it [00:03,  2.30it/s]\n"
          ]
        },
        {
          "output_type": "stream",
          "name": "stdout",
          "text": [
            "Epoch loss:  5.07313072681427\n",
            "Dise:  0.6988935545086861\n",
            "----------Validation----------\n"
          ]
        },
        {
          "output_type": "stream",
          "name": "stderr",
          "text": [
            "2it [00:00, 11.33it/s]\n"
          ]
        },
        {
          "output_type": "stream",
          "name": "stdout",
          "text": [
            "Epoch:295 Val Dise:  0.6448304951190948\n",
            "Epoch 297 of 400\n",
            "Training\n"
          ]
        },
        {
          "output_type": "stream",
          "name": "stderr",
          "text": [
            "8it [00:03,  2.34it/s]\n"
          ]
        },
        {
          "output_type": "stream",
          "name": "stdout",
          "text": [
            "Epoch loss:  4.844993084669113\n",
            "Dise:  0.7019421681761742\n",
            "----------Validation----------\n"
          ]
        },
        {
          "output_type": "stream",
          "name": "stderr",
          "text": [
            "2it [00:00, 11.15it/s]\n"
          ]
        },
        {
          "output_type": "stream",
          "name": "stdout",
          "text": [
            "Epoch:296 Val Dise:  0.6372657120227814\n",
            "Epoch 298 of 400\n",
            "Training\n"
          ]
        },
        {
          "output_type": "stream",
          "name": "stderr",
          "text": [
            "8it [00:03,  2.35it/s]\n"
          ]
        },
        {
          "output_type": "stream",
          "name": "stdout",
          "text": [
            "Epoch loss:  5.886708378791809\n",
            "Dise:  0.6490781120955944\n",
            "----------Validation----------\n"
          ]
        },
        {
          "output_type": "stream",
          "name": "stderr",
          "text": [
            "2it [00:00, 10.32it/s]\n"
          ]
        },
        {
          "output_type": "stream",
          "name": "stdout",
          "text": [
            "Epoch:297 Val Dise:  0.6384580135345459\n",
            "Epoch 299 of 400\n",
            "Training\n"
          ]
        },
        {
          "output_type": "stream",
          "name": "stderr",
          "text": [
            "8it [00:03,  2.33it/s]\n"
          ]
        },
        {
          "output_type": "stream",
          "name": "stdout",
          "text": [
            "Epoch loss:  4.980823040008545\n",
            "Dise:  0.6927342116832733\n",
            "----------Validation----------\n"
          ]
        },
        {
          "output_type": "stream",
          "name": "stderr",
          "text": [
            "2it [00:00, 10.81it/s]\n"
          ]
        },
        {
          "output_type": "stream",
          "name": "stdout",
          "text": [
            "Epoch:298 Val Dise:  0.6334875524044037\n",
            "Epoch 300 of 400\n",
            "Training\n"
          ]
        },
        {
          "output_type": "stream",
          "name": "stderr",
          "text": [
            "8it [00:03,  2.29it/s]\n"
          ]
        },
        {
          "output_type": "stream",
          "name": "stdout",
          "text": [
            "Epoch loss:  4.91906201839447\n",
            "Dise:  0.7043140605092049\n",
            "----------Validation----------\n"
          ]
        },
        {
          "output_type": "stream",
          "name": "stderr",
          "text": [
            "2it [00:00, 11.09it/s]\n"
          ]
        },
        {
          "output_type": "stream",
          "name": "stdout",
          "text": [
            "Epoch:299 Val Dise:  0.610591858625412\n",
            "Epoch 301 of 400\n",
            "Training\n"
          ]
        },
        {
          "output_type": "stream",
          "name": "stderr",
          "text": [
            "8it [00:03,  2.33it/s]\n"
          ]
        },
        {
          "output_type": "stream",
          "name": "stdout",
          "text": [
            "Epoch loss:  4.95646196603775\n",
            "Dise:  0.6972456499934196\n",
            "----------Validation----------\n"
          ]
        },
        {
          "output_type": "stream",
          "name": "stderr",
          "text": [
            "2it [00:00, 11.09it/s]\n"
          ]
        },
        {
          "output_type": "stream",
          "name": "stdout",
          "text": [
            "Epoch:300 Val Dise:  0.6259013116359711\n",
            "Epoch 302 of 400\n",
            "Training\n"
          ]
        },
        {
          "output_type": "stream",
          "name": "stderr",
          "text": [
            "8it [00:03,  2.30it/s]\n"
          ]
        },
        {
          "output_type": "stream",
          "name": "stdout",
          "text": [
            "Epoch loss:  4.869119584560394\n",
            "Dise:  0.7110287845134735\n",
            "----------Validation----------\n"
          ]
        },
        {
          "output_type": "stream",
          "name": "stderr",
          "text": [
            "2it [00:00, 11.11it/s]\n"
          ]
        },
        {
          "output_type": "stream",
          "name": "stdout",
          "text": [
            "Epoch:301 Val Dise:  0.624990850687027\n",
            "Epoch 303 of 400\n",
            "Training\n"
          ]
        },
        {
          "output_type": "stream",
          "name": "stderr",
          "text": [
            "8it [00:03,  2.27it/s]\n"
          ]
        },
        {
          "output_type": "stream",
          "name": "stdout",
          "text": [
            "Epoch loss:  5.600260078907013\n",
            "Dise:  0.6614183932542801\n",
            "----------Validation----------\n"
          ]
        },
        {
          "output_type": "stream",
          "name": "stderr",
          "text": [
            "2it [00:00, 10.93it/s]\n"
          ]
        },
        {
          "output_type": "stream",
          "name": "stdout",
          "text": [
            "Epoch:302 Val Dise:  0.6115544438362122\n",
            "Epoch 304 of 400\n",
            "Training\n"
          ]
        },
        {
          "output_type": "stream",
          "name": "stderr",
          "text": [
            "8it [00:03,  2.24it/s]\n"
          ]
        },
        {
          "output_type": "stream",
          "name": "stdout",
          "text": [
            "Epoch loss:  5.012433648109436\n",
            "Dise:  0.702758252620697\n",
            "----------Validation----------\n"
          ]
        },
        {
          "output_type": "stream",
          "name": "stderr",
          "text": [
            "2it [00:00, 10.30it/s]\n"
          ]
        },
        {
          "output_type": "stream",
          "name": "stdout",
          "text": [
            "Epoch:303 Val Dise:  0.6202029287815094\n",
            "Epoch 305 of 400\n",
            "Training\n"
          ]
        },
        {
          "output_type": "stream",
          "name": "stderr",
          "text": [
            "8it [00:03,  2.29it/s]\n"
          ]
        },
        {
          "output_type": "stream",
          "name": "stdout",
          "text": [
            "Epoch loss:  5.320262432098389\n",
            "Dise:  0.6663031950592995\n",
            "----------Validation----------\n"
          ]
        },
        {
          "output_type": "stream",
          "name": "stderr",
          "text": [
            "2it [00:00, 11.08it/s]\n"
          ]
        },
        {
          "output_type": "stream",
          "name": "stdout",
          "text": [
            "Epoch:304 Val Dise:  0.6420780420303345\n",
            "Epoch 306 of 400\n",
            "Training\n"
          ]
        },
        {
          "output_type": "stream",
          "name": "stderr",
          "text": [
            "8it [00:03,  2.27it/s]\n"
          ]
        },
        {
          "output_type": "stream",
          "name": "stdout",
          "text": [
            "Epoch loss:  5.301066219806671\n",
            "Dise:  0.6754453778266907\n",
            "----------Validation----------\n"
          ]
        },
        {
          "output_type": "stream",
          "name": "stderr",
          "text": [
            "2it [00:00, 10.45it/s]\n"
          ]
        },
        {
          "output_type": "stream",
          "name": "stdout",
          "text": [
            "Epoch:305 Val Dise:  0.6270429491996765\n",
            "Epoch 307 of 400\n",
            "Training\n"
          ]
        },
        {
          "output_type": "stream",
          "name": "stderr",
          "text": [
            "8it [00:03,  2.31it/s]\n"
          ]
        },
        {
          "output_type": "stream",
          "name": "stdout",
          "text": [
            "Epoch loss:  4.996876418590546\n",
            "Dise:  0.6942130625247955\n",
            "----------Validation----------\n"
          ]
        },
        {
          "output_type": "stream",
          "name": "stderr",
          "text": [
            "2it [00:00, 11.17it/s]\n"
          ]
        },
        {
          "output_type": "stream",
          "name": "stdout",
          "text": [
            "Epoch:306 Val Dise:  0.6293098330497742\n",
            "Epoch 308 of 400\n",
            "Training\n"
          ]
        },
        {
          "output_type": "stream",
          "name": "stderr",
          "text": [
            "8it [00:03,  2.20it/s]\n"
          ]
        },
        {
          "output_type": "stream",
          "name": "stdout",
          "text": [
            "Epoch loss:  5.091338604688644\n",
            "Dise:  0.6875595599412918\n",
            "----------Validation----------\n"
          ]
        },
        {
          "output_type": "stream",
          "name": "stderr",
          "text": [
            "2it [00:00, 10.79it/s]\n"
          ]
        },
        {
          "output_type": "stream",
          "name": "stdout",
          "text": [
            "Epoch:307 Val Dise:  0.5990918576717377\n",
            "Epoch 309 of 400\n",
            "Training\n"
          ]
        },
        {
          "output_type": "stream",
          "name": "stderr",
          "text": [
            "8it [00:03,  2.28it/s]\n"
          ]
        },
        {
          "output_type": "stream",
          "name": "stdout",
          "text": [
            "Epoch loss:  4.824974596500397\n",
            "Dise:  0.7030356526374817\n",
            "----------Validation----------\n"
          ]
        },
        {
          "output_type": "stream",
          "name": "stderr",
          "text": [
            "2it [00:00, 11.15it/s]\n"
          ]
        },
        {
          "output_type": "stream",
          "name": "stdout",
          "text": [
            "Epoch:308 Val Dise:  0.6122743487358093\n",
            "Epoch 310 of 400\n",
            "Training\n"
          ]
        },
        {
          "output_type": "stream",
          "name": "stderr",
          "text": [
            "8it [00:03,  2.31it/s]\n"
          ]
        },
        {
          "output_type": "stream",
          "name": "stdout",
          "text": [
            "Epoch loss:  4.910725861787796\n",
            "Dise:  0.696039691567421\n",
            "----------Validation----------\n"
          ]
        },
        {
          "output_type": "stream",
          "name": "stderr",
          "text": [
            "2it [00:00, 11.06it/s]\n"
          ]
        },
        {
          "output_type": "stream",
          "name": "stdout",
          "text": [
            "Epoch:309 Val Dise:  0.6192209720611572\n",
            "Epoch 311 of 400\n",
            "Training\n"
          ]
        },
        {
          "output_type": "stream",
          "name": "stderr",
          "text": [
            "8it [00:03,  2.31it/s]\n"
          ]
        },
        {
          "output_type": "stream",
          "name": "stdout",
          "text": [
            "Epoch loss:  5.013255149126053\n",
            "Dise:  0.6907136663794518\n",
            "----------Validation----------\n"
          ]
        },
        {
          "output_type": "stream",
          "name": "stderr",
          "text": [
            "2it [00:00, 11.30it/s]\n"
          ]
        },
        {
          "output_type": "stream",
          "name": "stdout",
          "text": [
            "Epoch:310 Val Dise:  0.6323243379592896\n",
            "Epoch 312 of 400\n",
            "Training\n"
          ]
        },
        {
          "output_type": "stream",
          "name": "stderr",
          "text": [
            "8it [00:03,  2.37it/s]\n"
          ]
        },
        {
          "output_type": "stream",
          "name": "stdout",
          "text": [
            "Epoch loss:  4.79591029882431\n",
            "Dise:  0.7129422575235367\n",
            "----------Validation----------\n"
          ]
        },
        {
          "output_type": "stream",
          "name": "stderr",
          "text": [
            "2it [00:00, 11.25it/s]\n"
          ]
        },
        {
          "output_type": "stream",
          "name": "stdout",
          "text": [
            "Epoch:311 Val Dise:  0.6384993493556976\n",
            "Epoch 313 of 400\n",
            "Training\n"
          ]
        },
        {
          "output_type": "stream",
          "name": "stderr",
          "text": [
            "8it [00:03,  2.33it/s]\n"
          ]
        },
        {
          "output_type": "stream",
          "name": "stdout",
          "text": [
            "Epoch loss:  4.904499411582947\n",
            "Dise:  0.7057502269744873\n",
            "----------Validation----------\n"
          ]
        },
        {
          "output_type": "stream",
          "name": "stderr",
          "text": [
            "2it [00:00, 10.08it/s]\n"
          ]
        },
        {
          "output_type": "stream",
          "name": "stdout",
          "text": [
            "Epoch:312 Val Dise:  0.6201634705066681\n",
            "Epoch 314 of 400\n",
            "Training\n"
          ]
        },
        {
          "output_type": "stream",
          "name": "stderr",
          "text": [
            "8it [00:03,  2.22it/s]\n"
          ]
        },
        {
          "output_type": "stream",
          "name": "stdout",
          "text": [
            "Epoch loss:  4.986554443836212\n",
            "Dise:  0.6960753798484802\n",
            "----------Validation----------\n"
          ]
        },
        {
          "output_type": "stream",
          "name": "stderr",
          "text": [
            "2it [00:00, 10.14it/s]\n"
          ]
        },
        {
          "output_type": "stream",
          "name": "stdout",
          "text": [
            "Epoch:313 Val Dise:  0.6328407526016235\n",
            "Epoch 315 of 400\n",
            "Training\n"
          ]
        },
        {
          "output_type": "stream",
          "name": "stderr",
          "text": [
            "8it [00:03,  2.23it/s]\n"
          ]
        },
        {
          "output_type": "stream",
          "name": "stdout",
          "text": [
            "Epoch loss:  4.833480626344681\n",
            "Dise:  0.7220164015889168\n",
            "----------Validation----------\n"
          ]
        },
        {
          "output_type": "stream",
          "name": "stderr",
          "text": [
            "2it [00:00, 10.40it/s]\n"
          ]
        },
        {
          "output_type": "stream",
          "name": "stdout",
          "text": [
            "Epoch:314 Val Dise:  0.6276242434978485\n",
            "Epoch 316 of 400\n",
            "Training\n"
          ]
        },
        {
          "output_type": "stream",
          "name": "stderr",
          "text": [
            "8it [00:03,  2.27it/s]\n"
          ]
        },
        {
          "output_type": "stream",
          "name": "stdout",
          "text": [
            "Epoch loss:  4.734457314014435\n",
            "Dise:  0.7188632637262344\n",
            "----------Validation----------\n"
          ]
        },
        {
          "output_type": "stream",
          "name": "stderr",
          "text": [
            "2it [00:00, 10.59it/s]\n"
          ]
        },
        {
          "output_type": "stream",
          "name": "stdout",
          "text": [
            "Epoch:315 Val Dise:  0.6313157081604004\n",
            "Epoch 317 of 400\n",
            "Training\n"
          ]
        },
        {
          "output_type": "stream",
          "name": "stderr",
          "text": [
            "8it [00:03,  2.20it/s]\n"
          ]
        },
        {
          "output_type": "stream",
          "name": "stdout",
          "text": [
            "Epoch loss:  4.620084762573242\n",
            "Dise:  0.7377829104661942\n",
            "----------Validation----------\n"
          ]
        },
        {
          "output_type": "stream",
          "name": "stderr",
          "text": [
            "2it [00:00, 10.43it/s]\n"
          ]
        },
        {
          "output_type": "stream",
          "name": "stdout",
          "text": [
            "Epoch:316 Val Dise:  0.6346488296985626\n",
            "Epoch 318 of 400\n",
            "Training\n"
          ]
        },
        {
          "output_type": "stream",
          "name": "stderr",
          "text": [
            "8it [00:03,  2.29it/s]\n"
          ]
        },
        {
          "output_type": "stream",
          "name": "stdout",
          "text": [
            "Epoch loss:  4.714846104383469\n",
            "Dise:  0.7186532616615295\n",
            "----------Validation----------\n"
          ]
        },
        {
          "output_type": "stream",
          "name": "stderr",
          "text": [
            "2it [00:00, 10.68it/s]\n"
          ]
        },
        {
          "output_type": "stream",
          "name": "stdout",
          "text": [
            "Epoch:317 Val Dise:  0.6582320630550385\n",
            "Epoch 319 of 400\n",
            "Training\n"
          ]
        },
        {
          "output_type": "stream",
          "name": "stderr",
          "text": [
            "8it [00:03,  2.37it/s]\n"
          ]
        },
        {
          "output_type": "stream",
          "name": "stdout",
          "text": [
            "Epoch loss:  4.678599804639816\n",
            "Dise:  0.7354545965790749\n",
            "----------Validation----------\n"
          ]
        },
        {
          "output_type": "stream",
          "name": "stderr",
          "text": [
            "2it [00:00, 10.94it/s]\n"
          ]
        },
        {
          "output_type": "stream",
          "name": "stdout",
          "text": [
            "Epoch:318 Val Dise:  0.6573246419429779\n",
            "Epoch 320 of 400\n",
            "Training\n"
          ]
        },
        {
          "output_type": "stream",
          "name": "stderr",
          "text": [
            "8it [00:03,  2.31it/s]\n"
          ]
        },
        {
          "output_type": "stream",
          "name": "stdout",
          "text": [
            "Epoch loss:  4.681126177310944\n",
            "Dise:  0.7307804897427559\n",
            "----------Validation----------\n"
          ]
        },
        {
          "output_type": "stream",
          "name": "stderr",
          "text": [
            "2it [00:00, 10.22it/s]\n"
          ]
        },
        {
          "output_type": "stream",
          "name": "stdout",
          "text": [
            "Epoch:319 Val Dise:  0.6695820093154907\n",
            "Epoch 321 of 400\n",
            "Training\n"
          ]
        },
        {
          "output_type": "stream",
          "name": "stderr",
          "text": [
            "8it [00:03,  2.31it/s]\n"
          ]
        },
        {
          "output_type": "stream",
          "name": "stdout",
          "text": [
            "Epoch loss:  4.635328501462936\n",
            "Dise:  0.7477569282054901\n",
            "----------Validation----------\n"
          ]
        },
        {
          "output_type": "stream",
          "name": "stderr",
          "text": [
            "2it [00:00, 10.72it/s]\n"
          ]
        },
        {
          "output_type": "stream",
          "name": "stdout",
          "text": [
            "Epoch:320 Val Dise:  0.6645247340202332\n",
            "Epoch 322 of 400\n",
            "Training\n"
          ]
        },
        {
          "output_type": "stream",
          "name": "stderr",
          "text": [
            "8it [00:03,  2.29it/s]\n"
          ]
        },
        {
          "output_type": "stream",
          "name": "stdout",
          "text": [
            "Epoch loss:  4.663508325815201\n",
            "Dise:  0.7351394593715668\n",
            "----------Validation----------\n"
          ]
        },
        {
          "output_type": "stream",
          "name": "stderr",
          "text": [
            "2it [00:00, 10.91it/s]\n"
          ]
        },
        {
          "output_type": "stream",
          "name": "stdout",
          "text": [
            "Epoch:321 Val Dise:  0.6800699532032013\n",
            "Epoch 323 of 400\n",
            "Training\n"
          ]
        },
        {
          "output_type": "stream",
          "name": "stderr",
          "text": [
            "8it [00:03,  2.25it/s]\n"
          ]
        },
        {
          "output_type": "stream",
          "name": "stdout",
          "text": [
            "Epoch loss:  5.192398130893707\n",
            "Dise:  0.6865817904472351\n",
            "----------Validation----------\n"
          ]
        },
        {
          "output_type": "stream",
          "name": "stderr",
          "text": [
            "2it [00:00, 10.68it/s]\n"
          ]
        },
        {
          "output_type": "stream",
          "name": "stdout",
          "text": [
            "Epoch:322 Val Dise:  0.676395058631897\n",
            "Epoch 324 of 400\n",
            "Training\n"
          ]
        },
        {
          "output_type": "stream",
          "name": "stderr",
          "text": [
            "8it [00:03,  2.29it/s]\n"
          ]
        },
        {
          "output_type": "stream",
          "name": "stdout",
          "text": [
            "Epoch loss:  4.640843510627747\n",
            "Dise:  0.7132545039057732\n",
            "----------Validation----------\n"
          ]
        },
        {
          "output_type": "stream",
          "name": "stderr",
          "text": [
            "2it [00:00, 11.15it/s]\n"
          ]
        },
        {
          "output_type": "stream",
          "name": "stdout",
          "text": [
            "Epoch:323 Val Dise:  0.6719606816768646\n",
            "Epoch 325 of 400\n",
            "Training\n"
          ]
        },
        {
          "output_type": "stream",
          "name": "stderr",
          "text": [
            "8it [00:03,  2.37it/s]\n"
          ]
        },
        {
          "output_type": "stream",
          "name": "stdout",
          "text": [
            "Epoch loss:  5.129418790340424\n",
            "Dise:  0.70636136084795\n",
            "----------Validation----------\n"
          ]
        },
        {
          "output_type": "stream",
          "name": "stderr",
          "text": [
            "2it [00:00,  9.93it/s]\n"
          ]
        },
        {
          "output_type": "stream",
          "name": "stdout",
          "text": [
            "Epoch:324 Val Dise:  0.6548786163330078\n",
            "Epoch 326 of 400\n",
            "Training\n"
          ]
        },
        {
          "output_type": "stream",
          "name": "stderr",
          "text": [
            "8it [00:03,  2.23it/s]\n"
          ]
        },
        {
          "output_type": "stream",
          "name": "stdout",
          "text": [
            "Epoch loss:  4.684631198644638\n",
            "Dise:  0.7342207059264183\n",
            "----------Validation----------\n"
          ]
        },
        {
          "output_type": "stream",
          "name": "stderr",
          "text": [
            "2it [00:00, 10.54it/s]\n"
          ]
        },
        {
          "output_type": "stream",
          "name": "stdout",
          "text": [
            "Epoch:325 Val Dise:  0.6149816513061523\n",
            "Epoch 327 of 400\n",
            "Training\n"
          ]
        },
        {
          "output_type": "stream",
          "name": "stderr",
          "text": [
            "8it [00:03,  2.29it/s]\n"
          ]
        },
        {
          "output_type": "stream",
          "name": "stdout",
          "text": [
            "Epoch loss:  4.6648474633693695\n",
            "Dise:  0.722549594938755\n",
            "----------Validation----------\n"
          ]
        },
        {
          "output_type": "stream",
          "name": "stderr",
          "text": [
            "2it [00:00, 10.83it/s]\n"
          ]
        },
        {
          "output_type": "stream",
          "name": "stdout",
          "text": [
            "Epoch:326 Val Dise:  0.6055348217487335\n",
            "Epoch 328 of 400\n",
            "Training\n"
          ]
        },
        {
          "output_type": "stream",
          "name": "stderr",
          "text": [
            "8it [00:03,  2.26it/s]\n"
          ]
        },
        {
          "output_type": "stream",
          "name": "stdout",
          "text": [
            "Epoch loss:  5.385993242263794\n",
            "Dise:  0.6793658211827278\n",
            "----------Validation----------\n"
          ]
        },
        {
          "output_type": "stream",
          "name": "stderr",
          "text": [
            "2it [00:00, 10.55it/s]"
          ]
        },
        {
          "output_type": "stream",
          "name": "stdout",
          "text": [
            "Epoch:327 Val Dise:  0.633207231760025\n",
            "Epoch 329 of 400\n",
            "Training\n"
          ]
        },
        {
          "output_type": "stream",
          "name": "stderr",
          "text": [
            "\n",
            "8it [00:03,  2.26it/s]\n"
          ]
        },
        {
          "output_type": "stream",
          "name": "stdout",
          "text": [
            "Epoch loss:  5.1989766061306\n",
            "Dise:  0.6862492933869362\n",
            "----------Validation----------\n"
          ]
        },
        {
          "output_type": "stream",
          "name": "stderr",
          "text": [
            "2it [00:00, 10.42it/s]\n"
          ]
        },
        {
          "output_type": "stream",
          "name": "stdout",
          "text": [
            "Epoch:328 Val Dise:  0.6364803910255432\n",
            "Epoch 330 of 400\n",
            "Training\n"
          ]
        },
        {
          "output_type": "stream",
          "name": "stderr",
          "text": [
            "8it [00:03,  2.27it/s]\n"
          ]
        },
        {
          "output_type": "stream",
          "name": "stdout",
          "text": [
            "Epoch loss:  4.770607352256775\n",
            "Dise:  0.7245742976665497\n",
            "----------Validation----------\n"
          ]
        },
        {
          "output_type": "stream",
          "name": "stderr",
          "text": [
            "2it [00:00, 10.71it/s]\n"
          ]
        },
        {
          "output_type": "stream",
          "name": "stdout",
          "text": [
            "Epoch:329 Val Dise:  0.63393634557724\n",
            "Epoch 331 of 400\n",
            "Training\n"
          ]
        },
        {
          "output_type": "stream",
          "name": "stderr",
          "text": [
            "8it [00:03,  2.26it/s]\n"
          ]
        },
        {
          "output_type": "stream",
          "name": "stdout",
          "text": [
            "Epoch loss:  5.239760339260101\n",
            "Dise:  0.6793937645852566\n",
            "----------Validation----------\n"
          ]
        },
        {
          "output_type": "stream",
          "name": "stderr",
          "text": [
            "2it [00:00, 10.29it/s]\n"
          ]
        },
        {
          "output_type": "stream",
          "name": "stdout",
          "text": [
            "Epoch:330 Val Dise:  0.619896411895752\n",
            "Epoch 332 of 400\n",
            "Training\n"
          ]
        },
        {
          "output_type": "stream",
          "name": "stderr",
          "text": [
            "8it [00:03,  2.25it/s]\n"
          ]
        },
        {
          "output_type": "stream",
          "name": "stdout",
          "text": [
            "Epoch loss:  4.916512489318848\n",
            "Dise:  0.6965977549552917\n",
            "----------Validation----------\n"
          ]
        },
        {
          "output_type": "stream",
          "name": "stderr",
          "text": [
            "2it [00:00, 10.57it/s]\n"
          ]
        },
        {
          "output_type": "stream",
          "name": "stdout",
          "text": [
            "Epoch:331 Val Dise:  0.6398670375347137\n",
            "Epoch 333 of 400\n",
            "Training\n"
          ]
        },
        {
          "output_type": "stream",
          "name": "stderr",
          "text": [
            "8it [00:03,  2.18it/s]\n"
          ]
        },
        {
          "output_type": "stream",
          "name": "stdout",
          "text": [
            "Epoch loss:  4.614440381526947\n",
            "Dise:  0.7253702357411385\n",
            "----------Validation----------\n"
          ]
        },
        {
          "output_type": "stream",
          "name": "stderr",
          "text": [
            "2it [00:00, 10.34it/s]\n"
          ]
        },
        {
          "output_type": "stream",
          "name": "stdout",
          "text": [
            "Epoch:332 Val Dise:  0.648353785276413\n",
            "Epoch 334 of 400\n",
            "Training\n"
          ]
        },
        {
          "output_type": "stream",
          "name": "stderr",
          "text": [
            "8it [00:03,  2.30it/s]\n"
          ]
        },
        {
          "output_type": "stream",
          "name": "stdout",
          "text": [
            "Epoch loss:  4.90936154127121\n",
            "Dise:  0.686155378818512\n",
            "----------Validation----------\n"
          ]
        },
        {
          "output_type": "stream",
          "name": "stderr",
          "text": [
            "2it [00:00, 10.55it/s]\n"
          ]
        },
        {
          "output_type": "stream",
          "name": "stdout",
          "text": [
            "Epoch:333 Val Dise:  0.6796484589576721\n",
            "Epoch 335 of 400\n",
            "Training\n"
          ]
        },
        {
          "output_type": "stream",
          "name": "stderr",
          "text": [
            "8it [00:03,  2.29it/s]\n"
          ]
        },
        {
          "output_type": "stream",
          "name": "stdout",
          "text": [
            "Epoch loss:  4.947034120559692\n",
            "Dise:  0.7097340971231461\n",
            "----------Validation----------\n"
          ]
        },
        {
          "output_type": "stream",
          "name": "stderr",
          "text": [
            "2it [00:00, 11.19it/s]\n"
          ]
        },
        {
          "output_type": "stream",
          "name": "stdout",
          "text": [
            "Epoch:334 Val Dise:  0.6669972836971283\n",
            "Epoch 336 of 400\n",
            "Training\n"
          ]
        },
        {
          "output_type": "stream",
          "name": "stderr",
          "text": [
            "8it [00:03,  2.25it/s]\n"
          ]
        },
        {
          "output_type": "stream",
          "name": "stdout",
          "text": [
            "Epoch loss:  4.988308310508728\n",
            "Dise:  0.6917849853634834\n",
            "----------Validation----------\n"
          ]
        },
        {
          "output_type": "stream",
          "name": "stderr",
          "text": [
            "2it [00:00, 10.13it/s]\n"
          ]
        },
        {
          "output_type": "stream",
          "name": "stdout",
          "text": [
            "Epoch:335 Val Dise:  0.6314026415348053\n",
            "Epoch 337 of 400\n",
            "Training\n"
          ]
        },
        {
          "output_type": "stream",
          "name": "stderr",
          "text": [
            "8it [00:03,  2.32it/s]\n"
          ]
        },
        {
          "output_type": "stream",
          "name": "stdout",
          "text": [
            "Epoch loss:  4.732287883758545\n",
            "Dise:  0.7263059765100479\n",
            "----------Validation----------\n"
          ]
        },
        {
          "output_type": "stream",
          "name": "stderr",
          "text": [
            "2it [00:00, 10.93it/s]\n"
          ]
        },
        {
          "output_type": "stream",
          "name": "stdout",
          "text": [
            "Epoch:336 Val Dise:  0.6280060410499573\n",
            "Epoch 338 of 400\n",
            "Training\n"
          ]
        },
        {
          "output_type": "stream",
          "name": "stderr",
          "text": [
            "8it [00:03,  2.25it/s]\n"
          ]
        },
        {
          "output_type": "stream",
          "name": "stdout",
          "text": [
            "Epoch loss:  5.63178351521492\n",
            "Dise:  0.6334538636729121\n",
            "----------Validation----------\n"
          ]
        },
        {
          "output_type": "stream",
          "name": "stderr",
          "text": [
            "2it [00:00, 10.73it/s]\n"
          ]
        },
        {
          "output_type": "stream",
          "name": "stdout",
          "text": [
            "Epoch:337 Val Dise:  0.6185618042945862\n",
            "Epoch 339 of 400\n",
            "Training\n"
          ]
        },
        {
          "output_type": "stream",
          "name": "stderr",
          "text": [
            "8it [00:03,  2.32it/s]\n"
          ]
        },
        {
          "output_type": "stream",
          "name": "stdout",
          "text": [
            "Epoch loss:  4.7598055601119995\n",
            "Dise:  0.7158157825469971\n",
            "----------Validation----------\n"
          ]
        },
        {
          "output_type": "stream",
          "name": "stderr",
          "text": [
            "2it [00:00, 10.77it/s]\n"
          ]
        },
        {
          "output_type": "stream",
          "name": "stdout",
          "text": [
            "Epoch:338 Val Dise:  0.6182986497879028\n",
            "Epoch 340 of 400\n",
            "Training\n"
          ]
        },
        {
          "output_type": "stream",
          "name": "stderr",
          "text": [
            "8it [00:03,  2.21it/s]\n"
          ]
        },
        {
          "output_type": "stream",
          "name": "stdout",
          "text": [
            "Epoch loss:  4.886900812387466\n",
            "Dise:  0.701548270881176\n",
            "----------Validation----------\n"
          ]
        },
        {
          "output_type": "stream",
          "name": "stderr",
          "text": [
            "2it [00:00, 11.27it/s]\n"
          ]
        },
        {
          "output_type": "stream",
          "name": "stdout",
          "text": [
            "Epoch:339 Val Dise:  0.6355725228786469\n",
            "Epoch 341 of 400\n",
            "Training\n"
          ]
        },
        {
          "output_type": "stream",
          "name": "stderr",
          "text": [
            "8it [00:03,  2.26it/s]\n"
          ]
        },
        {
          "output_type": "stream",
          "name": "stdout",
          "text": [
            "Epoch loss:  4.78052881360054\n",
            "Dise:  0.7026276141405106\n",
            "----------Validation----------\n"
          ]
        },
        {
          "output_type": "stream",
          "name": "stderr",
          "text": [
            "2it [00:00, 11.41it/s]\n"
          ]
        },
        {
          "output_type": "stream",
          "name": "stdout",
          "text": [
            "Epoch:340 Val Dise:  0.6562923789024353\n",
            "Epoch 342 of 400\n",
            "Training\n"
          ]
        },
        {
          "output_type": "stream",
          "name": "stderr",
          "text": [
            "8it [00:03,  2.32it/s]\n"
          ]
        },
        {
          "output_type": "stream",
          "name": "stdout",
          "text": [
            "Epoch loss:  5.491834342479706\n",
            "Dise:  0.6645940728485584\n",
            "----------Validation----------\n"
          ]
        },
        {
          "output_type": "stream",
          "name": "stderr",
          "text": [
            "2it [00:00, 10.31it/s]\n"
          ]
        },
        {
          "output_type": "stream",
          "name": "stdout",
          "text": [
            "Epoch:341 Val Dise:  0.6623900234699249\n",
            "Epoch 343 of 400\n",
            "Training\n"
          ]
        },
        {
          "output_type": "stream",
          "name": "stderr",
          "text": [
            "8it [00:03,  2.25it/s]\n"
          ]
        },
        {
          "output_type": "stream",
          "name": "stdout",
          "text": [
            "Epoch loss:  4.7948713302612305\n",
            "Dise:  0.7086177431046963\n",
            "----------Validation----------\n"
          ]
        },
        {
          "output_type": "stream",
          "name": "stderr",
          "text": [
            "2it [00:00, 11.01it/s]\n"
          ]
        },
        {
          "output_type": "stream",
          "name": "stdout",
          "text": [
            "Epoch:342 Val Dise:  0.6613311767578125\n",
            "Epoch 344 of 400\n",
            "Training\n"
          ]
        },
        {
          "output_type": "stream",
          "name": "stderr",
          "text": [
            "8it [00:03,  2.33it/s]\n"
          ]
        },
        {
          "output_type": "stream",
          "name": "stdout",
          "text": [
            "Epoch loss:  4.427466958761215\n",
            "Dise:  0.7566075325012207\n",
            "----------Validation----------\n"
          ]
        },
        {
          "output_type": "stream",
          "name": "stderr",
          "text": [
            "2it [00:00, 10.79it/s]\n"
          ]
        },
        {
          "output_type": "stream",
          "name": "stdout",
          "text": [
            "Epoch:343 Val Dise:  0.6340215504169464\n",
            "Epoch 345 of 400\n",
            "Training\n"
          ]
        },
        {
          "output_type": "stream",
          "name": "stderr",
          "text": [
            "8it [00:03,  2.31it/s]\n"
          ]
        },
        {
          "output_type": "stream",
          "name": "stdout",
          "text": [
            "Epoch loss:  4.649717211723328\n",
            "Dise:  0.7210731655359268\n",
            "----------Validation----------\n"
          ]
        },
        {
          "output_type": "stream",
          "name": "stderr",
          "text": [
            "2it [00:00, 11.25it/s]\n"
          ]
        },
        {
          "output_type": "stream",
          "name": "stdout",
          "text": [
            "Epoch:344 Val Dise:  0.6172939538955688\n",
            "Epoch 346 of 400\n",
            "Training\n"
          ]
        },
        {
          "output_type": "stream",
          "name": "stderr",
          "text": [
            "8it [00:03,  2.27it/s]\n"
          ]
        },
        {
          "output_type": "stream",
          "name": "stdout",
          "text": [
            "Epoch loss:  4.9381594359874725\n",
            "Dise:  0.676797442138195\n",
            "----------Validation----------\n"
          ]
        },
        {
          "output_type": "stream",
          "name": "stderr",
          "text": [
            "2it [00:00, 10.54it/s]\n"
          ]
        },
        {
          "output_type": "stream",
          "name": "stdout",
          "text": [
            "Epoch:345 Val Dise:  0.6482503116130829\n",
            "Epoch 347 of 400\n",
            "Training\n"
          ]
        },
        {
          "output_type": "stream",
          "name": "stderr",
          "text": [
            "8it [00:03,  2.39it/s]\n"
          ]
        },
        {
          "output_type": "stream",
          "name": "stdout",
          "text": [
            "Epoch loss:  4.992703020572662\n",
            "Dise:  0.7029499188065529\n",
            "----------Validation----------\n"
          ]
        },
        {
          "output_type": "stream",
          "name": "stderr",
          "text": [
            "2it [00:00, 10.86it/s]\n"
          ]
        },
        {
          "output_type": "stream",
          "name": "stdout",
          "text": [
            "Epoch:346 Val Dise:  0.6604776978492737\n",
            "Epoch 348 of 400\n",
            "Training\n"
          ]
        },
        {
          "output_type": "stream",
          "name": "stderr",
          "text": [
            "8it [00:03,  2.26it/s]\n"
          ]
        },
        {
          "output_type": "stream",
          "name": "stdout",
          "text": [
            "Epoch loss:  4.827437460422516\n",
            "Dise:  0.7276151776313782\n",
            "----------Validation----------\n"
          ]
        },
        {
          "output_type": "stream",
          "name": "stderr",
          "text": [
            "2it [00:00, 10.92it/s]\n"
          ]
        },
        {
          "output_type": "stream",
          "name": "stdout",
          "text": [
            "Epoch:347 Val Dise:  0.6528960466384888\n",
            "Epoch 349 of 400\n",
            "Training\n"
          ]
        },
        {
          "output_type": "stream",
          "name": "stderr",
          "text": [
            "8it [00:03,  2.26it/s]\n"
          ]
        },
        {
          "output_type": "stream",
          "name": "stdout",
          "text": [
            "Epoch loss:  5.1314340233802795\n",
            "Dise:  0.6689518541097641\n",
            "----------Validation----------\n"
          ]
        },
        {
          "output_type": "stream",
          "name": "stderr",
          "text": [
            "2it [00:00, 11.10it/s]\n"
          ]
        },
        {
          "output_type": "stream",
          "name": "stdout",
          "text": [
            "Epoch:348 Val Dise:  0.6588172316551208\n",
            "Epoch 350 of 400\n",
            "Training\n"
          ]
        },
        {
          "output_type": "stream",
          "name": "stderr",
          "text": [
            "8it [00:03,  2.29it/s]\n"
          ]
        },
        {
          "output_type": "stream",
          "name": "stdout",
          "text": [
            "Epoch loss:  4.6042995154857635\n",
            "Dise:  0.7311325594782829\n",
            "----------Validation----------\n"
          ]
        },
        {
          "output_type": "stream",
          "name": "stderr",
          "text": [
            "2it [00:00, 11.27it/s]\n"
          ]
        },
        {
          "output_type": "stream",
          "name": "stdout",
          "text": [
            "Epoch:349 Val Dise:  0.6507055461406708\n",
            "Epoch 351 of 400\n",
            "Training\n"
          ]
        },
        {
          "output_type": "stream",
          "name": "stderr",
          "text": [
            "8it [00:03,  2.24it/s]\n"
          ]
        },
        {
          "output_type": "stream",
          "name": "stdout",
          "text": [
            "Epoch loss:  4.612862229347229\n",
            "Dise:  0.7271531224250793\n",
            "----------Validation----------\n"
          ]
        },
        {
          "output_type": "stream",
          "name": "stderr",
          "text": [
            "2it [00:00, 10.80it/s]\n"
          ]
        },
        {
          "output_type": "stream",
          "name": "stdout",
          "text": [
            "Epoch:350 Val Dise:  0.6559350490570068\n",
            "Epoch 352 of 400\n",
            "Training\n"
          ]
        },
        {
          "output_type": "stream",
          "name": "stderr",
          "text": [
            "8it [00:03,  2.37it/s]\n"
          ]
        },
        {
          "output_type": "stream",
          "name": "stdout",
          "text": [
            "Epoch loss:  4.9413935244083405\n",
            "Dise:  0.7065219134092331\n",
            "----------Validation----------\n"
          ]
        },
        {
          "output_type": "stream",
          "name": "stderr",
          "text": [
            "2it [00:00, 10.99it/s]\n"
          ]
        },
        {
          "output_type": "stream",
          "name": "stdout",
          "text": [
            "Epoch:351 Val Dise:  0.6507466733455658\n",
            "Epoch 353 of 400\n",
            "Training\n"
          ]
        },
        {
          "output_type": "stream",
          "name": "stderr",
          "text": [
            "8it [00:03,  2.32it/s]\n"
          ]
        },
        {
          "output_type": "stream",
          "name": "stdout",
          "text": [
            "Epoch loss:  4.548969268798828\n",
            "Dise:  0.7241409868001938\n",
            "----------Validation----------\n"
          ]
        },
        {
          "output_type": "stream",
          "name": "stderr",
          "text": [
            "2it [00:00, 10.79it/s]\n"
          ]
        },
        {
          "output_type": "stream",
          "name": "stdout",
          "text": [
            "Epoch:352 Val Dise:  0.6498454213142395\n",
            "Epoch 354 of 400\n",
            "Training\n"
          ]
        },
        {
          "output_type": "stream",
          "name": "stderr",
          "text": [
            "8it [00:03,  2.29it/s]\n"
          ]
        },
        {
          "output_type": "stream",
          "name": "stdout",
          "text": [
            "Epoch loss:  4.893648236989975\n",
            "Dise:  0.6949088647961617\n",
            "----------Validation----------\n"
          ]
        },
        {
          "output_type": "stream",
          "name": "stderr",
          "text": [
            "2it [00:00, 10.49it/s]\n"
          ]
        },
        {
          "output_type": "stream",
          "name": "stdout",
          "text": [
            "Epoch:353 Val Dise:  0.6624002158641815\n",
            "Epoch 355 of 400\n",
            "Training\n"
          ]
        },
        {
          "output_type": "stream",
          "name": "stderr",
          "text": [
            "8it [00:03,  2.35it/s]\n"
          ]
        },
        {
          "output_type": "stream",
          "name": "stdout",
          "text": [
            "Epoch loss:  4.8450197875499725\n",
            "Dise:  0.6959328278899193\n",
            "----------Validation----------\n"
          ]
        },
        {
          "output_type": "stream",
          "name": "stderr",
          "text": [
            "2it [00:00, 10.84it/s]\n"
          ]
        },
        {
          "output_type": "stream",
          "name": "stdout",
          "text": [
            "Epoch:354 Val Dise:  0.6641530394554138\n",
            "Epoch 356 of 400\n",
            "Training\n"
          ]
        },
        {
          "output_type": "stream",
          "name": "stderr",
          "text": [
            "8it [00:03,  2.24it/s]\n"
          ]
        },
        {
          "output_type": "stream",
          "name": "stdout",
          "text": [
            "Epoch loss:  5.060309857130051\n",
            "Dise:  0.679762713611126\n",
            "----------Validation----------\n"
          ]
        },
        {
          "output_type": "stream",
          "name": "stderr",
          "text": [
            "2it [00:00, 10.81it/s]\n"
          ]
        },
        {
          "output_type": "stream",
          "name": "stdout",
          "text": [
            "Epoch:355 Val Dise:  0.6689622402191162\n",
            "Epoch 357 of 400\n",
            "Training\n"
          ]
        },
        {
          "output_type": "stream",
          "name": "stderr",
          "text": [
            "8it [00:03,  2.35it/s]\n"
          ]
        },
        {
          "output_type": "stream",
          "name": "stdout",
          "text": [
            "Epoch loss:  4.9288205206394196\n",
            "Dise:  0.6986130625009537\n",
            "----------Validation----------\n"
          ]
        },
        {
          "output_type": "stream",
          "name": "stderr",
          "text": [
            "2it [00:00, 10.39it/s]\n"
          ]
        },
        {
          "output_type": "stream",
          "name": "stdout",
          "text": [
            "Epoch:356 Val Dise:  0.6635090410709381\n",
            "Epoch 358 of 400\n",
            "Training\n"
          ]
        },
        {
          "output_type": "stream",
          "name": "stderr",
          "text": [
            "8it [00:03,  2.21it/s]\n"
          ]
        },
        {
          "output_type": "stream",
          "name": "stdout",
          "text": [
            "Epoch loss:  4.861907362937927\n",
            "Dise:  0.7129668518900871\n",
            "----------Validation----------\n"
          ]
        },
        {
          "output_type": "stream",
          "name": "stderr",
          "text": [
            "2it [00:00, 10.79it/s]\n"
          ]
        },
        {
          "output_type": "stream",
          "name": "stdout",
          "text": [
            "Epoch:357 Val Dise:  0.6729739904403687\n",
            "Epoch 359 of 400\n",
            "Training\n"
          ]
        },
        {
          "output_type": "stream",
          "name": "stderr",
          "text": [
            "8it [00:03,  2.35it/s]\n"
          ]
        },
        {
          "output_type": "stream",
          "name": "stdout",
          "text": [
            "Epoch loss:  4.808551996946335\n",
            "Dise:  0.7033634185791016\n",
            "----------Validation----------\n"
          ]
        },
        {
          "output_type": "stream",
          "name": "stderr",
          "text": [
            "2it [00:00, 11.24it/s]\n"
          ]
        },
        {
          "output_type": "stream",
          "name": "stdout",
          "text": [
            "Epoch:358 Val Dise:  0.6702686846256256\n",
            "Epoch 360 of 400\n",
            "Training\n"
          ]
        },
        {
          "output_type": "stream",
          "name": "stderr",
          "text": [
            "8it [00:03,  2.28it/s]\n"
          ]
        },
        {
          "output_type": "stream",
          "name": "stdout",
          "text": [
            "Epoch loss:  4.2862763702869415\n",
            "Dise:  0.7529616057872772\n",
            "----------Validation----------\n"
          ]
        },
        {
          "output_type": "stream",
          "name": "stderr",
          "text": [
            "2it [00:00, 10.68it/s]\n"
          ]
        },
        {
          "output_type": "stream",
          "name": "stdout",
          "text": [
            "Epoch:359 Val Dise:  0.6311808526515961\n",
            "Epoch 361 of 400\n",
            "Training\n"
          ]
        },
        {
          "output_type": "stream",
          "name": "stderr",
          "text": [
            "8it [00:03,  2.28it/s]\n"
          ]
        },
        {
          "output_type": "stream",
          "name": "stdout",
          "text": [
            "Epoch loss:  4.6344225108623505\n",
            "Dise:  0.7244473174214363\n",
            "----------Validation----------\n"
          ]
        },
        {
          "output_type": "stream",
          "name": "stderr",
          "text": [
            "2it [00:00, 10.29it/s]\n"
          ]
        },
        {
          "output_type": "stream",
          "name": "stdout",
          "text": [
            "Epoch:360 Val Dise:  0.6262387931346893\n",
            "Epoch 362 of 400\n",
            "Training\n"
          ]
        },
        {
          "output_type": "stream",
          "name": "stderr",
          "text": [
            "8it [00:03,  2.28it/s]\n"
          ]
        },
        {
          "output_type": "stream",
          "name": "stdout",
          "text": [
            "Epoch loss:  4.615194529294968\n",
            "Dise:  0.7246166542172432\n",
            "----------Validation----------\n"
          ]
        },
        {
          "output_type": "stream",
          "name": "stderr",
          "text": [
            "2it [00:00, 10.59it/s]\n"
          ]
        },
        {
          "output_type": "stream",
          "name": "stdout",
          "text": [
            "Epoch:361 Val Dise:  0.6576361060142517\n",
            "Epoch 363 of 400\n",
            "Training\n"
          ]
        },
        {
          "output_type": "stream",
          "name": "stderr",
          "text": [
            "8it [00:03,  2.29it/s]\n"
          ]
        },
        {
          "output_type": "stream",
          "name": "stdout",
          "text": [
            "Epoch loss:  4.36444228887558\n",
            "Dise:  0.7543202564120293\n",
            "----------Validation----------\n"
          ]
        },
        {
          "output_type": "stream",
          "name": "stderr",
          "text": [
            "2it [00:00, 10.85it/s]\n"
          ]
        },
        {
          "output_type": "stream",
          "name": "stdout",
          "text": [
            "Epoch:362 Val Dise:  0.6673454940319061\n",
            "Epoch 364 of 400\n",
            "Training\n"
          ]
        },
        {
          "output_type": "stream",
          "name": "stderr",
          "text": [
            "8it [00:03,  2.27it/s]\n"
          ]
        },
        {
          "output_type": "stream",
          "name": "stdout",
          "text": [
            "Epoch loss:  4.8199445605278015\n",
            "Dise:  0.7161836326122284\n",
            "----------Validation----------\n"
          ]
        },
        {
          "output_type": "stream",
          "name": "stderr",
          "text": [
            "2it [00:00, 10.93it/s]\n"
          ]
        },
        {
          "output_type": "stream",
          "name": "stdout",
          "text": [
            "Epoch:363 Val Dise:  0.659499853849411\n",
            "Epoch 365 of 400\n",
            "Training\n"
          ]
        },
        {
          "output_type": "stream",
          "name": "stderr",
          "text": [
            "8it [00:03,  2.27it/s]\n"
          ]
        },
        {
          "output_type": "stream",
          "name": "stdout",
          "text": [
            "Epoch loss:  4.706308960914612\n",
            "Dise:  0.7176648080348969\n",
            "----------Validation----------\n"
          ]
        },
        {
          "output_type": "stream",
          "name": "stderr",
          "text": [
            "2it [00:00, 10.55it/s]\n"
          ]
        },
        {
          "output_type": "stream",
          "name": "stdout",
          "text": [
            "Epoch:364 Val Dise:  0.6483927071094513\n",
            "Epoch 366 of 400\n",
            "Training\n"
          ]
        },
        {
          "output_type": "stream",
          "name": "stderr",
          "text": [
            "8it [00:03,  2.25it/s]\n"
          ]
        },
        {
          "output_type": "stream",
          "name": "stdout",
          "text": [
            "Epoch loss:  4.657285541296005\n",
            "Dise:  0.7192099392414093\n",
            "----------Validation----------\n"
          ]
        },
        {
          "output_type": "stream",
          "name": "stderr",
          "text": [
            "2it [00:00, 10.80it/s]\n"
          ]
        },
        {
          "output_type": "stream",
          "name": "stdout",
          "text": [
            "Epoch:365 Val Dise:  0.6467370688915253\n",
            "Epoch 367 of 400\n",
            "Training\n"
          ]
        },
        {
          "output_type": "stream",
          "name": "stderr",
          "text": [
            "8it [00:03,  2.29it/s]\n"
          ]
        },
        {
          "output_type": "stream",
          "name": "stdout",
          "text": [
            "Epoch loss:  4.841876119375229\n",
            "Dise:  0.7252034321427345\n",
            "----------Validation----------\n"
          ]
        },
        {
          "output_type": "stream",
          "name": "stderr",
          "text": [
            "2it [00:00, 11.09it/s]\n"
          ]
        },
        {
          "output_type": "stream",
          "name": "stdout",
          "text": [
            "Epoch:366 Val Dise:  0.6504755020141602\n",
            "Epoch 368 of 400\n",
            "Training\n"
          ]
        },
        {
          "output_type": "stream",
          "name": "stderr",
          "text": [
            "8it [00:03,  2.26it/s]\n"
          ]
        },
        {
          "output_type": "stream",
          "name": "stdout",
          "text": [
            "Epoch loss:  4.7175571620464325\n",
            "Dise:  0.7191926538944244\n",
            "----------Validation----------\n"
          ]
        },
        {
          "output_type": "stream",
          "name": "stderr",
          "text": [
            "2it [00:00, 10.43it/s]\n"
          ]
        },
        {
          "output_type": "stream",
          "name": "stdout",
          "text": [
            "Epoch:367 Val Dise:  0.6341549754142761\n",
            "Epoch 369 of 400\n",
            "Training\n"
          ]
        },
        {
          "output_type": "stream",
          "name": "stderr",
          "text": [
            "8it [00:03,  2.32it/s]\n"
          ]
        },
        {
          "output_type": "stream",
          "name": "stdout",
          "text": [
            "Epoch loss:  4.869168847799301\n",
            "Dise:  0.7204560860991478\n",
            "----------Validation----------\n"
          ]
        },
        {
          "output_type": "stream",
          "name": "stderr",
          "text": [
            "2it [00:00, 10.39it/s]\n"
          ]
        },
        {
          "output_type": "stream",
          "name": "stdout",
          "text": [
            "Epoch:368 Val Dise:  0.6327177882194519\n",
            "Epoch 370 of 400\n",
            "Training\n"
          ]
        },
        {
          "output_type": "stream",
          "name": "stderr",
          "text": [
            "8it [00:03,  2.34it/s]\n"
          ]
        },
        {
          "output_type": "stream",
          "name": "stdout",
          "text": [
            "Epoch loss:  4.679534018039703\n",
            "Dise:  0.7346145063638687\n",
            "----------Validation----------\n"
          ]
        },
        {
          "output_type": "stream",
          "name": "stderr",
          "text": [
            "2it [00:00, 11.01it/s]\n"
          ]
        },
        {
          "output_type": "stream",
          "name": "stdout",
          "text": [
            "Epoch:369 Val Dise:  0.653120756149292\n",
            "Epoch 371 of 400\n",
            "Training\n"
          ]
        },
        {
          "output_type": "stream",
          "name": "stderr",
          "text": [
            "8it [00:03,  2.30it/s]\n"
          ]
        },
        {
          "output_type": "stream",
          "name": "stdout",
          "text": [
            "Epoch loss:  4.786064028739929\n",
            "Dise:  0.7158576175570488\n",
            "----------Validation----------\n"
          ]
        },
        {
          "output_type": "stream",
          "name": "stderr",
          "text": [
            "2it [00:00,  9.63it/s]\n"
          ]
        },
        {
          "output_type": "stream",
          "name": "stdout",
          "text": [
            "Epoch:370 Val Dise:  0.6460784077644348\n",
            "Epoch 372 of 400\n",
            "Training\n"
          ]
        },
        {
          "output_type": "stream",
          "name": "stderr",
          "text": [
            "8it [00:03,  2.24it/s]\n"
          ]
        },
        {
          "output_type": "stream",
          "name": "stdout",
          "text": [
            "Epoch loss:  4.6966016590595245\n",
            "Dise:  0.7376314178109169\n",
            "----------Validation----------\n"
          ]
        },
        {
          "output_type": "stream",
          "name": "stderr",
          "text": [
            "2it [00:00, 10.41it/s]\n"
          ]
        },
        {
          "output_type": "stream",
          "name": "stdout",
          "text": [
            "Epoch:371 Val Dise:  0.6470800936222076\n",
            "Epoch 373 of 400\n",
            "Training\n"
          ]
        },
        {
          "output_type": "stream",
          "name": "stderr",
          "text": [
            "8it [00:03,  2.25it/s]\n"
          ]
        },
        {
          "output_type": "stream",
          "name": "stdout",
          "text": [
            "Epoch loss:  5.057788848876953\n",
            "Dise:  0.7081689462065697\n",
            "----------Validation----------\n"
          ]
        },
        {
          "output_type": "stream",
          "name": "stderr",
          "text": [
            "2it [00:00, 10.42it/s]\n"
          ]
        },
        {
          "output_type": "stream",
          "name": "stdout",
          "text": [
            "Epoch:372 Val Dise:  0.635845422744751\n",
            "Epoch 374 of 400\n",
            "Training\n"
          ]
        },
        {
          "output_type": "stream",
          "name": "stderr",
          "text": [
            "8it [00:03,  2.25it/s]\n"
          ]
        },
        {
          "output_type": "stream",
          "name": "stdout",
          "text": [
            "Epoch loss:  4.775959253311157\n",
            "Dise:  0.692920371890068\n",
            "----------Validation----------\n"
          ]
        },
        {
          "output_type": "stream",
          "name": "stderr",
          "text": [
            "2it [00:00, 10.28it/s]\n"
          ]
        },
        {
          "output_type": "stream",
          "name": "stdout",
          "text": [
            "Epoch:373 Val Dise:  0.5608709156513214\n",
            "Epoch 375 of 400\n",
            "Training\n"
          ]
        },
        {
          "output_type": "stream",
          "name": "stderr",
          "text": [
            "8it [00:03,  2.33it/s]\n"
          ]
        },
        {
          "output_type": "stream",
          "name": "stdout",
          "text": [
            "Epoch loss:  4.389558494091034\n",
            "Dise:  0.752276211977005\n",
            "----------Validation----------\n"
          ]
        },
        {
          "output_type": "stream",
          "name": "stderr",
          "text": [
            "2it [00:00, 11.14it/s]\n"
          ]
        },
        {
          "output_type": "stream",
          "name": "stdout",
          "text": [
            "Epoch:374 Val Dise:  0.601312905550003\n",
            "Epoch 376 of 400\n",
            "Training\n"
          ]
        },
        {
          "output_type": "stream",
          "name": "stderr",
          "text": [
            "8it [00:03,  2.35it/s]\n"
          ]
        },
        {
          "output_type": "stream",
          "name": "stdout",
          "text": [
            "Epoch loss:  4.314755499362946\n",
            "Dise:  0.7450154274702072\n",
            "----------Validation----------\n"
          ]
        },
        {
          "output_type": "stream",
          "name": "stderr",
          "text": [
            "2it [00:00, 10.44it/s]\n"
          ]
        },
        {
          "output_type": "stream",
          "name": "stdout",
          "text": [
            "Epoch:375 Val Dise:  0.6514326632022858\n",
            "Epoch 377 of 400\n",
            "Training\n"
          ]
        },
        {
          "output_type": "stream",
          "name": "stderr",
          "text": [
            "8it [00:03,  2.26it/s]\n"
          ]
        },
        {
          "output_type": "stream",
          "name": "stdout",
          "text": [
            "Epoch loss:  4.588896960020065\n",
            "Dise:  0.7398941144347191\n",
            "----------Validation----------\n"
          ]
        },
        {
          "output_type": "stream",
          "name": "stderr",
          "text": [
            "2it [00:00, 11.23it/s]\n"
          ]
        },
        {
          "output_type": "stream",
          "name": "stdout",
          "text": [
            "Epoch:376 Val Dise:  0.677211195230484\n",
            "Epoch 378 of 400\n",
            "Training\n"
          ]
        },
        {
          "output_type": "stream",
          "name": "stderr",
          "text": [
            "8it [00:03,  2.30it/s]\n"
          ]
        },
        {
          "output_type": "stream",
          "name": "stdout",
          "text": [
            "Epoch loss:  4.206397086381912\n",
            "Dise:  0.7559414803981781\n",
            "----------Validation----------\n"
          ]
        },
        {
          "output_type": "stream",
          "name": "stderr",
          "text": [
            "2it [00:00, 10.85it/s]\n"
          ]
        },
        {
          "output_type": "stream",
          "name": "stdout",
          "text": [
            "Epoch:377 Val Dise:  0.6906916499137878\n",
            "Epoch 379 of 400\n",
            "Training\n"
          ]
        },
        {
          "output_type": "stream",
          "name": "stderr",
          "text": [
            "8it [00:03,  2.36it/s]\n"
          ]
        },
        {
          "output_type": "stream",
          "name": "stdout",
          "text": [
            "Epoch loss:  4.931224852800369\n",
            "Dise:  0.7001515924930573\n",
            "----------Validation----------\n"
          ]
        },
        {
          "output_type": "stream",
          "name": "stderr",
          "text": [
            "2it [00:00, 10.80it/s]\n"
          ]
        },
        {
          "output_type": "stream",
          "name": "stdout",
          "text": [
            "Epoch:378 Val Dise:  0.6440007090568542\n",
            "Epoch 380 of 400\n",
            "Training\n"
          ]
        },
        {
          "output_type": "stream",
          "name": "stderr",
          "text": [
            "8it [00:03,  2.31it/s]\n"
          ]
        },
        {
          "output_type": "stream",
          "name": "stdout",
          "text": [
            "Epoch loss:  4.418305039405823\n",
            "Dise:  0.7615296542644501\n",
            "----------Validation----------\n"
          ]
        },
        {
          "output_type": "stream",
          "name": "stderr",
          "text": [
            "2it [00:00, 10.59it/s]\n"
          ]
        },
        {
          "output_type": "stream",
          "name": "stdout",
          "text": [
            "Epoch:379 Val Dise:  0.6525948643684387\n",
            "Epoch 381 of 400\n",
            "Training\n"
          ]
        },
        {
          "output_type": "stream",
          "name": "stderr",
          "text": [
            "8it [00:03,  2.25it/s]\n"
          ]
        },
        {
          "output_type": "stream",
          "name": "stdout",
          "text": [
            "Epoch loss:  4.387153744697571\n",
            "Dise:  0.7489709630608559\n",
            "----------Validation----------\n"
          ]
        },
        {
          "output_type": "stream",
          "name": "stderr",
          "text": [
            "2it [00:00, 10.49it/s]\n"
          ]
        },
        {
          "output_type": "stream",
          "name": "stdout",
          "text": [
            "Epoch:380 Val Dise:  0.6464012563228607\n",
            "Epoch 382 of 400\n",
            "Training\n"
          ]
        },
        {
          "output_type": "stream",
          "name": "stderr",
          "text": [
            "8it [00:03,  2.29it/s]\n"
          ]
        },
        {
          "output_type": "stream",
          "name": "stdout",
          "text": [
            "Epoch loss:  4.296619713306427\n",
            "Dise:  0.7643228322267532\n",
            "----------Validation----------\n"
          ]
        },
        {
          "output_type": "stream",
          "name": "stderr",
          "text": [
            "2it [00:00, 10.74it/s]\n"
          ]
        },
        {
          "output_type": "stream",
          "name": "stdout",
          "text": [
            "Epoch:381 Val Dise:  0.6620655655860901\n",
            "Epoch 383 of 400\n",
            "Training\n"
          ]
        },
        {
          "output_type": "stream",
          "name": "stderr",
          "text": [
            "8it [00:03,  2.22it/s]\n"
          ]
        },
        {
          "output_type": "stream",
          "name": "stdout",
          "text": [
            "Epoch loss:  4.593959867954254\n",
            "Dise:  0.7349926680326462\n",
            "----------Validation----------\n"
          ]
        },
        {
          "output_type": "stream",
          "name": "stderr",
          "text": [
            "2it [00:00, 10.61it/s]\n"
          ]
        },
        {
          "output_type": "stream",
          "name": "stdout",
          "text": [
            "Epoch:382 Val Dise:  0.6537075340747833\n",
            "Epoch 384 of 400\n",
            "Training\n"
          ]
        },
        {
          "output_type": "stream",
          "name": "stderr",
          "text": [
            "8it [00:03,  2.26it/s]\n"
          ]
        },
        {
          "output_type": "stream",
          "name": "stdout",
          "text": [
            "Epoch loss:  4.669644743204117\n",
            "Dise:  0.7204491272568703\n",
            "----------Validation----------\n"
          ]
        },
        {
          "output_type": "stream",
          "name": "stderr",
          "text": [
            "2it [00:00, 10.56it/s]\n"
          ]
        },
        {
          "output_type": "stream",
          "name": "stdout",
          "text": [
            "Epoch:383 Val Dise:  0.6377312242984772\n",
            "Epoch 385 of 400\n",
            "Training\n"
          ]
        },
        {
          "output_type": "stream",
          "name": "stderr",
          "text": [
            "8it [00:03,  2.39it/s]\n"
          ]
        },
        {
          "output_type": "stream",
          "name": "stdout",
          "text": [
            "Epoch loss:  4.404623091220856\n",
            "Dise:  0.7538549602031708\n",
            "----------Validation----------\n"
          ]
        },
        {
          "output_type": "stream",
          "name": "stderr",
          "text": [
            "2it [00:00, 10.89it/s]\n"
          ]
        },
        {
          "output_type": "stream",
          "name": "stdout",
          "text": [
            "Epoch:384 Val Dise:  0.6268425285816193\n",
            "Epoch 386 of 400\n",
            "Training\n"
          ]
        },
        {
          "output_type": "stream",
          "name": "stderr",
          "text": [
            "8it [00:03,  2.27it/s]\n"
          ]
        },
        {
          "output_type": "stream",
          "name": "stdout",
          "text": [
            "Epoch loss:  4.5474404990673065\n",
            "Dise:  0.7492680624127388\n",
            "----------Validation----------\n"
          ]
        },
        {
          "output_type": "stream",
          "name": "stderr",
          "text": [
            "2it [00:00, 10.13it/s]\n"
          ]
        },
        {
          "output_type": "stream",
          "name": "stdout",
          "text": [
            "Epoch:385 Val Dise:  0.6416617631912231\n",
            "Epoch 387 of 400\n",
            "Training\n"
          ]
        },
        {
          "output_type": "stream",
          "name": "stderr",
          "text": [
            "8it [00:03,  2.23it/s]\n"
          ]
        },
        {
          "output_type": "stream",
          "name": "stdout",
          "text": [
            "Epoch loss:  4.322934448719025\n",
            "Dise:  0.7549367323517799\n",
            "----------Validation----------\n"
          ]
        },
        {
          "output_type": "stream",
          "name": "stderr",
          "text": [
            "2it [00:00, 10.71it/s]\n"
          ]
        },
        {
          "output_type": "stream",
          "name": "stdout",
          "text": [
            "Epoch:386 Val Dise:  0.6703871786594391\n",
            "Epoch 388 of 400\n",
            "Training\n"
          ]
        },
        {
          "output_type": "stream",
          "name": "stderr",
          "text": [
            "8it [00:03,  2.34it/s]\n"
          ]
        },
        {
          "output_type": "stream",
          "name": "stdout",
          "text": [
            "Epoch loss:  4.96631932258606\n",
            "Dise:  0.7167230919003487\n",
            "----------Validation----------\n"
          ]
        },
        {
          "output_type": "stream",
          "name": "stderr",
          "text": [
            "2it [00:00, 10.93it/s]\n"
          ]
        },
        {
          "output_type": "stream",
          "name": "stdout",
          "text": [
            "Epoch:387 Val Dise:  0.6659423112869263\n",
            "Epoch 389 of 400\n",
            "Training\n"
          ]
        },
        {
          "output_type": "stream",
          "name": "stderr",
          "text": [
            "8it [00:03,  2.40it/s]\n"
          ]
        },
        {
          "output_type": "stream",
          "name": "stdout",
          "text": [
            "Epoch loss:  4.348235100507736\n",
            "Dise:  0.7689444944262505\n",
            "----------Validation----------\n"
          ]
        },
        {
          "output_type": "stream",
          "name": "stderr",
          "text": [
            "2it [00:00, 10.95it/s]\n"
          ]
        },
        {
          "output_type": "stream",
          "name": "stdout",
          "text": [
            "Epoch:388 Val Dise:  0.6265925765037537\n",
            "Epoch 390 of 400\n",
            "Training\n"
          ]
        },
        {
          "output_type": "stream",
          "name": "stderr",
          "text": [
            "8it [00:03,  2.21it/s]\n"
          ]
        },
        {
          "output_type": "stream",
          "name": "stdout",
          "text": [
            "Epoch loss:  4.445167422294617\n",
            "Dise:  0.7555932477116585\n",
            "----------Validation----------\n"
          ]
        },
        {
          "output_type": "stream",
          "name": "stderr",
          "text": [
            "2it [00:00, 10.25it/s]\n"
          ]
        },
        {
          "output_type": "stream",
          "name": "stdout",
          "text": [
            "Epoch:389 Val Dise:  0.617401123046875\n",
            "Epoch 391 of 400\n",
            "Training\n"
          ]
        },
        {
          "output_type": "stream",
          "name": "stderr",
          "text": [
            "8it [00:03,  2.31it/s]\n"
          ]
        },
        {
          "output_type": "stream",
          "name": "stdout",
          "text": [
            "Epoch loss:  4.660295635461807\n",
            "Dise:  0.727126382291317\n",
            "----------Validation----------\n"
          ]
        },
        {
          "output_type": "stream",
          "name": "stderr",
          "text": [
            "2it [00:00, 11.11it/s]\n"
          ]
        },
        {
          "output_type": "stream",
          "name": "stdout",
          "text": [
            "Epoch:390 Val Dise:  0.6078599393367767\n",
            "Epoch 392 of 400\n",
            "Training\n"
          ]
        },
        {
          "output_type": "stream",
          "name": "stderr",
          "text": [
            "8it [00:03,  2.27it/s]\n"
          ]
        },
        {
          "output_type": "stream",
          "name": "stdout",
          "text": [
            "Epoch loss:  4.354968816041946\n",
            "Dise:  0.7453181222081184\n",
            "----------Validation----------\n"
          ]
        },
        {
          "output_type": "stream",
          "name": "stderr",
          "text": [
            "2it [00:00, 10.51it/s]\n"
          ]
        },
        {
          "output_type": "stream",
          "name": "stdout",
          "text": [
            "Epoch:391 Val Dise:  0.641903281211853\n",
            "Epoch 393 of 400\n",
            "Training\n"
          ]
        },
        {
          "output_type": "stream",
          "name": "stderr",
          "text": [
            "8it [00:03,  2.35it/s]\n"
          ]
        },
        {
          "output_type": "stream",
          "name": "stdout",
          "text": [
            "Epoch loss:  4.4672925770282745\n",
            "Dise:  0.7451271414756775\n",
            "----------Validation----------\n"
          ]
        },
        {
          "output_type": "stream",
          "name": "stderr",
          "text": [
            "2it [00:00, 10.30it/s]\n"
          ]
        },
        {
          "output_type": "stream",
          "name": "stdout",
          "text": [
            "Epoch:392 Val Dise:  0.6667918264865875\n",
            "Epoch 394 of 400\n",
            "Training\n"
          ]
        },
        {
          "output_type": "stream",
          "name": "stderr",
          "text": [
            "8it [00:03,  2.30it/s]\n"
          ]
        },
        {
          "output_type": "stream",
          "name": "stdout",
          "text": [
            "Epoch loss:  4.572879880666733\n",
            "Dise:  0.7417249828577042\n",
            "----------Validation----------\n"
          ]
        },
        {
          "output_type": "stream",
          "name": "stderr",
          "text": [
            "2it [00:00, 10.49it/s]\n"
          ]
        },
        {
          "output_type": "stream",
          "name": "stdout",
          "text": [
            "Epoch:393 Val Dise:  0.6448005437850952\n",
            "Epoch 395 of 400\n",
            "Training\n"
          ]
        },
        {
          "output_type": "stream",
          "name": "stderr",
          "text": [
            "8it [00:03,  2.33it/s]\n"
          ]
        },
        {
          "output_type": "stream",
          "name": "stdout",
          "text": [
            "Epoch loss:  4.485668301582336\n",
            "Dise:  0.7390243634581566\n",
            "----------Validation----------\n"
          ]
        },
        {
          "output_type": "stream",
          "name": "stderr",
          "text": [
            "2it [00:00, 10.89it/s]\n"
          ]
        },
        {
          "output_type": "stream",
          "name": "stdout",
          "text": [
            "Epoch:394 Val Dise:  0.6279324293136597\n",
            "Epoch 396 of 400\n",
            "Training\n"
          ]
        },
        {
          "output_type": "stream",
          "name": "stderr",
          "text": [
            "8it [00:03,  2.23it/s]\n"
          ]
        },
        {
          "output_type": "stream",
          "name": "stdout",
          "text": [
            "Epoch loss:  4.478712171316147\n",
            "Dise:  0.7484536841511726\n",
            "----------Validation----------\n"
          ]
        },
        {
          "output_type": "stream",
          "name": "stderr",
          "text": [
            "2it [00:00, 10.68it/s]\n"
          ]
        },
        {
          "output_type": "stream",
          "name": "stdout",
          "text": [
            "Epoch:395 Val Dise:  0.6397700607776642\n",
            "Epoch 397 of 400\n",
            "Training\n"
          ]
        },
        {
          "output_type": "stream",
          "name": "stderr",
          "text": [
            "8it [00:03,  2.27it/s]\n"
          ]
        },
        {
          "output_type": "stream",
          "name": "stdout",
          "text": [
            "Epoch loss:  4.467054009437561\n",
            "Dise:  0.7313525825738907\n",
            "----------Validation----------\n"
          ]
        },
        {
          "output_type": "stream",
          "name": "stderr",
          "text": [
            "2it [00:00,  9.35it/s]\n"
          ]
        },
        {
          "output_type": "stream",
          "name": "stdout",
          "text": [
            "Epoch:396 Val Dise:  0.639270693063736\n",
            "Epoch 398 of 400\n",
            "Training\n"
          ]
        },
        {
          "output_type": "stream",
          "name": "stderr",
          "text": [
            "8it [00:03,  2.17it/s]\n"
          ]
        },
        {
          "output_type": "stream",
          "name": "stdout",
          "text": [
            "Epoch loss:  4.591076999902725\n",
            "Dise:  0.7449644729495049\n",
            "----------Validation----------\n"
          ]
        },
        {
          "output_type": "stream",
          "name": "stderr",
          "text": [
            "2it [00:00, 10.37it/s]\n"
          ]
        },
        {
          "output_type": "stream",
          "name": "stdout",
          "text": [
            "Epoch:397 Val Dise:  0.6334336400032043\n",
            "Epoch 399 of 400\n",
            "Training\n"
          ]
        },
        {
          "output_type": "stream",
          "name": "stderr",
          "text": [
            "8it [00:03,  2.19it/s]\n"
          ]
        },
        {
          "output_type": "stream",
          "name": "stdout",
          "text": [
            "Epoch loss:  4.251965492963791\n",
            "Dise:  0.7545431703329086\n",
            "----------Validation----------\n"
          ]
        },
        {
          "output_type": "stream",
          "name": "stderr",
          "text": [
            "2it [00:00, 10.36it/s]\n"
          ]
        },
        {
          "output_type": "stream",
          "name": "stdout",
          "text": [
            "Epoch:398 Val Dise:  0.6563754677772522\n",
            "Epoch 400 of 400\n",
            "Training\n"
          ]
        },
        {
          "output_type": "stream",
          "name": "stderr",
          "text": [
            "8it [00:03,  2.22it/s]\n"
          ]
        },
        {
          "output_type": "stream",
          "name": "stdout",
          "text": [
            "Epoch loss:  4.339008212089539\n",
            "Dise:  0.7600039914250374\n",
            "----------Validation----------\n"
          ]
        },
        {
          "output_type": "stream",
          "name": "stderr",
          "text": [
            "2it [00:00, 10.69it/s]\n"
          ]
        },
        {
          "output_type": "stream",
          "name": "stdout",
          "text": [
            "Epoch:399 Val Dise:  0.6350284516811371\n"
          ]
        }
      ],
      "source": [
        "if __name__ == '__main__':\n",
        "    train_ds = CoNSePDataset(\n",
        "            _train,\n",
        "            a = True,\n",
        "        )\n",
        "\n",
        "\n",
        "    train_data_loader = DataLoader(train_ds, batch_size=16, shuffle=True)\n",
        "\n",
        "    test_ds = CoNSePDataset(\n",
        "            _test,\n",
        "            a = False,\n",
        "        )\n",
        "\n",
        "    test_data_loader = DataLoader(test_ds, batch_size=16, shuffle=False)\n",
        "\n",
        "\n",
        "    train_accuracy = []\n",
        "    epochs = 400\n",
        "    for epoch in range(epochs):\n",
        "        print(f\"Epoch {epoch+1} of 400\")\n",
        "        train_epoch_acc = fit(epoch, model, train_data_loader, test_data_loader)\n",
        "        train_accuracy.append(train_epoch_acc)\n",
        "\n",
        "        if (epoch+1) % 10 == 0:\n",
        "            state = {'epoch': epoch, 'state_dict': model.state_dict(),'optimizer': optimizer.state_dict()}\n",
        "            torch.save(state, 'datathon.pth')\n"
      ]
    },
    {
      "cell_type": "code",
      "source": [
        "shutil.copy('/content/datathon.pth', '/content/drive/Shareddrives/hackathon/modal/')"
      ],
      "metadata": {
        "colab": {
          "base_uri": "https://localhost:8080/",
          "height": 35
        },
        "id": "3-DwKK3hC4FX",
        "outputId": "5c8dde5f-39ae-450b-f83d-98655a167d29"
      },
      "execution_count": null,
      "outputs": [
        {
          "output_type": "execute_result",
          "data": {
            "text/plain": [
              "'/content/drive/Shareddrives/hackathon/modal/datathon.pth'"
            ],
            "application/vnd.google.colaboratory.intrinsic+json": {
              "type": "string"
            }
          },
          "metadata": {},
          "execution_count": 38
        }
      ]
    },
    {
      "cell_type": "code",
      "source": [
        "import numpy as np\n",
        "\n",
        "def intersect_and_union(pred_label, label, num_classes, ignore_index):\n",
        "    mask = (label != ignore_index)\n",
        "    pred_label = pred_label[mask]\n",
        "    label = label[mask]\n",
        "\n",
        "    intersect = pred_label[pred_label == label]\n",
        "    area_intersect, _ = np.histogram(\n",
        "        intersect, bins=np.arange(num_classes + 1))\n",
        "    area_pred_label, _ = np.histogram(\n",
        "        pred_label, bins=np.arange(num_classes + 1))\n",
        "    area_label, _ = np.histogram(label, bins=np.arange(num_classes + 1))\n",
        "    area_union = area_pred_label + area_label - area_intersect\n",
        "\n",
        "    return area_intersect, area_union, area_pred_label, area_label\n",
        "\n",
        "\n",
        "def mean_iou(results, gt_seg_maps, num_classes, ignore_index):\n",
        "    num_imgs = len(results)\n",
        "    assert len(gt_seg_maps) == num_imgs\n",
        "    total_area_intersect = np.zeros((num_classes, ), dtype=np.float)\n",
        "    total_area_union = np.zeros((num_classes, ), dtype=np.float)\n",
        "    total_area_pred_label = np.zeros((num_classes, ), dtype=np.float)\n",
        "    total_area_label = np.zeros((num_classes, ), dtype=np.float)\n",
        "    for i in range(num_imgs):\n",
        "        area_intersect, area_union, area_pred_label, area_label = \\\n",
        "            intersect_and_union(results[i], gt_seg_maps[i], num_classes,\n",
        "                                ignore_index=ignore_index)\n",
        "        total_area_intersect += area_intersect\n",
        "        total_area_union += area_union\n",
        "        total_area_pred_label += area_pred_label\n",
        "        total_area_label += area_label\n",
        "    all_acc = total_area_intersect.sum() / total_area_label.sum()\n",
        "    acc = total_area_intersect / total_area_label\n",
        "    iou = total_area_intersect / total_area_union\n",
        "\n",
        "    return iou"
      ],
      "metadata": {
        "id": "8BfRlMDdRdQ6"
      },
      "execution_count": null,
      "outputs": []
    },
    {
      "cell_type": "code",
      "source": [
        "test_ds = CoNSePDataset(\n",
        "        _test,\n",
        "        a = True,\n",
        "    )\n",
        "\n",
        "test_data_loader = DataLoader(test_ds, batch_size=1, shuffle=False)"
      ],
      "metadata": {
        "id": "L5FJWrzYNPdY"
      },
      "execution_count": null,
      "outputs": []
    },
    {
      "cell_type": "code",
      "source": [
        "model = Lanenet()\n",
        "network = torch.load('datathon.pth')\n",
        "model.load_state_dict(network['state_dict'])\n",
        "model.cuda()\n",
        "model.eval()\n",
        "\n",
        "iou = []\n",
        "miou = []\n",
        "masks = []\n",
        "with torch.no_grad():\n",
        "    for i, data in enumerate(test_data_loader):\n",
        "        x = data[0].cuda()\n",
        "        y = data[1].numpy().argmax(1)\n",
        "\n",
        "        y_hat = torch.argmax(torch.sigmoid(model(x)).cpu(), 1).numpy()\n",
        "\n",
        "        masks.append(y_hat[0])\n",
        "\n",
        "        # binary_yhat = 1 - y_hat[0, 0, :,:]\n",
        "        # binary_yhat = (binary_yhat>0.3).astype('float32')\n",
        "\n",
        "        # binary_y = 1 - y[0, 0, :, :]\n",
        "\n",
        "        iou.append(mean_iou(y_hat, y, 4, 0))\n",
        "\n",
        "        # miou.append(jaccard_multi(y_hat, torch.argmax(y, 1)))\n",
        "\n",
        "print(iou)\n",
        "print('IoU: ', sum(iou)/len(iou))\n",
        "# print('MIoU ', sum(miou)/len(miou))\n",
        "\n",
        "\n",
        "\n",
        "\n",
        "\n",
        "\n",
        "\n",
        "        \n",
        "\n",
        "\n",
        "\n"
      ],
      "metadata": {
        "colab": {
          "base_uri": "https://localhost:8080/"
        },
        "id": "BcF-4MUuNPao",
        "outputId": "b4b274e3-5bed-4b83-e75a-206a3f51ea6e"
      },
      "execution_count": null,
      "outputs": [
        {
          "output_type": "stream",
          "name": "stderr",
          "text": [
            "/usr/local/lib/python3.7/dist-packages/torch/nn/functional.py:749: UserWarning: Note that order of the arguments: ceil_mode and return_indices will changeto match the args list in nn.MaxPool2d in a future release.\n",
            "  warnings.warn(\"Note that order of the arguments: ceil_mode and return_indices will change\"\n",
            "/usr/local/lib/python3.7/dist-packages/ipykernel_launcher.py:22: DeprecationWarning: `np.float` is a deprecated alias for the builtin `float`. To silence this warning, use `float` by itself. Doing this will not modify any behavior and is safe. If you specifically wanted the numpy scalar type, use `np.float64` here.\n",
            "Deprecated in NumPy 1.20; for more details and guidance: https://numpy.org/devdocs/release/1.20.0-notes.html#deprecations\n",
            "/usr/local/lib/python3.7/dist-packages/ipykernel_launcher.py:23: DeprecationWarning: `np.float` is a deprecated alias for the builtin `float`. To silence this warning, use `float` by itself. Doing this will not modify any behavior and is safe. If you specifically wanted the numpy scalar type, use `np.float64` here.\n",
            "Deprecated in NumPy 1.20; for more details and guidance: https://numpy.org/devdocs/release/1.20.0-notes.html#deprecations\n",
            "/usr/local/lib/python3.7/dist-packages/ipykernel_launcher.py:24: DeprecationWarning: `np.float` is a deprecated alias for the builtin `float`. To silence this warning, use `float` by itself. Doing this will not modify any behavior and is safe. If you specifically wanted the numpy scalar type, use `np.float64` here.\n",
            "Deprecated in NumPy 1.20; for more details and guidance: https://numpy.org/devdocs/release/1.20.0-notes.html#deprecations\n",
            "/usr/local/lib/python3.7/dist-packages/ipykernel_launcher.py:25: DeprecationWarning: `np.float` is a deprecated alias for the builtin `float`. To silence this warning, use `float` by itself. Doing this will not modify any behavior and is safe. If you specifically wanted the numpy scalar type, use `np.float64` here.\n",
            "Deprecated in NumPy 1.20; for more details and guidance: https://numpy.org/devdocs/release/1.20.0-notes.html#deprecations\n",
            "/usr/local/lib/python3.7/dist-packages/ipykernel_launcher.py:33: RuntimeWarning: invalid value encountered in double_scalars\n",
            "/usr/local/lib/python3.7/dist-packages/ipykernel_launcher.py:34: RuntimeWarning: invalid value encountered in true_divide\n",
            "/usr/local/lib/python3.7/dist-packages/ipykernel_launcher.py:35: RuntimeWarning: invalid value encountered in true_divide\n"
          ]
        },
        {
          "output_type": "stream",
          "name": "stdout",
          "text": [
            "[array([nan, nan, nan, nan]), array([nan, nan, nan, nan]), array([nan, nan, nan, nan]), array([nan, nan, nan, nan]), array([nan, nan, nan, nan]), array([nan, nan, nan, nan]), array([nan, nan, nan, nan]), array([nan, nan, nan, nan]), array([nan, nan, nan, nan]), array([nan, nan, nan, nan]), array([nan, nan, nan, nan]), array([nan, nan, nan, nan]), array([nan, nan, nan, nan]), array([nan, nan, nan, nan]), array([nan, nan, nan, nan]), array([nan, nan, nan, nan]), array([nan, nan, nan, nan]), array([nan, nan, nan, nan]), array([nan, nan, nan, nan]), array([nan, nan, nan, nan])]\n",
            "IoU:  [nan nan nan nan]\n"
          ]
        }
      ]
    },
    {
      "cell_type": "code",
      "source": [
        "plt.imshow(masks[2])"
      ],
      "metadata": {
        "colab": {
          "base_uri": "https://localhost:8080/",
          "height": 285
        },
        "id": "Xa1dNXDWUn44",
        "outputId": "490e1ba9-cca0-4f9a-c4cb-8d4f5bcea3fc"
      },
      "execution_count": null,
      "outputs": [
        {
          "output_type": "execute_result",
          "data": {
            "text/plain": [
              "<matplotlib.image.AxesImage at 0x7f24d19764d0>"
            ]
          },
          "metadata": {},
          "execution_count": 87
        },
        {
          "output_type": "display_data",
          "data": {
            "text/plain": [
              "<Figure size 432x288 with 1 Axes>"
            ],
            "image/png": "[encoded data removed]"
          },
          "metadata": {
            "needs_background": "light"
          }
        }
      ]
    },
    {
      "cell_type": "code",
      "source": [
        ""
      ],
      "metadata": {
        "id": "YEzZ9RmgUn2K"
      },
      "execution_count": null,
      "outputs": []
    },
    {
      "cell_type": "code",
      "execution_count": null,
      "metadata": {
        "colab": {
          "base_uri": "https://localhost:8080/"
        },
        "id": "CetXzf5gKCdR",
        "outputId": "97f91e55-ff97-4b16-9d41-7fcf34d62b34"
      },
      "outputs": [
        {
          "output_type": "stream",
          "name": "stderr",
          "text": [
            "0it [00:00, ?it/s]\n"
          ]
        }
      ],
      "source": [
        "\n",
        "ori = []\n",
        "pred = []\n",
        "binary = []\n",
        "model.eval()\n",
        "for i, data in tqdm(enumerate(test_loader)):\n",
        "    x = data[0].cuda()\n",
        "    y = np.transpose(data[1].cpu().detach().numpy(), (0, 2, 3, 1))\n",
        "    p1 = model(x)\n",
        "    p1 = torch.sigmoid(p1)\n",
        "    p1 = np.transpose((p1.cpu().detach().numpy() > 0.5),(0, 2, 3, 1))\n",
        "\n",
        "    # p2 = torch.sigmoid(p2)\n",
        "    # p2 = np.transpose((p2.cpu().detach().numpy()),(0, 2, 3, 1))\n",
        "\n",
        "\n",
        "    ori.append(y.astype('int8'))\n",
        "    pred.append(p1.astype('uint8'))\n",
        "    # binary.append(p2[0][:,:,0].astype('float32'))\n",
        "    break\n",
        "\n",
        "  "
      ]
    },
    {
      "cell_type": "code",
      "source": [
        ""
      ],
      "metadata": {
        "id": "soxi3j91MRvE"
      },
      "execution_count": null,
      "outputs": []
    },
    {
      "cell_type": "markdown",
      "source": [
        "## Convert to some color map"
      ],
      "metadata": {
        "id": "cl-yCJ6yMqMs"
      }
    },
    {
      "cell_type": "code",
      "source": [
        "import os\n",
        "import glob\n",
        "import cv2"
      ],
      "metadata": {
        "id": "APOQHAaSGtPq"
      },
      "execution_count": null,
      "outputs": []
    },
    {
      "cell_type": "code",
      "source": [
        "color_dict = {\n",
        "    0: (0, 0, 0), # background\n",
        "    1:(255, 25, 122), #bricks\n",
        "    2:(225, 187, 100), #pvc\n",
        "    3:(89, 100, 6), # wires\n",
        "    4:(0,255,255) #rebar\n",
        "    5:(255,10,10)\n",
        "    }"
      ],
      "metadata": {
        "id": "9ZH607Y4IVUF"
      },
      "execution_count": null,
      "outputs": []
    },
    {
      "cell_type": "code",
      "source": [
        "def convert_to_rgb(path, color):\n",
        "    img = cv2.imread(path)\n",
        "    img = img/255\n",
        "    img[:,:,0] = img[:,:,0]*color[0]\n",
        "    img[:,:,1] = img[:,:,1]*color[1]\n",
        "    img[:,:,2] = img[:,:,2]*color[2]\n",
        "\n",
        "    return img.astype('uint8')\n",
        "    \n",
        "    \n"
      ],
      "metadata": {
        "id": "Dkzq5AceI_-l"
      },
      "execution_count": null,
      "outputs": []
    },
    {
      "cell_type": "code",
      "source": [
        "brick_path = sorted(glob.glob('/content/drive/Shareddrives/hackathon/Training datasets only/masks/Rebar/*.jpg'))\n",
        "brick_path.sort()"
      ],
      "metadata": {
        "id": "pZ2bz5wEJ5ii"
      },
      "execution_count": null,
      "outputs": []
    },
    {
      "cell_type": "code",
      "source": [
        "len(brick_path)"
      ],
      "metadata": {
        "id": "i_MMzumvN6NF",
        "outputId": "0a86f8d4-9e70-46ad-ca10-8e2939237ac2",
        "colab": {
          "base_uri": "https://localhost:8080/"
        }
      },
      "execution_count": null,
      "outputs": [
        {
          "output_type": "execute_result",
          "data": {
            "text/plain": [
              "56"
            ]
          },
          "metadata": {},
          "execution_count": 8
        }
      ]
    },
    {
      "cell_type": "code",
      "source": [
        "color_path = '/content/drive/Shareddrives/hackathon/Training datasets only/Multi_class_mask/Rebar/'"
      ],
      "metadata": {
        "id": "GZHKTHSGKLu0"
      },
      "execution_count": null,
      "outputs": []
    },
    {
      "cell_type": "code",
      "source": [
        "for i in brick_path:\n",
        "    p = i\n",
        "    p = p.split('/')\n",
        "    name  = p[-1]\n",
        "    img = convert_to_rgb(i, color_dict[4])\n",
        "    cv2.imwrite(color_path+name, img)"
      ],
      "metadata": {
        "id": "j0i1PXjkKSJO"
      },
      "execution_count": null,
      "outputs": []
    },
    {
      "cell_type": "code",
      "source": [
        "for i, j in zip(x, y):\n",
        "    pass\n",
        "    "
      ],
      "metadata": {
        "id": "MWM434TZLTj8"
      },
      "execution_count": null,
      "outputs": []
    },
    {
      "cell_type": "code",
      "source": [
        ""
      ],
      "metadata": {
        "id": "GrurD-pINCIb"
      },
      "execution_count": null,
      "outputs": []
    }
  ],
  "metadata": {
    "accelerator": "GPU",
    "colab": {
      "collapsed_sections": [],
      "machine_shape": "hm",
      "name": "Model for prediction.ipynb",
      "provenance": [],
      "include_colab_link": true
    },
    "kernelspec": {
      "display_name": "Python 3",
      "language": "python",
      "name": "python3"
    },
    "language_info": {
      "codemirror_mode": {
        "name": "ipython",
        "version": 3
      },
      "file_extension": ".py",
      "mimetype": "text/x-python",
      "name": "python",
      "nbconvert_exporter": "python",
      "pygments_lexer": "ipython3",
      "version": "3.7.6"
    },
    "papermill": {
      "duration": 9882.13444,
      "end_time": "2020-10-13T20:36:33.759698",
      "environment_variables": {},
      "exception": null,
      "input_path": "__notebook__.ipynb",
      "output_path": "__notebook__.ipynb",
      "parameters": {},
      "start_time": "2020-10-13T17:51:51.625258",
      "version": "2.1.0"
    }
  },
  "nbformat": 4,
  "nbformat_minor": 0
}